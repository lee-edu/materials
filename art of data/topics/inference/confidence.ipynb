{
 "cells": [
  {
   "cell_type": "markdown",
   "metadata": {},
   "source": [
    "# Estimation\n",
    "So far we've only been looking at single statistics; for example, the mean of the sampling distribution of sample means. We can also look at other attributes of sample distributions!\n",
    "\n",
    "An ornithologist is researching sparrows in NYC. After conducting multiple studies, they conclude that the sampling distribution of sample means of sparrow weight has a mean of $1oz$ and a standard deviation of $0.15oz$.\n",
    "1. Give a **point estimate** (a single number) of the actual average weight of all sparrows in NYC.\n",
    "2. Give an **interval estimate** (a range) of the actual average weight of all sparrows in NYC.\n",
    "3. What attributes of a sampling distribution could you use to construct a good interval estimate?\n",
    "4. What gives you more information: a point estimate or an interval estimate?"
   ]
  },
  {
   "cell_type": "markdown",
   "metadata": {},
   "source": [
    "# Confidence Intervals\n",
    "A **confidence interval** is an interval estimate that we believe with some degree of confidence to contain the population parameter.\n",
    "\n",
    "## Calculating Confidence Intervals\n",
    "There are multiple ways to calculate confidence intervals; we are going to focus on a method called **bootstrapping**.\n",
    "\n",
    "### Bootstrap\n",
    "A bootstrap makes the assumption that your sample accurately represents the population. You then *resample* your sample many times to form a sampling distribution.\n",
    "\n",
    "5. Based on the short description above, what might be a major source of error for the bootstrap method?"
   ]
  },
  {
   "cell_type": "markdown",
   "metadata": {},
   "source": [
    "# Pengalien Bootstrap\n",
    "This time the Pengaliens are interested in the body mass of Earth's penguins, which are all conveniently recorded in our penguins dataset.\n",
    "\n",
    "6. What is the *median* body mass of all penguins on Earth?"
   ]
  },
  {
   "cell_type": "markdown",
   "metadata": {},
   "source": [
    "7. The Pengalien research team is running low on funds, and only have enough resources to beam up one more sample of 50 penguins. They will have to base all their estimates on this one sample.\n",
    "\n",
    "    Create a sample of 50 penguins. What is the median body mass of this sample?"
   ]
  },
  {
   "cell_type": "markdown",
   "metadata": {},
   "source": [
    "8. The next step of the bootstrap method is to **resample** -- the Pengaliens will generate more samples *of the same size* from their one sample of 50 penguins. However, these **bootstrap penguins** are taken *with replacement*. The same penguin is allowed to show up in a resample (bootstrap) more than once!\n",
    "    1. Write a method `bootstrap_sample()` that returns the median body mass of a bootstrap sample.\n",
    "    2. Write a method `bootstrap_samples(N)` that returns a list of the results of running `bootstrap_sample()` `N` times.\n",
    "    3. Why don't we take `n` (sample size) as a parameter?"
   ]
  },
  {
   "cell_type": "markdown",
   "metadata": {},
   "source": [
    "## Constructing the Confidence Interval\n",
    "We can now use the bootstraps to get a confidence interval. All we have to do is sort the resulting list from `bootstrap_samples`. Our $X\\%$ confidence interval is the middle $X\\%$ of that list.\n",
    "\n",
    "9. To get the $80\\%$ confidence interval, we would use the $10th$ and $90th$ percentiles as our bounds. Which percentiles would we use if we wanted the $90\\%$ confidence interval?"
   ]
  },
  {
   "cell_type": "markdown",
   "metadata": {},
   "source": [
    "10. Write code! Suppose we resample 1000 times ($N=1000$).\n",
    "      1. What is the $90\\%$ confidence interval of median penguin body mass?\n",
    "      2. What is the $95\\%$ confidence interval of median penguin body mass?"
   ]
  },
  {
   "cell_type": "markdown",
   "metadata": {},
   "source": [
    "11. What happens to a confidence interval as you increase the degree of confidence? Why does that happen?"
   ]
  },
  {
   "cell_type": "markdown",
   "metadata": {},
   "source": [
    "# Summary"
   ]
  },
  {
   "cell_type": "markdown",
   "metadata": {},
   "source": [
    "12. Suppose you are a researcher with a single sample of *n* subjects. Describe step-by-step instructions for calculating the $99\\%$ confidence interval using the bootstrap method."
   ]
  }
 ],
 "metadata": {
  "interpreter": {
   "hash": "aee8b7b246df8f9039afb4144a1f6fd8d2ca17a180786b69acc140d282b71a49"
  },
  "kernelspec": {
   "display_name": "Python 3.9.10 64-bit",
   "language": "python",
   "name": "python3"
  },
  "language_info": {
   "name": "python",
   "version": "3.9.10"
  },
  "orig_nbformat": 4
 },
 "nbformat": 4,
 "nbformat_minor": 2
}
