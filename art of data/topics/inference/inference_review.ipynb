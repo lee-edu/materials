{
 "metadata": {
  "language_info": {
   "codemirror_mode": {
    "name": "ipython",
    "version": 3
   },
   "file_extension": ".py",
   "mimetype": "text/x-python",
   "name": "python",
   "nbconvert_exporter": "python",
   "pygments_lexer": "ipython3",
   "version": 3
  },
  "orig_nbformat": 2
 },
 "nbformat": 4,
 "nbformat_minor": 2,
 "cells": [
  {
   "source": [
    "# Review\n",
    "Review!"
   ],
   "cell_type": "markdown",
   "metadata": {}
  },
  {
   "source": [
    "1. A tea shop has the following options on the menu. Since you are feeling very indecisive, you decide to use a random generator to choose your drink."
   ],
   "cell_type": "markdown",
   "metadata": {}
  }
 ]
}