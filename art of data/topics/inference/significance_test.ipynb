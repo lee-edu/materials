{
 "metadata": {
  "language_info": {
   "codemirror_mode": {
    "name": "ipython",
    "version": 3
   },
   "file_extension": ".py",
   "mimetype": "text/x-python",
   "name": "python",
   "nbconvert_exporter": "python",
   "pygments_lexer": "ipython3",
   "version": "3.9.1"
  },
  "orig_nbformat": 2,
  "kernelspec": {
   "name": "python391jvsc74a57bd06e942df4d85f9e057d39df3ee298da62417367022ee9076991545a9f83591799",
   "display_name": "Python 3.9.1 64-bit ('3.9.1': pyenv)"
  },
  "metadata": {
   "interpreter": {
    "hash": "6e942df4d85f9e057d39df3ee298da62417367022ee9076991545a9f83591799"
   }
  }
 },
 "nbformat": 4,
 "nbformat_minor": 2,
 "cells": [
  {
   "source": [
    "# Review\n",
    "\n",
    "  1. What happens to the standard deviation of a sampling distribution when you increase the sample size?\n",
    "  "
   ],
   "cell_type": "markdown",
   "metadata": {}
  },
  {
   "source": [
    "  2. The code below describes the probability distribution `P_2(x)` for some random variable X.\n",
    "\n",
    "    a. What is the sample space?\n",
    "\n",
    "    b. What is the expected value of X?\n",
    "    "
   ],
   "cell_type": "markdown",
   "metadata": {}
  },
  {
   "cell_type": "code",
   "execution_count": 43,
   "metadata": {},
   "outputs": [],
   "source": [
    "import numpy as np\n",
    "\n",
    "X = np.arange(-50, 50)\n",
    "Y = np.abs(np.sin(X/7))\n",
    "Y = Y / np.sum(Y)\n",
    "\n",
    "'''\n",
    "from matplotlib import pyplot as plt\n",
    "plt.plot(X,Y)\n",
    "'''\n",
    "\n",
    "def P_2(x):\n",
    "    for i in range(len(X)):\n",
    "        if X[i] == x:\n",
    "            return Y[i]\n",
    "    return 0"
   ]
  },
  {
   "source": [
    "  3. A water sommelier is given random samples of tasty water from different brands. After conducting multiple tastings, they conclude that the sampling distribution of sample means of water pH level has a mean of 7.5 and a standard deviation of 0.1.\n",
    "\n",
    "    a. Give a **point estimate** of the average pH level of tasty water.\n",
    "\n",
    "    b. Give an **interval estimate** of the average pH level of tasty water.\n",
    "    "
   ],
   "cell_type": "markdown",
   "metadata": {}
  },
  {
   "source": [
    "  4. The code below contains a list of pollen levels for 30 days in April, where 0 is low pollen and 12 is high pollen. Use the bootstrap method to find the 95% confidence interval for the mean pollen count in April."
   ],
   "cell_type": "markdown",
   "metadata": {}
  },
  {
   "cell_type": "code",
   "execution_count": null,
   "metadata": {},
   "outputs": [],
   "source": [
    "pollen = [8.4, 8.7, 9.9, 9.9, 8.4, 9.8, 9.7, 9.1, 10.3, 8.2, 8.6, 8.8, 10.7, 8.9, 9.2, 2.7, 10.6, 10.8, 8.9, 8.5, 8.5, 9.8, 10.1, 10.0, 10.1, 9.1, 9.2, 6.8, 10.5, 10.8]"
   ]
  },
  {
   "source": [
    "  5. What is the difference between a null hypothesis and an alternative hypothesis? Give an example of each."
   ],
   "cell_type": "markdown",
   "metadata": {}
  },
  {
   "source": [
    "# Significance Testing\n",
    "How do we talk about the **significance** of our data? For example, can we say for sure that one population parameter is greater than the other? We'll walk through the steps of a **significance test** with some lovely penguins.\n",
    "\n",
    "## Step One: Assumptions\n",
    "This time we are just regular scientists on Earth who have collected a sample of roughly 350 penguins. We work for a nutrition company, and we want to know how much a penguin's species affects its body mass. The *most important assumption* that significance testing relies on is that the sample was *randomly* collected!"
   ],
   "cell_type": "markdown",
   "metadata": {}
  },
  {
   "source": [
    "  6. Give an example of another assumption that we are making about the sample, and how that might negatively affect the validity of our experiment."
   ],
   "cell_type": "markdown",
   "metadata": {}
  },
  {
   "source": [
    "## Step Two: Hypotheses\n",
    "What statement are we trying to make about penguins? In this scenario, we are interested in whether Gentoo penguins are heavier than Adelie penguins.\n",
    "\n",
    "Our null hypothesis (denoted by $H_0$):  \n",
    "Gentoo penguins are *not* heavier than Adelie penguins.\n",
    "\n",
    "Our alternative hypothesis (denoted by $H_a$):  \n",
    "Gentoo penguins *are* heavier than Adelie penguins."
   ],
   "cell_type": "markdown",
   "metadata": {}
  },
  {
   "source": [
    "  7. What would the null and alternative hypotheses be if we were interested in whether Adelie penguins had shorter bills than Chinstrap penguins?"
   ],
   "cell_type": "markdown",
   "metadata": {}
  },
  {
   "source": [
    "## Step Three: Getting a P-Value\n",
    "We have to show strong evidence against the null hypothesis. In this example, our null hypothesis states that Gentoo penguins aren't heavier than Adelie penguins.\n",
    "\n",
    "First, we have to figure out what the sampling distribution of Adelie penguin body mass looks like. Since we are not able to gather more information about penguins, we can bootstrap our sample to emulate a sampling distribution.\n"
   ],
   "cell_type": "markdown",
   "metadata": {}
  },
  {
   "source": [
    "  8. Create a sampling distripution of sample body mass means by using bootstrap samples of Adelie penguins. Use `seaborn` or `altair` to visualize it.  \n",
    "  *Hint: First fiter out Adelie penguins, then count how many Adelie penguins there are in order to figure out the size of the bootstrap samples.*"
   ],
   "cell_type": "markdown",
   "metadata": {}
  },
  {
   "cell_type": "code",
   "execution_count": 1,
   "metadata": {},
   "outputs": [
    {
     "output_type": "execute_result",
     "data": {
      "text/plain": [
       "    species     island  bill_length_mm  ...  body_mass_g     sex  year\n",
       "0    Adelie  Torgersen            39.1  ...       3750.0    male  2007\n",
       "1    Adelie  Torgersen            39.5  ...       3800.0  female  2007\n",
       "2    Adelie  Torgersen            40.3  ...       3250.0  female  2007\n",
       "3    Adelie  Torgersen             NaN  ...          NaN     NaN  2007\n",
       "4    Adelie  Torgersen            36.7  ...       3450.0  female  2007\n",
       "..      ...        ...             ...  ...          ...     ...   ...\n",
       "147  Adelie      Dream            36.6  ...       3475.0  female  2009\n",
       "148  Adelie      Dream            36.0  ...       3450.0  female  2009\n",
       "149  Adelie      Dream            37.8  ...       3750.0    male  2009\n",
       "150  Adelie      Dream            36.0  ...       3700.0  female  2009\n",
       "151  Adelie      Dream            41.5  ...       4000.0    male  2009\n",
       "\n",
       "[152 rows x 8 columns]"
      ],
      "text/html": "<div>\n<style scoped>\n    .dataframe tbody tr th:only-of-type {\n        vertical-align: middle;\n    }\n\n    .dataframe tbody tr th {\n        vertical-align: top;\n    }\n\n    .dataframe thead th {\n        text-align: right;\n    }\n</style>\n<table border=\"1\" class=\"dataframe\">\n  <thead>\n    <tr style=\"text-align: right;\">\n      <th></th>\n      <th>species</th>\n      <th>island</th>\n      <th>bill_length_mm</th>\n      <th>bill_depth_mm</th>\n      <th>flipper_length_mm</th>\n      <th>body_mass_g</th>\n      <th>sex</th>\n      <th>year</th>\n    </tr>\n  </thead>\n  <tbody>\n    <tr>\n      <th>0</th>\n      <td>Adelie</td>\n      <td>Torgersen</td>\n      <td>39.1</td>\n      <td>18.7</td>\n      <td>181.0</td>\n      <td>3750.0</td>\n      <td>male</td>\n      <td>2007</td>\n    </tr>\n    <tr>\n      <th>1</th>\n      <td>Adelie</td>\n      <td>Torgersen</td>\n      <td>39.5</td>\n      <td>17.4</td>\n      <td>186.0</td>\n      <td>3800.0</td>\n      <td>female</td>\n      <td>2007</td>\n    </tr>\n    <tr>\n      <th>2</th>\n      <td>Adelie</td>\n      <td>Torgersen</td>\n      <td>40.3</td>\n      <td>18.0</td>\n      <td>195.0</td>\n      <td>3250.0</td>\n      <td>female</td>\n      <td>2007</td>\n    </tr>\n    <tr>\n      <th>3</th>\n      <td>Adelie</td>\n      <td>Torgersen</td>\n      <td>NaN</td>\n      <td>NaN</td>\n      <td>NaN</td>\n      <td>NaN</td>\n      <td>NaN</td>\n      <td>2007</td>\n    </tr>\n    <tr>\n      <th>4</th>\n      <td>Adelie</td>\n      <td>Torgersen</td>\n      <td>36.7</td>\n      <td>19.3</td>\n      <td>193.0</td>\n      <td>3450.0</td>\n      <td>female</td>\n      <td>2007</td>\n    </tr>\n    <tr>\n      <th>...</th>\n      <td>...</td>\n      <td>...</td>\n      <td>...</td>\n      <td>...</td>\n      <td>...</td>\n      <td>...</td>\n      <td>...</td>\n      <td>...</td>\n    </tr>\n    <tr>\n      <th>147</th>\n      <td>Adelie</td>\n      <td>Dream</td>\n      <td>36.6</td>\n      <td>18.4</td>\n      <td>184.0</td>\n      <td>3475.0</td>\n      <td>female</td>\n      <td>2009</td>\n    </tr>\n    <tr>\n      <th>148</th>\n      <td>Adelie</td>\n      <td>Dream</td>\n      <td>36.0</td>\n      <td>17.8</td>\n      <td>195.0</td>\n      <td>3450.0</td>\n      <td>female</td>\n      <td>2009</td>\n    </tr>\n    <tr>\n      <th>149</th>\n      <td>Adelie</td>\n      <td>Dream</td>\n      <td>37.8</td>\n      <td>18.1</td>\n      <td>193.0</td>\n      <td>3750.0</td>\n      <td>male</td>\n      <td>2009</td>\n    </tr>\n    <tr>\n      <th>150</th>\n      <td>Adelie</td>\n      <td>Dream</td>\n      <td>36.0</td>\n      <td>17.1</td>\n      <td>187.0</td>\n      <td>3700.0</td>\n      <td>female</td>\n      <td>2009</td>\n    </tr>\n    <tr>\n      <th>151</th>\n      <td>Adelie</td>\n      <td>Dream</td>\n      <td>41.5</td>\n      <td>18.5</td>\n      <td>201.0</td>\n      <td>4000.0</td>\n      <td>male</td>\n      <td>2009</td>\n    </tr>\n  </tbody>\n</table>\n<p>152 rows × 8 columns</p>\n</div>"
     },
     "metadata": {},
     "execution_count": 1
    }
   ],
   "source": [
    "#!pip3 install palmerpenguins\n",
    "from palmerpenguins import load_penguins\n",
    "import pandas as pd\n",
    "\n",
    "penguins = load_penguins()\n",
    "penguins[penguins['species'] == \"Adelie\"]"
   ]
  },
  {
   "source": [
    "  9. We will now calculate our **test statistic**, which is a point estimate. What is the average body mass of a Gentoo penguin?"
   ],
   "cell_type": "markdown",
   "metadata": {}
  },
  {
   "source": [
    "We now have everything we need to calculate our **p-value**, which stands for **probability value**. Using our answers to (8) and (9), we are going to examine our sampling distribution, which assumes that the null hypothesis is true, and figure out how likely it is to get our test statistic."
   ],
   "cell_type": "markdown",
   "metadata": {}
  },
  {
   "source": [
    "  10. What is the probability of a body mass *greater than or equal to* your answer to (9) given the sampling distribution from (8)? This is the **p-value**!  \n",
    "  *Hint: Just count the means in your bootstrap list!*\n",
    "  "
   ],
   "cell_type": "markdown",
   "metadata": {}
  },
  {
   "source": [
    "11. In this example, we used the mean of our sample of Gentoo penguins as our test statistic. Give an example of another test statistic that we could have used, and how that might change our results."
   ],
   "cell_type": "markdown",
   "metadata": {}
  },
  {
   "source": [
    "  12. Repeat questions 9 and 10 for Chinstrap penguins. What is the **p-value** for Chinstrap penguins?"
   ],
   "cell_type": "markdown",
   "metadata": {}
  },
  {
   "source": [
    "## Step Four: Drawing a Conclusion\n",
    "Once we have a p-value, we can *interpret* it in order to draw a conclusion about our hypotheses. A common method is to create a threshold, and if the p-value falls below that threshold, then we can reject the null hypothesis.\n",
    "\n",
    "  13. A conventional (but arbitrary) threshold is 5%. Using this threshold, do we reject the null hypothesis for Gentoo penguins? What about Chinstrap penguins?\n",
    "  "
   ],
   "cell_type": "markdown",
   "metadata": {}
  },
  {
   "source": [
    "  14. Would it be easier or harder to reject the null hypothesis if we lowered the threshold? Explain."
   ],
   "cell_type": "markdown",
   "metadata": {}
  },
  {
   "source": [
    "## Limitations\n",
    "A very common mistake is to calculate a p-value that falls below the arbitrarily decided threshold, and then use that result to make definitive statements about a population. \n",
    "\n",
    "**P-value tests can only *reject* null hypotheses, not *accept* alternative ones!**"
   ],
   "cell_type": "markdown",
   "metadata": {}
  },
  {
   "source": [
    "  15. What is another limitation of p-value tests? (i.e sample vs population, definition of p-value, etc)\n",
    "  "
   ],
   "cell_type": "markdown",
   "metadata": {}
  },
  {
   "source": [
    "## Using Confidence Intervals Instead\n",
    "Statistical inference can be done completely without p-values, despite the fact that p-values are heavily emphasized in research!"
   ],
   "cell_type": "markdown",
   "metadata": {}
  },
  {
   "source": [
    "  16. Calculate the 99% confidence interval for Gentoo body mass using the bootstrap method. Does the mean Adelie penguin body mass fall within this interval? How can we interpret this result?"
   ],
   "cell_type": "markdown",
   "metadata": {}
  },
  {
   "source": [
    "# Practice"
   ],
   "cell_type": "markdown",
   "metadata": {}
  },
  {
   "source": [
    "  17. A manufacturer claims that the tote bags they produce are made of 85% recycled material. A suspicious customer thinks that the actual percentage is significantly less. This customer gets a sample of 50 tote bags and analyzes the recycled material percentage of each bag. What are the null and alternative hypotheses in this scenario?\n",
    "  "
   ],
   "cell_type": "markdown",
   "metadata": {}
  },
  {
   "source": [
    "  18. Proponents of a 4 day work week suggest that students who go to school for 4 days instead of 5 will still perform just as well academically. To put their claim to the test, a team of researchers conduct a study on high schools throughout the country. What are the null and alternative hypotheses in this scenario?\n",
    "  "
   ],
   "cell_type": "markdown",
   "metadata": {}
  },
  {
   "source": [
    "  19. A stage magician claims to have psychic abilities. They say that they can correctly guess the suit (diamond, club, heart, or spades) of any card without looking. To prove their claim, the magician has a random skeptic go through 4 decks of cards.\n",
    "\n",
    "  a. What are the null and alternative hypotheses in this scenario?\n",
    "\n",
    "  b. Suppose that the magician correctly guessed 124/200 cards. What can you conclude?"
   ],
   "cell_type": "markdown",
   "metadata": {}
  }
 ]
}