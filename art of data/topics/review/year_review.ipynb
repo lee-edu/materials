{
 "cells": [
  {
   "cell_type": "markdown",
   "metadata": {},
   "source": [
    "1. What would the path be to a file named `larry_is_cool.csv` that is located 2 folders up from your present working directory in a folder named `larry_is_platinum_in_valorant`?\n"
   ]
  },
  {
   "cell_type": "markdown",
   "metadata": {},
   "source": [
    "2. Use this [Star Wars API](https://swapi.dev/) to find the mean height of all people in the Star Wars canon universe.\n"
   ]
  },
  {
   "cell_type": "code",
   "execution_count": 5,
   "metadata": {},
   "outputs": [
    {
     "data": {
      "text/plain": [
       "159.2"
      ]
     },
     "execution_count": 5,
     "metadata": {},
     "output_type": "execute_result"
    }
   ],
   "source": [
    "import requests\n",
    "res = requests.get(\"https://swapi.dev/api/people\")\n",
    "if res.ok:\n",
    "  people = res.json()[\"results\"]\n",
    "\n",
    "hts = [float(person[\"height\"]) for person in people]\n",
    "sum(hts)/len(hts)"
   ]
  },
  {
   "cell_type": "code",
   "execution_count": 6,
   "metadata": {},
   "outputs": [],
   "source": [
    "import requests\n",
    "url= \"https://swapi.dev/api/people/?page={0}&format=json\"\n",
    "i = 1\n",
    "hts = []\n",
    "\n",
    "res = requests.get(url.format(i))\n",
    "while res.ok and \"results\" in res.json():\n",
    "  people = res.json()[\"results\"]\n",
    "  print(people)\n",
    "  for person in people:\n",
    "    hts.append(person[\"height\"])\n",
    "\n",
    "hts"
   ]
  },
  {
   "cell_type": "markdown",
   "metadata": {},
   "source": [
    "3. What is the median height of all people in the Star Wars canon universe?"
   ]
  },
  {
   "cell_type": "markdown",
   "metadata": {},
   "source": [
    "\n",
    "4. In this case, is the mean or median a better measure of center, and why?"
   ]
  },
  {
   "cell_type": "markdown",
   "metadata": {},
   "source": [
    "\n",
    "5. Would a linear regression model reasonably convey the relationship between height and mass of all people in the Star Wars canon universe? Write code and show the scatterplot to back up your answer."
   ]
  },
  {
   "cell_type": "markdown",
   "metadata": {},
   "source": [
    "\n",
    "6. Choose two variables from the dataset to visualize. Explain your choice of marks and channels."
   ]
  },
  {
   "cell_type": "markdown",
   "metadata": {},
   "source": [
    "\n",
    "7. Use the bootstrapping method (N=1000) to find the 75% confidence interval of mean height of all people in the Star Wars canon universe."
   ]
  },
  {
   "cell_type": "markdown",
   "metadata": {},
   "source": [
    "\n",
    "8. Use list comprehension to create the sample space of rolling 2 d30s at the same time. Write a function `p_sum(n)` that returns the probability of the dice adding up to `n`."
   ]
  }
 ],
 "metadata": {
  "interpreter": {
   "hash": "aee8b7b246df8f9039afb4144a1f6fd8d2ca17a180786b69acc140d282b71a49"
  },
  "kernelspec": {
   "display_name": "Python 3.9.10 64-bit",
   "language": "python",
   "name": "python3"
  },
  "language_info": {
   "codemirror_mode": {
    "name": "ipython",
    "version": 3
   },
   "file_extension": ".py",
   "mimetype": "text/x-python",
   "name": "python",
   "nbconvert_exporter": "python",
   "pygments_lexer": "ipython3",
   "version": "3.9.10"
  },
  "orig_nbformat": 4
 },
 "nbformat": 4,
 "nbformat_minor": 2
}
