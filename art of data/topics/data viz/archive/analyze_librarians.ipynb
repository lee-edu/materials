{
 "metadata": {
  "language_info": {
   "codemirror_mode": {
    "name": "ipython",
    "version": 3
   },
   "file_extension": ".py",
   "mimetype": "text/x-python",
   "name": "python",
   "nbconvert_exporter": "python",
   "pygments_lexer": "ipython3",
   "version": "3.9.1-final"
  },
  "orig_nbformat": 2,
  "kernelspec": {
   "name": "python3",
   "display_name": "Python 3.9.1 64-bit ('.pyenv': pyenv)",
   "metadata": {
    "interpreter": {
     "hash": "74ef771a3f1831657a9e616c6f1bfab2e4b986e6ed63e240ab617e51a6c6d8d0"
    }
   }
  }
 },
 "nbformat": 4,
 "nbformat_minor": 2,
 "cells": [
  {
   "cell_type": "code",
   "execution_count": 2,
   "metadata": {},
   "outputs": [
    {
     "output_type": "execute_result",
     "data": {
      "text/plain": [
       "    state  ... location_quotient\n",
       "0      PR  ...              3.62\n",
       "1      PR  ...              3.34\n",
       "2      PR  ...              2.60\n",
       "3      PR  ...              2.49\n",
       "4      KY  ...              2.04\n",
       "..    ...  ...               ...\n",
       "366    CA  ...              0.40\n",
       "367    CA  ...              0.38\n",
       "368    CA  ...              0.35\n",
       "369    CA  ...              0.30\n",
       "370    UT  ...              0.16\n",
       "\n",
       "[371 rows x 4 columns]"
      ],
      "text/html": "<div>\n<style scoped>\n    .dataframe tbody tr th:only-of-type {\n        vertical-align: middle;\n    }\n\n    .dataframe tbody tr th {\n        vertical-align: top;\n    }\n\n    .dataframe thead th {\n        text-align: right;\n    }\n</style>\n<table border=\"1\" class=\"dataframe\">\n  <thead>\n    <tr style=\"text-align: right;\">\n      <th></th>\n      <th>state</th>\n      <th>area_name</th>\n      <th>total_employed</th>\n      <th>location_quotient</th>\n    </tr>\n  </thead>\n  <tbody>\n    <tr>\n      <th>0</th>\n      <td>PR</td>\n      <td>Aguadilla-Isabela-San Sebastian, PR</td>\n      <td>160</td>\n      <td>3.62</td>\n    </tr>\n    <tr>\n      <th>1</th>\n      <td>PR</td>\n      <td>Ponce, PR</td>\n      <td>180</td>\n      <td>3.34</td>\n    </tr>\n    <tr>\n      <th>2</th>\n      <td>PR</td>\n      <td>San German-Cabo Rojo, PR</td>\n      <td>50</td>\n      <td>2.60</td>\n    </tr>\n    <tr>\n      <th>3</th>\n      <td>PR</td>\n      <td>Mayaguez, PR</td>\n      <td>80</td>\n      <td>2.49</td>\n    </tr>\n    <tr>\n      <th>4</th>\n      <td>KY</td>\n      <td>Owensboro, KY</td>\n      <td>100</td>\n      <td>2.04</td>\n    </tr>\n    <tr>\n      <th>...</th>\n      <td>...</td>\n      <td>...</td>\n      <td>...</td>\n      <td>...</td>\n    </tr>\n    <tr>\n      <th>366</th>\n      <td>CA</td>\n      <td>Oxnard-Thousand Oaks-Ventura, CA</td>\n      <td>120</td>\n      <td>0.40</td>\n    </tr>\n    <tr>\n      <th>367</th>\n      <td>CA</td>\n      <td>Santa Ana-Anaheim-Irvine, CA Metropolitan Divi...</td>\n      <td>570</td>\n      <td>0.38</td>\n    </tr>\n    <tr>\n      <th>368</th>\n      <td>CA</td>\n      <td>Modesto, CA</td>\n      <td>60</td>\n      <td>0.35</td>\n    </tr>\n    <tr>\n      <th>369</th>\n      <td>CA</td>\n      <td>Bakersfield-Delano, CA</td>\n      <td>90</td>\n      <td>0.30</td>\n    </tr>\n    <tr>\n      <th>370</th>\n      <td>UT</td>\n      <td>Ogden-Clearfield, UT</td>\n      <td>30</td>\n      <td>0.16</td>\n    </tr>\n  </tbody>\n</table>\n<p>371 rows × 4 columns</p>\n</div>"
     },
     "metadata": {},
     "execution_count": 2
    }
   ],
   "source": [
    "import pandas as pd\n",
    "lib = pd.read_csv(\"/Users/lee/Dropbox/Classroom/Art of Data/Datasets/librarians.csv\")\n",
    "lib.drop(columns=[\"emp_prse\", \"jobs_1000\"])"
   ]
  },
  {
   "cell_type": "code",
   "execution_count": null,
   "metadata": {},
   "outputs": [],
   "source": []
  }
 ]
}