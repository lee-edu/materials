{
 "metadata": {
  "language_info": {
   "codemirror_mode": {
    "name": "ipython",
    "version": 3
   },
   "file_extension": ".py",
   "mimetype": "text/x-python",
   "name": "python",
   "nbconvert_exporter": "python",
   "pygments_lexer": "ipython3",
   "version": "3.9.6"
  },
  "orig_nbformat": 2,
  "kernelspec": {
   "name": "python3",
   "display_name": "Python 3.9.6 64-bit"
  },
  "interpreter": {
   "hash": "aee8b7b246df8f9039afb4144a1f6fd8d2ca17a180786b69acc140d282b71a49"
  }
 },
 "nbformat": 4,
 "nbformat_minor": 2,
 "cells": [
  {
   "source": [
    "# Review + Jupyter Notebook\n",
    "The goal of this activity is to review some old concepts, while at the same time giving you experience working with Jupyter notebooks. All future assignments will be done in this format, so let's get you accustomed to it!"
   ],
   "cell_type": "markdown",
   "metadata": {}
  },
  {
   "source": [
    "## Part 1: Markdown Cells\n",
    "Cells in Jupyter notebooks can either be in Markdown or in Python. You can click the icon `M↓` to switch to Markdown or `{}` to switch back to code.  \n",
    "**Double click on this cell to edit the text and answer the questions!**\n",
    "\n",
    "### Question 1: What is the difference between *nominal* and *ordinal* data?\n",
    "*Replace this text with your answer.*\n",
    "\n",
    "### Question 2: Suppose I have a *stack* with the following elements, left is top. `[A, B]`  I pop once, and then push C twice. What is the resulting stack?\n",
    "*Replace this text with your answer.*\n",
    "\n",
    "### Question 3: Explain the difference between a *sample frame* and a *population*. Give an example of each.\n",
    "*Replace this text with your answer.*\n",
    "\n",
    "### Question 4: The following table represents the *quartiles* of a dataset. What can you say about the *spread* and *skew*?\n",
    "| Q0 | Q1 | Q2  | Q3  | Q4  |\n",
    "|----|----|-----|-----|-----|\n",
    "| 89 | 95 | 103 | 120 | 140 |\n",
    "\n",
    "*Replace this text with your answer.*\n"
   ],
   "cell_type": "markdown",
   "metadata": {}
  },
  {
   "source": [
    "## Part 2: Some Python\n",
    "You can also write and execute code within a Jupyter notebook. This is handy, especially if you want to debug snippets of code at a time. This also allows you to integrate visualizations and code in your blog posts.\n",
    "\n",
    "**Add a code cell below. How to do this varies depending on your editor.**\n",
    "\n",
    "In your new code cell, print \"Hello world.\" Then complete the `average` function."
   ],
   "cell_type": "markdown",
   "metadata": {}
  },
  {
   "cell_type": "code",
   "execution_count": 1,
   "metadata": {},
   "outputs": [
    {
     "output_type": "execute_result",
     "data": {
      "text/plain": [
       "'ERROR: You need to replace this code!'"
      ]
     },
     "metadata": {},
     "execution_count": 1
    }
   ],
   "source": [
    "# Create a code cell above this one!\n",
    "\n",
    "# Write the average function so that this cell executes correctly.\n",
    "\n",
    "def average(l):\n",
    "    ''' Takes the average of the given list'''\n",
    "    return \"ERROR: You need to replace this code!\"\n",
    "\n",
    "average([5,10,15,20,25])"
   ]
  },
  {
   "source": [
    "## Part 3: Descriptive Stats with Dataframes and Seaborn\n",
    "Jupyter notebooks work really well both for exploring and explaining datasets. Suppose that this is the first time you've ever seen the `iris` dataset, and we're trying to learn more about it.\n"
   ],
   "cell_type": "markdown",
   "metadata": {}
  },
  {
   "cell_type": "code",
   "execution_count": 34,
   "metadata": {},
   "outputs": [
    {
     "output_type": "execute_result",
     "data": {
      "text/plain": [
       "    sepal_length  sepal_width  petal_length  petal_width     species\n",
       "99           5.7          2.8           4.1          1.3  versicolor\n",
       "20           5.4          3.4           1.7          0.2      setosa\n",
       "86           6.7          3.1           4.7          1.5  versicolor"
      ],
      "text/html": "<div>\n<style scoped>\n    .dataframe tbody tr th:only-of-type {\n        vertical-align: middle;\n    }\n\n    .dataframe tbody tr th {\n        vertical-align: top;\n    }\n\n    .dataframe thead th {\n        text-align: right;\n    }\n</style>\n<table border=\"1\" class=\"dataframe\">\n  <thead>\n    <tr style=\"text-align: right;\">\n      <th></th>\n      <th>sepal_length</th>\n      <th>sepal_width</th>\n      <th>petal_length</th>\n      <th>petal_width</th>\n      <th>species</th>\n    </tr>\n  </thead>\n  <tbody>\n    <tr>\n      <th>99</th>\n      <td>5.7</td>\n      <td>2.8</td>\n      <td>4.1</td>\n      <td>1.3</td>\n      <td>versicolor</td>\n    </tr>\n    <tr>\n      <th>20</th>\n      <td>5.4</td>\n      <td>3.4</td>\n      <td>1.7</td>\n      <td>0.2</td>\n      <td>setosa</td>\n    </tr>\n    <tr>\n      <th>86</th>\n      <td>6.7</td>\n      <td>3.1</td>\n      <td>4.7</td>\n      <td>1.5</td>\n      <td>versicolor</td>\n    </tr>\n  </tbody>\n</table>\n</div>"
     },
     "metadata": {},
     "execution_count": 34
    }
   ],
   "source": [
    "import seaborn as sns\n",
    "iris = sns.load_dataset(\"iris\") # Load the Iris dataframe from seaborn\n",
    "iris.sample(3) # What does sample() do? Try re-running this cell multiple times."
   ]
  },
  {
   "source": [
    "\n",
    "### Question 1: On average, which species of Iris has the widest petals?"
   ],
   "cell_type": "markdown",
   "metadata": {}
  },
  {
   "cell_type": "code",
   "execution_count": 35,
   "metadata": {},
   "outputs": [],
   "source": [
    "# Write code to answer Question 1 here"
   ]
  },
  {
   "source": [
    "### Quesiton 2: What is the correlation between sepal-width and sepal-length?\n",
    "*Hint: Search for documentation on how to do this with dataframes!*"
   ],
   "cell_type": "markdown",
   "metadata": {}
  },
  {
   "cell_type": "code",
   "execution_count": 36,
   "metadata": {},
   "outputs": [],
   "source": [
    "# Write code to answer Question 2 here"
   ]
  },
  {
   "source": [
    "### Question 3: What is the correlation between sepal-width and sepal-length for only *Iris-setosa*?"
   ],
   "cell_type": "markdown",
   "metadata": {}
  },
  {
   "cell_type": "code",
   "execution_count": 37,
   "metadata": {},
   "outputs": [],
   "source": [
    "# Write code to answer Question 3 here"
   ]
  },
  {
   "source": [
    "### Question 4: What do you notice about your answers to #2 and #3? Explain this discrepancy.\n",
    "*Replace this text with your answer.*"
   ],
   "cell_type": "markdown",
   "metadata": {}
  },
  {
   "source": [
    "### Question 5: Use `seaborn` to create a visualization that would help you understand questions 2-4. In other words, visualize the relationship between sepal-width and sepal-length, while taking species into account."
   ],
   "cell_type": "markdown",
   "metadata": {}
  },
  {
   "cell_type": "code",
   "execution_count": 38,
   "metadata": {},
   "outputs": [],
   "source": [
    "# Write code to answer Question 5 here"
   ]
  }
 ]
}