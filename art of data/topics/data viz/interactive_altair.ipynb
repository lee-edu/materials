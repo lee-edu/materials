{
 "cells": [
  {
   "cell_type": "markdown",
   "metadata": {},
   "source": [
    "# Interactive Altair\n",
    "One major advantage of `Altair` is its ability to generate interactive visualizations."
   ]
  },
  {
   "cell_type": "code",
   "execution_count": null,
   "metadata": {},
   "outputs": [],
   "source": [
    "import pandas as pd\n",
    "import altair as alt\n",
    "\n",
    "penguins = pd.read_csv(\"../../datasets/penguins.csv\") # Change path!"
   ]
  },
  {
   "cell_type": "code",
   "execution_count": null,
   "metadata": {},
   "outputs": [],
   "source": [
    "penguins.sample(5)"
   ]
  },
  {
   "cell_type": "markdown",
   "metadata": {},
   "source": [
    "## Review"
   ]
  },
  {
   "cell_type": "markdown",
   "metadata": {},
   "source": [
    "1. On average, which species of penguin has the longest bill?"
   ]
  },
  {
   "cell_type": "code",
   "execution_count": null,
   "metadata": {},
   "outputs": [],
   "source": [
    "..."
   ]
  },
  {
   "cell_type": "markdown",
   "metadata": {},
   "source": [
    "2. Create a scatterplot for flipper length vs bill length. Each species should be a different color."
   ]
  },
  {
   "cell_type": "code",
   "execution_count": null,
   "metadata": {},
   "outputs": [],
   "source": [
    "..."
   ]
  },
  {
   "cell_type": "markdown",
   "metadata": {},
   "source": [
    "3. Visualize the distribution of flipper lengths across different species.  \n",
    "_Hint:_ Look at the [guide for faceted charts](https://altair-viz.github.io/user_guide/compound_charts.html?highlight=facet#facet-chart)!"
   ]
  },
  {
   "cell_type": "code",
   "execution_count": null,
   "metadata": {},
   "outputs": [],
   "source": [
    "..."
   ]
  },
  {
   "cell_type": "markdown",
   "metadata": {},
   "source": [
    "4. _(Optional)_ Instead of using `facet`, use `transform_density` to create a [layered area chart](https://altair-viz.github.io/gallery/layered_area_chart.html)."
   ]
  },
  {
   "cell_type": "code",
   "execution_count": null,
   "metadata": {},
   "outputs": [],
   "source": [
    "..."
   ]
  },
  {
   "cell_type": "markdown",
   "metadata": {},
   "source": [
    "## Quick Interactive\n",
    "Notice the use of `.interactive()` in the scatterplot between bill length and depth, which allows the user to scroll and pan through the visualization. Since this is such a common request, Altair provides it by default!"
   ]
  },
  {
   "cell_type": "code",
   "execution_count": null,
   "metadata": {},
   "outputs": [],
   "source": [
    "alt.Chart(penguins).mark_circle().encode(\n",
    "  x=\"bill_length_mm:Q\",\n",
    "  y=\"bill_depth_mm:Q\"\n",
    ").interactive()"
   ]
  },
  {
   "cell_type": "markdown",
   "metadata": {},
   "source": [
    "## More Advanced Interaction\n",
    "What if you want to do more than just panning and zooming? More information can be found [at the documentation here](https://altair-viz.github.io/user_guide/interactions.html)."
   ]
  },
  {
   "cell_type": "code",
   "execution_count": null,
   "metadata": {},
   "outputs": [],
   "source": [
    "# Let's first introduce the color channel for species\n",
    "species_color = alt.Color(\"species:N\") # Notice that we can pull this out into a separate variable!\n",
    "\n",
    "alt.Chart(penguins).mark_circle().encode(\n",
    "  x=\"bill_length_mm:Q\",\n",
    "  y=\"bill_depth_mm:Q\",\n",
    "  color=species_color\n",
    ").interactive()"
   ]
  },
  {
   "cell_type": "code",
   "execution_count": null,
   "metadata": {},
   "outputs": [],
   "source": [
    "# We will now create our own legend, which we will extend later\n",
    "species_color = alt.Color(\"species:N\", legend=None) # Remove default legend\n",
    "\n",
    "# Create scatterplot (same as before)\n",
    "scatterplot = alt.Chart(penguins).mark_circle().encode(\n",
    "  x=\"bill_length_mm:Q\",\n",
    "  y=\"bill_depth_mm:Q\",\n",
    "  color=species_color\n",
    ").interactive()\n",
    "\n",
    "# We also create a legend, which is essentially another chart\n",
    "legend = alt.Chart(penguins).mark_rect().encode(\n",
    "  y=alt.Y(\"species:N\", axis=alt.Axis(orient=\"right\")),\n",
    "  color=species_color # Notice that we are reusing the species_color variable!\n",
    ")\n",
    "\n",
    "scatterplot | legend # It's this easy to put visualizations together!"
   ]
  },
  {
   "cell_type": "markdown",
   "metadata": {},
   "source": [
    "## Selections and Conditions\n",
    "You must first identify a `selection`; this allows a viewer to interact with and select specific parts of your visualization.\n",
    "\n",
    "Then you need to identy a `condition` that changes depending on what is being selected.\n",
    "\n",
    "### Example\n",
    "Here's an example of a rectangular selection -- the user is allowed to click and drag on the graph (the **selection**), and the color of the dots will change depending on whether or not it is inside the selection (the **condition**)."
   ]
  },
  {
   "cell_type": "code",
   "execution_count": null,
   "metadata": {},
   "outputs": [],
   "source": [
    "selection = alt.selection_interval() # Use a rectangular selection\n",
    "\n",
    "species_color = alt.condition(selection,    # Set the color to change depending on a the selection\n",
    "                              alt.Color(\"species:N\", legend=None), # Inside the selection\n",
    "                              alt.value(\"lightgray\")) # Outside the selection\n",
    "\n",
    "# Create scatterplot of bill length vs bill depth\n",
    "scatterplot = alt.Chart(penguins).mark_point().encode(\n",
    "    x=alt.X(\"bill_length_mm:Q\", scale=alt.Scale(zero=False)),\n",
    "    y=alt.Y(\"bill_depth_mm:Q\", scale=alt.Scale(zero=False)),\n",
    "    color=species_color\n",
    ").add_selection( # We have to tell the chart to use the selection we've defined\n",
    "    selection\n",
    ")\n",
    "\n",
    "# Create corresponding legend for species\n",
    "legend = alt.Chart(penguins).mark_rect().encode(\n",
    "    y=alt.Y(\"species:N\", axis=alt.Axis(orient=\"right\")),\n",
    "    color=species_color\n",
    ")\n",
    "\n",
    "scatterplot | legend"
   ]
  },
  {
   "cell_type": "markdown",
   "metadata": {},
   "source": [
    "### Another Example\n",
    "Read through and run the code below. What are the **selection** and **condition**?"
   ]
  },
  {
   "cell_type": "code",
   "execution_count": null,
   "metadata": {},
   "outputs": [],
   "source": [
    "selection = alt.selection_multi(fields=['species']) # A different kind of selection!\n",
    "\n",
    "species_color = alt.condition(selection,    # Set the color to change depending on a the selection\n",
    "                              alt.Color(\"species:N\", legend=None),\n",
    "                              alt.value(\"lightgray\"))\n",
    "\n",
    "# Create scatterplot of bill length vs bill depth\n",
    "scatterplot = alt.Chart(penguins).mark_point().encode(\n",
    "    x=alt.X(\"bill_length_mm:Q\", scale=alt.Scale(zero=False)),\n",
    "    y=alt.Y(\"bill_depth_mm:Q\", scale=alt.Scale(zero=False)),\n",
    "    color=species_color\n",
    ").interactive()\n",
    "\n",
    "# Create corresponding legend for species\n",
    "legend = alt.Chart(penguins).mark_rect().encode(\n",
    "    y=alt.Y(\"species:N\", axis=alt.Axis(orient=\"right\")),\n",
    "    color=species_color\n",
    ").add_selection(selection) # We now add it to the legend instead, since that is what the viewer interacts with\n",
    "\n",
    "scatterplot | legend"
   ]
  },
  {
   "cell_type": "markdown",
   "metadata": {},
   "source": [
    "## Practice"
   ]
  },
  {
   "cell_type": "markdown",
   "metadata": {},
   "source": [
    "1. Visualize the relationship between flipper length and body mass. Make it interactive."
   ]
  },
  {
   "cell_type": "code",
   "execution_count": null,
   "metadata": {},
   "outputs": [],
   "source": [
    "..."
   ]
  },
  {
   "cell_type": "markdown",
   "metadata": {},
   "source": [
    "2. Visualize the relationship between island and body mass. Make it interactive."
   ]
  },
  {
   "cell_type": "code",
   "execution_count": null,
   "metadata": {},
   "outputs": [],
   "source": [
    "..."
   ]
  }
 ],
 "metadata": {
  "interpreter": {
   "hash": "0ee631a2928a28200043e7e2ad3ea045f428bc48ee7c595499c9689100883def"
  },
  "kernelspec": {
   "display_name": "Python 3.10.2 64-bit",
   "language": "python",
   "name": "python3"
  },
  "language_info": {
   "codemirror_mode": {
    "name": "ipython",
    "version": 3
   },
   "file_extension": ".py",
   "mimetype": "text/x-python",
   "name": "python",
   "nbconvert_exporter": "python",
   "pygments_lexer": "ipython3",
   "version": "3.10.2"
  },
  "orig_nbformat": 4
 },
 "nbformat": 4,
 "nbformat_minor": 2
}
