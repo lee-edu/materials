{
 "cells": [
  {
   "cell_type": "markdown",
   "metadata": {},
   "source": [
    "# Data Viz Fundamentals\n"
   ]
  },
  {
   "cell_type": "markdown",
   "metadata": {},
   "source": [
    "## Perception\n",
    "Read [this study by Christopher G. Healey](https://www.csc2.ncsu.edu/faculty/healey/PP/index.html). We will look at some of the experiments in class, but feel free to explore on your own as well.\n",
    "\n",
    "1. What is preattentive processing?\n",
    "2. What are some examples of preattentive visual features?\n",
    "3. What happens to preattentive processing when there are multiple such features in the same image?\n",
    "4. What is the theory of the feature hierarchy?"
   ]
  },
  {
   "cell_type": "markdown",
   "metadata": {},
   "source": [
    "## Grouping\n",
    "Read sections 1.3.2 and 1.3.3 of [this text](https://socviz.co/lookatdata.html#preattentive-search-and-what-pops).\n",
    "Then, skim this [Wikipedia article on grouping](https://en.wikipedia.org/wiki/Principles_of_grouping).\n",
    "\n",
    "1. What are **gestalt** rules?\n",
    "2. What do we mean by **perceptual distance**, and how might it be measured?\n",
    "3. How might perceptual distance be used in a visualization?"
   ]
  },
  {
   "cell_type": "markdown",
   "metadata": {},
   "source": [
    "## Seeing Color\n",
    "Watch this short [Youtube video](https://www.youtube.com/watch?v=l8_fZPHasdo) on how our eyes see color.\n",
    "\n",
    "1. What are the differences between rods and cones?\n",
    "2. What is the difference between **additive** color and **subtractive** color?\n",
    "      1. Which color model is used for electronic media?\n",
    "      2. Which color model is used for print media?\n",
    "3. Why is it important to know which model we use for a visualization?"
   ]
  },
  {
   "cell_type": "markdown",
   "metadata": {},
   "source": [
    "## Using Color\n",
    "Read [this chapter](https://clauswilke.com/dataviz/color-basics.html) on how color can be used in a visualization.\n",
    "\n",
    "1. Describe the three different use cases of color that are mentioned in the chapter."
   ]
  },
  {
   "cell_type": "markdown",
   "metadata": {},
   "source": [
    "## Visualization Fundamentals\n",
    "The basis of all data visualization is in the **mapping** of data (e.g. numbers) to visual features.  \n",
    "Read [this chapter](https://clauswilke.com/dataviz/aesthetic-mapping.html) to learn some vocabulary regarding data visualization.\n",
    "\n",
    "1. What is a **scale**? Give some examples of how they are used.\n",
    "2. What **scale** might be appropriate to map different penguin species?\n",
    "3. What **scale** might be appropriate to map penguin bill length?\n",
    "\n",
    "Skim through [these slides](https://www.cs171.org/2015/assets/slides/05-marks_channels.pdf) as well.\n",
    "\n",
    "4. What are **marks** and **channels**? Give some examples.\n",
    "5. Why is it not a good idea to map a single variable to more than one **channel**?\n",
    "6. Explain how **channels** can be used to define a **scale**.\n"
   ]
  },
  {
   "cell_type": "code",
   "execution_count": null,
   "metadata": {},
   "outputs": [],
   "source": [
    "scale(ordinal)\n",
    "  .domain([adelie, chinstrap, gentoo])\n",
    "  .range([red, green, blue])"
   ]
  },
  {
   "cell_type": "markdown",
   "metadata": {},
   "source": [
    "## Accessibility\n",
    "**Accessible data visualization is better data visualization.**\n",
    "\n",
    "Skim through [this article by Sara Hendren](https://www.wired.com/2014/10/all-technology-is-assistive/).\n",
    "\n",
    "1. What does she mean by _all technology is assistive technology_? What examples does she use?\n",
    "2. How might this pertain to data visualization?\n",
    "\n",
    "Skim through [this article](https://webdesign.tutsplus.com/articles/accessibility-basics-designing-for-visual-impairment--cms-27634) as well.\n",
    "\n",
    "3. What are some of the outlined best practices?\n",
    "4. Why does the author say to avoid using color?\n",
    "\n",
    "5. What are some major takeaways from [these guidelines from the Consumer Financial Protection Bureau](https://cfpb.github.io/design-system/)?\n"
   ]
  }
 ],
 "metadata": {
  "interpreter": {
   "hash": "aee8b7b246df8f9039afb4144a1f6fd8d2ca17a180786b69acc140d282b71a49"
  },
  "kernelspec": {
   "display_name": "Python 3.9.7 64-bit",
   "language": "python",
   "name": "python3"
  },
  "language_info": {
   "name": "python",
   "version": "3.9.7"
  },
  "orig_nbformat": 4
 },
 "nbformat": 4,
 "nbformat_minor": 2
}
