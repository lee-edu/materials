{
 "cells": [
  {
   "cell_type": "code",
   "execution_count": 2,
   "metadata": {},
   "outputs": [],
   "source": [
    "import pandas as pd\n",
    "penguins = pd.read_csv(\"../../datasets/penguins.csv\")"
   ]
  },
  {
   "cell_type": "code",
   "execution_count": 8,
   "metadata": {},
   "outputs": [
    {
     "data": {
      "text/html": [
       "<div>\n",
       "<style scoped>\n",
       "    .dataframe tbody tr th:only-of-type {\n",
       "        vertical-align: middle;\n",
       "    }\n",
       "\n",
       "    .dataframe tbody tr th {\n",
       "        vertical-align: top;\n",
       "    }\n",
       "\n",
       "    .dataframe thead th {\n",
       "        text-align: right;\n",
       "    }\n",
       "</style>\n",
       "<table border=\"1\" class=\"dataframe\">\n",
       "  <thead>\n",
       "    <tr style=\"text-align: right;\">\n",
       "      <th></th>\n",
       "      <th></th>\n",
       "      <th>bill_length_mm</th>\n",
       "      <th>bill_depth_mm</th>\n",
       "      <th>flipper_length_mm</th>\n",
       "      <th>body_mass_g</th>\n",
       "      <th>year</th>\n",
       "    </tr>\n",
       "    <tr>\n",
       "      <th>island</th>\n",
       "      <th>species</th>\n",
       "      <th></th>\n",
       "      <th></th>\n",
       "      <th></th>\n",
       "      <th></th>\n",
       "      <th></th>\n",
       "    </tr>\n",
       "  </thead>\n",
       "  <tbody>\n",
       "    <tr>\n",
       "      <th rowspan=\"2\" valign=\"top\">Biscoe</th>\n",
       "      <th>Adelie</th>\n",
       "      <td>38.975000</td>\n",
       "      <td>18.370455</td>\n",
       "      <td>188.795455</td>\n",
       "      <td>3709.659091</td>\n",
       "      <td>2008.136364</td>\n",
       "    </tr>\n",
       "    <tr>\n",
       "      <th>Gentoo</th>\n",
       "      <td>47.504878</td>\n",
       "      <td>14.982114</td>\n",
       "      <td>217.186992</td>\n",
       "      <td>5076.016260</td>\n",
       "      <td>2008.073171</td>\n",
       "    </tr>\n",
       "    <tr>\n",
       "      <th rowspan=\"2\" valign=\"top\">Dream</th>\n",
       "      <th>Adelie</th>\n",
       "      <td>38.501786</td>\n",
       "      <td>18.251786</td>\n",
       "      <td>189.732143</td>\n",
       "      <td>3688.392857</td>\n",
       "      <td>2008.000000</td>\n",
       "    </tr>\n",
       "    <tr>\n",
       "      <th>Chinstrap</th>\n",
       "      <td>48.833824</td>\n",
       "      <td>18.420588</td>\n",
       "      <td>195.823529</td>\n",
       "      <td>3733.088235</td>\n",
       "      <td>2007.970588</td>\n",
       "    </tr>\n",
       "    <tr>\n",
       "      <th>Torgersen</th>\n",
       "      <th>Adelie</th>\n",
       "      <td>38.950980</td>\n",
       "      <td>18.429412</td>\n",
       "      <td>191.196078</td>\n",
       "      <td>3706.372549</td>\n",
       "      <td>2007.941176</td>\n",
       "    </tr>\n",
       "  </tbody>\n",
       "</table>\n",
       "</div>"
      ],
      "text/plain": [
       "                     bill_length_mm  bill_depth_mm  flipper_length_mm  \\\n",
       "island    species                                                       \n",
       "Biscoe    Adelie          38.975000      18.370455         188.795455   \n",
       "          Gentoo          47.504878      14.982114         217.186992   \n",
       "Dream     Adelie          38.501786      18.251786         189.732143   \n",
       "          Chinstrap       48.833824      18.420588         195.823529   \n",
       "Torgersen Adelie          38.950980      18.429412         191.196078   \n",
       "\n",
       "                     body_mass_g         year  \n",
       "island    species                              \n",
       "Biscoe    Adelie     3709.659091  2008.136364  \n",
       "          Gentoo     5076.016260  2008.073171  \n",
       "Dream     Adelie     3688.392857  2008.000000  \n",
       "          Chinstrap  3733.088235  2007.970588  \n",
       "Torgersen Adelie     3706.372549  2007.941176  "
      ]
     },
     "execution_count": 8,
     "metadata": {},
     "output_type": "execute_result"
    }
   ],
   "source": [
    "penguins.groupby(['island', 'species']).mean()"
   ]
  },
  {
   "cell_type": "markdown",
   "metadata": {},
   "source": [
    "# Visualization Sketches\n",
    "Create 3 different visualizations of the above dataset, with the caveat that you CANNOT create a scatterplot or use bars as your marks. :)\n",
    "\n",
    "For each of your 3 visualizations, answer the following questions:\n",
    "1. Which variables are you visualizing?\n",
    "2. What are your marks and channels?\n",
    "3. What is the goal of your visualization?\n",
    "4. Do you think your visualization achieves that goal effectively? Elaborate."
   ]
  }
 ],
 "metadata": {
  "interpreter": {
   "hash": "0ee631a2928a28200043e7e2ad3ea045f428bc48ee7c595499c9689100883def"
  },
  "kernelspec": {
   "display_name": "Python 3.10.2 64-bit",
   "language": "python",
   "name": "python3"
  },
  "language_info": {
   "codemirror_mode": {
    "name": "ipython",
    "version": 3
   },
   "file_extension": ".py",
   "mimetype": "text/x-python",
   "name": "python",
   "nbconvert_exporter": "python",
   "pygments_lexer": "ipython3",
   "version": "3.10.2"
  },
  "orig_nbformat": 4
 },
 "nbformat": 4,
 "nbformat_minor": 2
}
