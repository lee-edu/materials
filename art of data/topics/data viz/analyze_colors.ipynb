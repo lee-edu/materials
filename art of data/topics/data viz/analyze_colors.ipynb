{
 "metadata": {
  "language_info": {
   "codemirror_mode": {
    "name": "ipython",
    "version": 3
   },
   "file_extension": ".py",
   "mimetype": "text/x-python",
   "name": "python",
   "nbconvert_exporter": "python",
   "pygments_lexer": "ipython3",
   "version": "3.9.1-final"
  },
  "orig_nbformat": 2,
  "kernelspec": {
   "name": "python3",
   "display_name": "Python 3.9.1 64-bit ('.pyenv': pyenv)",
   "metadata": {
    "interpreter": {
     "hash": "74ef771a3f1831657a9e616c6f1bfab2e4b986e6ed63e240ab617e51a6c6d8d0"
    }
   }
  }
 },
 "nbformat": 4,
 "nbformat_minor": 2,
 "cells": [
  {
   "cell_type": "code",
   "execution_count": 8,
   "metadata": {},
   "outputs": [
    {
     "output_type": "execute_result",
     "data": {
      "text/plain": [
       "      grade favorite_color\n",
       "0        12         yellow\n",
       "1        12            red\n",
       "2        12           blue\n",
       "3        12           blue\n",
       "4        11         yellow\n",
       "...     ...            ...\n",
       "2495     11           blue\n",
       "2496     10            red\n",
       "2497     10            red\n",
       "2498     12           blue\n",
       "2499     12            red\n",
       "\n",
       "[2500 rows x 2 columns]"
      ],
      "text/html": "<div>\n<style scoped>\n    .dataframe tbody tr th:only-of-type {\n        vertical-align: middle;\n    }\n\n    .dataframe tbody tr th {\n        vertical-align: top;\n    }\n\n    .dataframe thead th {\n        text-align: right;\n    }\n</style>\n<table border=\"1\" class=\"dataframe\">\n  <thead>\n    <tr style=\"text-align: right;\">\n      <th></th>\n      <th>grade</th>\n      <th>favorite_color</th>\n    </tr>\n  </thead>\n  <tbody>\n    <tr>\n      <th>0</th>\n      <td>12</td>\n      <td>yellow</td>\n    </tr>\n    <tr>\n      <th>1</th>\n      <td>12</td>\n      <td>red</td>\n    </tr>\n    <tr>\n      <th>2</th>\n      <td>12</td>\n      <td>blue</td>\n    </tr>\n    <tr>\n      <th>3</th>\n      <td>12</td>\n      <td>blue</td>\n    </tr>\n    <tr>\n      <th>4</th>\n      <td>11</td>\n      <td>yellow</td>\n    </tr>\n    <tr>\n      <th>...</th>\n      <td>...</td>\n      <td>...</td>\n    </tr>\n    <tr>\n      <th>2495</th>\n      <td>11</td>\n      <td>blue</td>\n    </tr>\n    <tr>\n      <th>2496</th>\n      <td>10</td>\n      <td>red</td>\n    </tr>\n    <tr>\n      <th>2497</th>\n      <td>10</td>\n      <td>red</td>\n    </tr>\n    <tr>\n      <th>2498</th>\n      <td>12</td>\n      <td>blue</td>\n    </tr>\n    <tr>\n      <th>2499</th>\n      <td>12</td>\n      <td>red</td>\n    </tr>\n  </tbody>\n</table>\n<p>2500 rows × 2 columns</p>\n</div>"
     },
     "metadata": {},
     "execution_count": 8
    }
   ],
   "source": [
    "import pandas as pd\n",
    "colors = pd.read_csv(\"../../datasets/favorite_colors.csv\")\n",
    "colors"
   ]
  },
  {
   "cell_type": "code",
   "execution_count": 11,
   "metadata": {},
   "outputs": [
    {
     "output_type": "execute_result",
     "data": {
      "text/plain": [
       "favorite_color      blue       red    yellow\n",
       "grade                                       \n",
       "9               0.224649  0.207488  0.567863\n",
       "10              0.233119  0.565916  0.200965\n",
       "11              0.581876  0.214626  0.203498\n",
       "12              0.409539  0.396382  0.194079"
      ],
      "text/html": "<div>\n<style scoped>\n    .dataframe tbody tr th:only-of-type {\n        vertical-align: middle;\n    }\n\n    .dataframe tbody tr th {\n        vertical-align: top;\n    }\n\n    .dataframe thead th {\n        text-align: right;\n    }\n</style>\n<table border=\"1\" class=\"dataframe\">\n  <thead>\n    <tr style=\"text-align: right;\">\n      <th>favorite_color</th>\n      <th>blue</th>\n      <th>red</th>\n      <th>yellow</th>\n    </tr>\n    <tr>\n      <th>grade</th>\n      <th></th>\n      <th></th>\n      <th></th>\n    </tr>\n  </thead>\n  <tbody>\n    <tr>\n      <th>9</th>\n      <td>0.224649</td>\n      <td>0.207488</td>\n      <td>0.567863</td>\n    </tr>\n    <tr>\n      <th>10</th>\n      <td>0.233119</td>\n      <td>0.565916</td>\n      <td>0.200965</td>\n    </tr>\n    <tr>\n      <th>11</th>\n      <td>0.581876</td>\n      <td>0.214626</td>\n      <td>0.203498</td>\n    </tr>\n    <tr>\n      <th>12</th>\n      <td>0.409539</td>\n      <td>0.396382</td>\n      <td>0.194079</td>\n    </tr>\n  </tbody>\n</table>\n</div>"
     },
     "metadata": {},
     "execution_count": 11
    }
   ],
   "source": [
    "# Figure out conditional proportions table for grade and favorite color\n",
    "#print(colors.groupby('grade').count())\n",
    "pd.crosstab(colors['grade'], colors['favorite_color'], normalize=\"index\")"
   ]
  },
  {
   "cell_type": "code",
   "execution_count": 10,
   "metadata": {},
   "outputs": [],
   "source": [
    "# Manually calculate "
   ]
  }
 ]
}