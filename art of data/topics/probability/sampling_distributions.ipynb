{
 "cells": [
  {
   "cell_type": "code",
   "execution_count": null,
   "metadata": {},
   "outputs": [],
   "source": []
  },
  {
   "cell_type": "markdown",
   "metadata": {},
   "source": [
    "# Review"
   ]
  },
  {
   "cell_type": "markdown",
   "metadata": {},
   "source": [
    "1. You are writing an algorithm that has a 95% chance of giving you a correct answer. Your friend has the answer key and can validate whether the algorithm is correct or not. What is the probability that the algorithm gives a correct answer after:\n",
    "    1. running it once?\n",
    "    2. running it 5 times?\n",
    "    3. running it 200 times?"
   ]
  },
  {
   "cell_type": "markdown",
   "metadata": {},
   "source": [
    "2. Let X = a random number within $[1-100]$ (flat distribution)\n",
    "   1. What is the sample space?\n",
    "   2. What is the probability of getting a number within $(20,75]$?"
   ]
  },
  {
   "cell_type": "markdown",
   "metadata": {},
   "source": [
    "3. Let X = outcome of rolling a 20-sided die twice.\n",
    "   1. What is the sample space? Represent this as a list of tuples.\n",
    "   2. Write a function `p_d20_twice(e)` that takes a tuple and returns the probability of rolling that tuple.\n",
    "   3. Write a function `p_sum(n)` that returns the probability of the rolls adding up to `n`. Use `p_d20_twice` as a helper function."
   ]
  },
  {
   "cell_type": "markdown",
   "metadata": {},
   "source": [
    "# Penguins are Back\n",
    "Let's suppose that our `penguins` dataset contains accurate information about every single penguin on Earth. A team of alien researchers from planet Pengalien is interested in the average penguin bill length."
   ]
  },
  {
   "cell_type": "markdown",
   "metadata": {},
   "source": [
    "1. Fortunately for Earth inhabitants, penguin researchers have already amassed all the data they need. What is the average bill length of all penguins?"
   ]
  },
  {
   "cell_type": "markdown",
   "metadata": {},
   "source": [
    "2. Unfortunately for Pengaliens, they don't have the same wealth of penguin knowledge. Their research team is poorly funded, and they only have the resources to come down and extract 5 penguins at a time.\n",
    "   1. Write code to get a _sample_ of 5 penguins.\n",
    "   2. What is the average bill length of this sample?\n",
    "   3. How close did the Pengaliens get to the actual average bill length?"
   ]
  },
  {
   "cell_type": "markdown",
   "metadata": {},
   "source": [
    "3. Fortunately for Pengaliens, their top engineers finally got approved for their tractor beam grant. This upgrade allows them to beam up _n_ penguins at a time.\n",
    "   1. Write a function `sample_mean(n)` that takes a sample of `n` penguins and returns the mean bill length of that sample.\n",
    "   2. Write a function `sample_means(N,n)` that returns a list containing the result of running `sample_mean(n)` `N` times."
   ]
  },
  {
   "cell_type": "markdown",
   "metadata": {},
   "source": [
    "# Sampling Distribution of Sample Means "
   ]
  },
  {
   "cell_type": "markdown",
   "metadata": {},
   "source": [
    "1. Use `seaborn` or `altair` to generate a histogram for `sample_means(10,5)`. This histogram is the **sampling distribution** of the *sample mean*. We're looking at $N=10$ samples of $n=5$ penguins each.\n",
    "   1. What happens to the sampling distribution as we increase `N`?\n",
    "   2. What happens to the sampling distribution as we increase `n`?"
   ]
  },
  {
   "cell_type": "markdown",
   "metadata": {},
   "source": [
    "2. Let X = bill length of a randomly selected penguin.\n",
    "   1. What is the expected value of X?  \n",
    "   _Hint: The sampling distribution can be interpreted as a probability distribution!_\n",
    "   2. How far off is the expected value from the actual mean bill length?\n",
    "   3. Does your answer to the previous question change if `N` or `n` is increased?"
   ]
  },
  {
   "cell_type": "markdown",
   "metadata": {},
   "source": [
    "3. Summarize how random variables can be used to estimate actual attributes of a population."
   ]
  },
  {
   "cell_type": "markdown",
   "metadata": {},
   "source": [
    "# Sampling Distribution of Sample Proportions\n",
    "Arithmetic means are not the only attribute of a population that can be sampled. We can also look at proportion; e.g. what % of all penguins are Gentoo?"
   ]
  },
  {
   "cell_type": "markdown",
   "metadata": {},
   "source": [
    "1. The Pengaliens are back at it again, but this time they want to examine Gentoo penguins.\n",
    "   1. What is the actual % of Gentoo penguins on Earth?\n",
    "   2. Write a function `sample_proportion(n)` that returns the % of Gentoo pengins from a sample of `n` penguins.\n",
    "   3. Write a function `sample_proportions(N,n)` that returns a list of the results of running `sample_proportion(n)` `N` times."
   ]
  },
  {
   "cell_type": "markdown",
   "metadata": {},
   "source": [
    "2. Similar to the **sampling distribution of sample means**, let X = the % of Gentoo penguins in our sample. Create a histogram to visualize the **sampling distribution of sample proportions**. Analyze the center of this distribution; how far is it from the actual percentage that you calculated earlier?"
   ]
  },
  {
   "cell_type": "markdown",
   "metadata": {},
   "source": [
    "# Central Limit Theorem\n",
    "As you may have noticed, the more samples you take, the more symmetrical and non-skewed the histograms become. The **Central Limit Theorem** states that as you increase the sample size, the sampling distribution of those samples approaches a **normal distribution**. From this, we can infer that the expected value of the mean of the sampling distribution will approach the population parameter that we are looking for."
   ]
  },
  {
   "cell_type": "markdown",
   "metadata": {},
   "source": [
    "# Practice"
   ]
  },
  {
   "cell_type": "markdown",
   "metadata": {},
   "source": [
    "1. An entomologist is researching cicadas, and since billions of Brood X cicadas are coming this year, they have the perfect chance to get samples. Their first study consists of 100 samples of 10 cicadas each; the sampling distribution of the sample mean of cicada wingspan has a mean of 18cm and a standard deviation of 1cm.\n",
    "\n",
    "    a. Interpret these statistics. Would you be surprised to find a cicada with a wingspan of 18.5cm? What about 21cm?\n",
    "\n",
    "    b. What would happen to the standard deviation if 1000 samples were taken instead of 100?"
   ]
  },
  {
   "cell_type": "markdown",
   "metadata": {},
   "source": [
    "2.  A linguist conducts a survey at school to see how many students can speak more than one language. After a sample of 200 students, the linguist arrives at a sample proportion of 25%. How might information (such as the mean or standard deviation) about the sampling distribution of the sample proportion help the linguist determine the accuracy of the survey?\n"
   ]
  },
  {
   "cell_type": "markdown",
   "metadata": {},
   "source": [
    "3.  A candy enthusiast has a particular dislike of sour candies. As a gift, their friend buys them a big assortment of candy, but 5% of the candy within this bag is sour. Describe what the sampling distribution of the sample proportion would look like after taking 1000 samples (center, variability, skew)."
   ]
  }
 ],
 "metadata": {
  "interpreter": {
   "hash": "0ee631a2928a28200043e7e2ad3ea045f428bc48ee7c595499c9689100883def"
  },
  "kernelspec": {
   "display_name": "Python 3.10.2 64-bit",
   "language": "python",
   "name": "python3"
  },
  "language_info": {
   "name": "python",
   "version": "3.10.2"
  },
  "orig_nbformat": 4
 },
 "nbformat": 4,
 "nbformat_minor": 2
}
