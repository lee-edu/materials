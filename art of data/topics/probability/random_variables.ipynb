{
 "metadata": {
  "language_info": {
   "codemirror_mode": {
    "name": "ipython",
    "version": 3
   },
   "file_extension": ".py",
   "mimetype": "text/x-python",
   "name": "python",
   "nbconvert_exporter": "python",
   "pygments_lexer": "ipython3",
   "version": "3.9.2"
  },
  "orig_nbformat": 2,
  "kernelspec": {
   "name": "python392jvsc74a57bd063fd5069d213b44bf678585dea6b12cceca9941eaf7f819626cde1f2670de90d",
   "display_name": "Python 3.9.2 64-bit"
  },
  "metadata": {
   "interpreter": {
    "hash": "63fd5069d213b44bf678585dea6b12cceca9941eaf7f819626cde1f2670de90d"
   }
  }
 },
 "nbformat": 4,
 "nbformat_minor": 2,
 "cells": [
  {
   "source": [
    "# Review\n",
    "  1. You're looking at the weather forecast for this coming Saturday.  \n",
    "  You note that P(rain) = 80% and P(windy) = 35%.  \n",
    "  Assume that these are independent events.  \n",
    "  \n",
    "    a. What is P(rain and windy)?\n",
    "\n",
    "    b. What is P(rain or windy)?\n",
    "\n",
    "    c. Would your answers to (a) and (b) still be correct if the events aren't independent? Explain.\n",
    "\n",
    "    d. What is P(rain and no rain)?\n",
    "\n",
    "  2. A COVID-19 test has a 90% probability to give a correct diagnosis. What is the probability that a person who has COVID-19 will receive a correct diagnosis after:\n",
    "\n",
    "    a. Taking the test once?\n",
    "\n",
    "    b. Taking the test twice?\n",
    "\n",
    "    c. Taking the test 3 times?\n",
    "\n",
    "  3. Explain why an *observed* probability might end up different from a calculated *expected* probability.\n"
   ],
   "cell_type": "markdown",
   "metadata": {}
  },
  {
   "source": [
    "# Random Variables\n",
    "We've been talking about random outcomes and finding the probability of a certain event happening. To formalize this idea, we can use the vocabulary of **random variables**. \n",
    "\n",
    "A **random variable** is a numerical variable whose value depends on the result of a random phenomenon. Each random variable has a corresponding **probability distribution** which describes both the sample space and the probability of each possible value. \n",
    "\n",
    "The sum of all probabilities in the probability distribution must add up to 1."
   ],
   "cell_type": "markdown",
   "metadata": {}
  },
  {
   "source": [
    "## Example\n",
    "We've looked at many examples now of rolling a 6-sided die. How do we describle this scenario using random variables and probability distributions?\n",
    "\n",
    "  4. Let X = outcome of rolling a 6-sided die once  \n",
    "    a. What is the sample space?\n",
    "\n",
    "    b. What is the probability of rolling a 1?\n",
    "\n",
    "    c. Write code in the cell below that generates a dictionary `X`. The keys of `X` should be each event in the sample space, and the values should be the corresponding probability.\n",
    "\n",
    "    d. Write a function `P(x)` that takes an event and returns the probability of it happening.\n",
    "    "
   ],
   "cell_type": "markdown",
   "metadata": {}
  },
  {
   "cell_type": "code",
   "execution_count": 10,
   "metadata": {},
   "outputs": [],
   "source": [
    "# Write your code here\n",
    "\n",
    "\n",
    "# The following tests should print all true\n",
    "tests = []\n",
    "error = 0.0000001\n",
    "\n",
    "\n",
    "tests.append(X[1] - 1/6 < error) # The proper way to test float equality\n",
    "tests.append(X[3] == X[5])\n",
    "\n",
    "tests.append(P(1) == P(2))\n",
    "tests.append(P(4) - 1/6 < error)\n",
    "tests.append(P(7) == 0)\n",
    "for t in tests:\n",
    "    print(t)"
   ]
  },
  {
   "source": [
    "  5. Another way of defining a **probability distribution** is simply the code that you just wrote for (4d): a function that returns a probability given an event. Write code for the probability distribution of flipping a fair coin."
   ],
   "cell_type": "markdown",
   "metadata": {}
  },
  {
   "cell_type": "code",
   "execution_count": null,
   "metadata": {},
   "outputs": [],
   "source": []
  },
  {
   "source": [
    "  6. Write code to answer the following questions.  \n",
    "    Let X = outcome of rolling two dice at the same time  \n",
    "    a. What is the sample space? Use a list of **tuples**.\n",
    "\n",
    "    b. Write a function for the probability distribution of X.  \n",
    "    *Hint: Treat the input as a tuple.*\n",
    "\n",
    "    c. Write a function `P_sum(n)` that returns the probability of the two dice adding up to `n`.\n",
    "    "
   ],
   "cell_type": "markdown",
   "metadata": {}
  },
  {
   "cell_type": "code",
   "execution_count": null,
   "metadata": {},
   "outputs": [],
   "source": []
  },
  {
   "source": [
    "# Discrete vs Continuous\n",
    "The previous few examples involve random variables with *dicrete* outcomes. What if there aren't discrete outcomes? We'll go back to our friends the Palmer penguins.\n",
    "\n",
    "When we conduct a statistical experiment, we treat each variable in the data as a random variable. For example, let X = the body mass of a Gentoo penguin.\n",
    "\n",
    "Analysis of continuous random variables involves calculus and integration; however, we can get good estimates even without doing calculus. How? By looking at histograms!"
   ],
   "cell_type": "markdown",
   "metadata": {}
  },
  {
   "cell_type": "code",
   "execution_count": 12,
   "metadata": {},
   "outputs": [],
   "source": [
    "#!pip3 install palmerpenguins\n",
    "from palmerpenguins import load_penguins\n",
    "import pandas as pd\n",
    "\n",
    "penguins = load_penguins()\n",
    "#penguins.sample(5)"
   ]
  },
  {
   "source": [
    "## Using a Histogram\n",
    "So how do we use a histogram to figure out the probability distribution of a continuous random variable? We'll walk through an example.\n",
    "\n",
    "  7. Let X = the body mass of a randomly chosen penguin. Write code to generate a histogram for body mass. Use `altair` and add a **tooltip** so that you can see the `count` on hover.  \n",
    "    a. What is the size of the sample space?\n",
    "\n",
    "    b. How many penguins have a body mass between 4500 and 5000 grams?\n",
    "\n",
    "    c. What is the probability of choosing a penguin with body mass between 4500 and 5000 grams?\n",
    "\n",
    "    d. How would you describe the probability distribution of penguin body mass?\n",
    "    "
   ],
   "cell_type": "markdown",
   "metadata": {}
  },
  {
   "cell_type": "code",
   "execution_count": null,
   "metadata": {},
   "outputs": [],
   "source": []
  },
  {
   "source": [
    "# Expected Value\n",
    "Once we've figured out the probability distribution of a random variable, what can we do with this information? One useful application is something called **expected value**. In other words, what outcome do we generally *expect* to see? \n",
    "\n",
    "For a given random variable X, the **expected value** is equal to the **weighted average**. For every possible event, we multiply it by the probability of that event happening, and then we add all those together. In mathematical terms,\n",
    "\n",
    "$$ ExpectedValue(X) = \\Sigma xP(x), \\forall x \\in X$$"
   ],
   "cell_type": "markdown",
   "metadata": {}
  },
  {
   "source": [
    "  8. Your friend wants to make a bet with you: a fair coin will be flipped. If it lands in heads, you get a cup of coffee, but if it lands on tails, you lose a cup of coffee.  \n",
    "    a. What is the random variable in this scenario?\n",
    "    \n",
    "\n",
    "    b. What is the probability distribution of this random variable?\n",
    "\n",
    "    c. What is the expected value of this random variable?\n",
    "    "
   ],
   "cell_type": "markdown",
   "metadata": {}
  },
  {
   "source": [
    "  9. Your favorite coffee shop is having a promotion where each customer who enters gets to spin a wheel. They have a 50% chance of winning one free coffee and 30% chance of winning two free coffees. The rest of the wheel is blank.  \n",
    "    a. What is the probability of not winning at least one coffee?\n",
    "\n",
    "    b. On average, how many coffees would a customer expect to win upon spinning the wheel? \n",
    "    "
   ],
   "cell_type": "markdown",
   "metadata": {}
  },
  {
   "source": [
    "  10. The code below describes the probability distribution P_10 for some random variable.  \n",
    "    a. What is the sample space?\n",
    "\n",
    "    b. What is P_10(3)?\n",
    "\n",
    "    c. What is P_10(29)?\n",
    "\n",
    "    d. What is the expected value of this random variable? Write code to find the answer."
   ],
   "cell_type": "markdown",
   "metadata": {}
  },
  {
   "cell_type": "code",
   "execution_count": 3,
   "metadata": {},
   "outputs": [],
   "source": [
    "def P_10(x):\n",
    "    if x in range(1,6):\n",
    "        return x/15\n",
    "    else:\n",
    "        return 0\n"
   ]
  },
  {
   "source": [
    "# Questions\n",
    "Answer the following questions. You may add code cells and write code if that will help you answer the question."
   ],
   "cell_type": "markdown",
   "metadata": {}
  },
  {
   "source": [
    "  11. A player stumbles upon a rare chest in a video game and knows that a random amount of gold will be generated upon opening it. This is the probability distribution:\n",
    "\n",
    "|Probability|Gold|\n",
    "|--------|----|\n",
    "|1%       |1000|\n",
    "|10%      |500 |\n",
    "|50%      |100 |\n",
    "|39%      |80  |\n",
    "\n",
    "  What's the expected amount of gold this player will receive?"
   ],
   "cell_type": "markdown",
   "metadata": {}
  },
  {
   "source": [
    "  12. A basketball player is analyzing their own stats, and realizes that so far they've made 70% of their free throws. Let's analyze a situation where this player is given 2 free throws.  \n",
    "    a. What is the random variable and sample space?\n",
    "\n",
    "    b. What is the probability distribution?\n",
    "\n",
    "    c. Out of the 2, how many shots will this player get in on average?\n",
    "    "
   ],
   "cell_type": "markdown",
   "metadata": {}
  },
  {
   "source": [
    "  13. You're shopping online, and you're deciding between two different sellers for what seems to be the same item. Seller A has a rating of 9.5 with 10 reviews, while Seller B has a rating of 9.0 with 300 reviews. Which seller would you want to buy from more, and why?"
   ],
   "cell_type": "markdown",
   "metadata": {}
  }
 ]
}