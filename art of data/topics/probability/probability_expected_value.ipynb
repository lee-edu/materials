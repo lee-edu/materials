{
 "cells": [
  {
   "cell_type": "markdown",
   "metadata": {},
   "source": [
    "# Probability and Expected Value\n",
    "\n",
    "You might have already learned a lot about probability. Answer these questions, and look up any relevant information (or ask) as you go:"
   ]
  },
  {
   "cell_type": "markdown",
   "metadata": {},
   "source": [
    "1. You roll a fair six-sided die and a fair 20-sided die. What is the probability that:\n",
    "\n",
    "    a. The dice match each other\n",
    "\n",
    "    b. You roll at least one 6\n",
    "\n",
    "    c. You did not roll any multiples of 3\n",
    "\n",
    "    d. The sum of the numbers rolled is even"
   ]
  },
  {
   "cell_type": "markdown",
   "metadata": {},
   "source": [
    "2. If you roll the six-sided die 120 times, how many times do you expect to see the number 5? Write some python code to simulate this, and verify your answer."
   ]
  },
  {
   "cell_type": "code",
   "execution_count": null,
   "metadata": {},
   "outputs": [],
   "source": []
  },
  {
   "cell_type": "markdown",
   "metadata": {},
   "source": [
    "3. What happens if you roll the die 1,200 times? 12,000? 120,000?"
   ]
  },
  {
   "cell_type": "markdown",
   "metadata": {},
   "source": [
    "4. Your friend wants to make a bet with you: You flip a fair coin. If it lands on heads, you get a cup of coffee, but if it lands on tails, you lose a cup of coffee. The coin is flipped 2000 times. How many cups of coffee do you expect to have at the end? "
   ]
  },
  {
   "cell_type": "code",
   "execution_count": 11,
   "metadata": {},
   "outputs": [
    {
     "data": {
      "text/plain": [
       "-150"
      ]
     },
     "execution_count": 11,
     "metadata": {},
     "output_type": "execute_result"
    }
   ],
   "source": [
    "import random\n",
    "coffee = 0\n",
    "for _ in range(100000):\n",
    "  roll = random.randint(0,1)\n",
    "  coffee += 1 if roll == 0 else -1 # ternary operator; A if condition else B\n",
    "coffee"
   ]
  },
  {
   "cell_type": "markdown",
   "metadata": {},
   "source": [
    "5. A researcher is conducting a study on the proportion of adults in the US who are in favor of mandatory covid vaccinations. The researcher comments that because of the law of large numbers, the sampling method doesn't matter as long as the sample size is large enough. Explain why this claim is incorrect."
   ]
  },
  {
   "cell_type": "markdown",
   "metadata": {},
   "source": [
    "6. Your favorite coffee shop has a promotion where each customer who enters gets to spin a wheel. They have a 5% chance of winning one free coffee and 3% chance of winning two free coffees. The rest of the wheel is blank.\n",
    "\n",
    "    a. What is the probability of not winning at least one coffee?\n",
    "\n",
    "    b. On average, how many coffees would a customer expect to win upon spinning the wheel? Why could this be useful information?"
   ]
  },
  {
   "cell_type": "markdown",
   "metadata": {},
   "source": [
    "$Expected Value = \\sum{E * P(E)}$"
   ]
  },
  {
   "cell_type": "markdown",
   "metadata": {},
   "source": [
    "$Expected Value = \\sum{Event * P(Event)}$"
   ]
  },
  {
   "cell_type": "code",
   "execution_count": 12,
   "metadata": {},
   "outputs": [
    {
     "data": {
      "text/plain": [
       "0.11"
      ]
     },
     "execution_count": 12,
     "metadata": {},
     "output_type": "execute_result"
    }
   ],
   "source": [
    "0*.92 + 1 * .05 + 2 * .03"
   ]
  },
  {
   "cell_type": "markdown",
   "metadata": {},
   "source": [
    "7. A player stumbles upon a rare chest in a video game and knows that a random amount of gold will be generated upon opening it. This is the probability distribution:\n",
    "\n",
    "|Probability|Gold|\n",
    "|--------|----|\n",
    "|1%       |1000|\n",
    "|10%      |500 |\n",
    "|50%      |100 |\n",
    "|39%      |80  |\n",
    "\n",
    "  What's the expected amount of gold this player will receive?"
   ]
  },
  {
   "cell_type": "code",
   "execution_count": 13,
   "metadata": {},
   "outputs": [
    {
     "data": {
      "text/plain": [
       "141.2"
      ]
     },
     "execution_count": 13,
     "metadata": {},
     "output_type": "execute_result"
    }
   ],
   "source": [
    "e = [1000,500,100,80]\n",
    "p_e = [.01, .1, .5, .39]\n",
    "expected_value = sum(e[i] * p_e[i] for i in range(len(e)))\n",
    "expected_value"
   ]
  },
  {
   "cell_type": "markdown",
   "metadata": {},
   "source": [
    "8. A basketball player is analyzing their own stats, and realizes that so far they've made 70% of their free throws. Let's analyze a situation where this player is given 2 free throws.\n",
    "\n",
    "    a. What is the random variable and sample space?\n",
    "\n",
    "    b. What is the probability distribution?\n",
    "\n",
    "    c. Out of the 2, how many shots will this player get in on average?"
   ]
  },
  {
   "cell_type": "markdown",
   "metadata": {},
   "source": [
    "sample space = 0 1 2 \n",
    "random variable = number of free throws they make\n",
    "\n",
    "probability distribution\n",
    "f: event in sample space -> p(event)\n",
    "{\n",
    "  0: .3 * .3\n",
    "  1: .7 * .3 * 2!\n",
    "  2: 1 - above\n",
    "}\n",
    "\n",
    "def p_dist(event):\n",
    "  return dist[event]"
   ]
  }
 ],
 "metadata": {
  "interpreter": {
   "hash": "aee8b7b246df8f9039afb4144a1f6fd8d2ca17a180786b69acc140d282b71a49"
  },
  "kernelspec": {
   "display_name": "Python 3.9.10 64-bit",
   "language": "python",
   "name": "python3"
  },
  "language_info": {
   "codemirror_mode": {
    "name": "ipython",
    "version": 3
   },
   "file_extension": ".py",
   "mimetype": "text/x-python",
   "name": "python",
   "nbconvert_exporter": "python",
   "pygments_lexer": "ipython3",
   "version": "3.9.10"
  },
  "orig_nbformat": 4
 },
 "nbformat": 4,
 "nbformat_minor": 2
}
