{
 "metadata": {
  "language_info": {
   "codemirror_mode": {
    "name": "ipython",
    "version": 3
   },
   "file_extension": ".py",
   "mimetype": "text/x-python",
   "name": "python",
   "nbconvert_exporter": "python",
   "pygments_lexer": "ipython3",
   "version": "3.9.1"
  },
  "orig_nbformat": 2,
  "kernelspec": {
   "name": "python391jvsc74a57bd06e942df4d85f9e057d39df3ee298da62417367022ee9076991545a9f83591799",
   "display_name": "Python 3.9.1 64-bit ('3.9.1': pyenv)"
  },
  "metadata": {
   "interpreter": {
    "hash": "6e942df4d85f9e057d39df3ee298da62417367022ee9076991545a9f83591799"
   }
  }
 },
 "nbformat": 4,
 "nbformat_minor": 2,
 "cells": [
  {
   "source": [
    "# Probability Quiz\n",
    "Answer the following questions. You may write code and add code cells to help you answer the questions."
   ],
   "cell_type": "markdown",
   "metadata": {}
  },
  {
   "source": [
    "## Question 1\n",
    "I have a jar full of jellybeans. There are 23 red jellybeans, 48 green jellybeans, and 12 blue jellybeans.\n",
    "\n",
    "Let J = the colors of two jellybeans taken from the jar with replacement  \n",
    "The order matters!\n",
    "\n",
    "  a. What is the sample space?\n",
    "\n",
    "  b. What is the probability of getting two red jellybeans?\n",
    "\n",
    "  c. What is the probability of getting at least one green or exactly one blue jellybean?\n",
    "  "
   ],
   "cell_type": "markdown",
   "metadata": {}
  },
  {
   "cell_type": "code",
   "execution_count": 22,
   "metadata": {},
   "outputs": [
    {
     "output_type": "stream",
     "name": "stdout",
     "text": [
      "0.0767890840470315 0.9859195819422267\n"
     ]
    },
    {
     "output_type": "execute_result",
     "data": {
      "text/plain": [
       "0.72"
      ]
     },
     "metadata": {},
     "execution_count": 22
    }
   ],
   "source": [
    "jellybeans = {\"R\":23, \"G\":48, \"B\":12}\n",
    "total = sum(jellybeans.values())\n",
    "j_prob = dict(map(lambda x: (x[0], x[1]/total), jellybeans.items()))\n",
    "\n",
    "b = j_prob[\"R\"]**2\n",
    "\n",
    "c1g = 1 - (1 - j_prob[\"G\"])**2\n",
    "#c1b = j_prob[\"B\"] * (1 - j_prob[\"B\"])\n",
    "c1b = j_prob[\"B\"] * (1 - j_prob[\"B\"]) * 2\n",
    "cgb = j_prob[\"B\"] * j_prob[\"G\"]\n",
    "c = c1g + c1b - cgb\n",
    "\n",
    "\n",
    "print(b,c)\n",
    "\n",
    ".57+.15"
   ]
  },
  {
   "source": [
    "## Question 2\n",
    "A basketball player is practicing their free throws. Their record shows that they have a 85% chance of getting the ball in.\n",
    "\n",
    "a. What is the probability of getting at least one ball in after 4 tries?\n",
    "\n",
    "b. How many tries would it take to be 99.9999999999999% sure that they will get at least one ball in?"
   ],
   "cell_type": "markdown",
   "metadata": {}
  },
  {
   "cell_type": "code",
   "execution_count": 16,
   "metadata": {},
   "outputs": [
    {
     "output_type": "stream",
     "name": "stdout",
     "text": [
      "0.99949375\n"
     ]
    },
    {
     "output_type": "execute_result",
     "data": {
      "text/plain": [
       "19"
      ]
     },
     "metadata": {},
     "execution_count": 16
    }
   ],
   "source": [
    "chance = .85\n",
    "print(1 - .15**4)\n",
    "\n",
    "n = 0\n",
    "while (1 - .15**n) <= .999999999999999:\n",
    "    n += 1\n",
    "n"
   ]
  },
  {
   "source": [
    "## Question 3\n",
    "The code below describes the probability distribution for some random variable X.\n",
    "\n",
    "  a. What is the sample space?\n",
    "\n",
    "  b. What is the expected value of X?\n",
    "    "
   ],
   "cell_type": "markdown",
   "metadata": {}
  },
  {
   "cell_type": "code",
   "execution_count": 17,
   "metadata": {},
   "outputs": [
    {
     "output_type": "execute_result",
     "data": {
      "text/plain": [
       "37.46478873239437"
      ]
     },
     "metadata": {},
     "execution_count": 17
    }
   ],
   "source": [
    "import numpy as np\n",
    "\n",
    "X = np.arange(-10,51)\n",
    "Y = X**2\n",
    "Y = Y / np.sum(Y)\n",
    "\n",
    "'''\n",
    "from matplotlib import pyplot as plt\n",
    "plt.plot(X,Y)\n",
    "'''\n",
    "\n",
    "def P_X(x):\n",
    "    for i in range(len(X)):\n",
    "        if X[i] == x:\n",
    "            return Y[i]\n",
    "    return 0\n",
    "\n",
    "e = 0\n",
    "for x in X:\n",
    "    e += x * P_X(x)\n",
    "e"
   ]
  },
  {
   "source": [
    "## Question 4\n",
    "A trading card collector purchases booster packs with the hopes of receiving super rare cards. The chance of getting a super rare card is 3%. Each booster pack contains 10 cards, and the collector records the data after purchasing 200 booster packs.\n",
    "\n",
    "Describe the sampling distribution of sample proportions of *non* super rare cards. Be sure to include details such as center, variability, and skew."
   ],
   "cell_type": "markdown",
   "metadata": {}
  },
  {
   "source": [
    "## Question 5\n",
    "I am rolling two dice: one 7-sided die and one 18-sided die. I roll the d7 first, and then I roll the d18.\n",
    "\n",
    "a. Generate a list of tuples for the sample space.\n",
    "\n",
    "b. Write a function `P_sum(n)` that returns the probability of the results of the two rolls adding up to `n`."
   ],
   "cell_type": "markdown",
   "metadata": {}
  },
  {
   "cell_type": "code",
   "execution_count": 21,
   "metadata": {},
   "outputs": [
    {
     "output_type": "execute_result",
     "data": {
      "text/plain": [
       "{0: 0.0,\n",
       " 1: 0.0,\n",
       " 2: 0.007936507936507936,\n",
       " 3: 0.015873015873015872,\n",
       " 4: 0.023809523809523808,\n",
       " 5: 0.031746031746031744,\n",
       " 6: 0.03968253968253968,\n",
       " 7: 0.047619047619047616,\n",
       " 8: 0.05555555555555555,\n",
       " 9: 0.05555555555555555,\n",
       " 10: 0.05555555555555555,\n",
       " 11: 0.05555555555555555,\n",
       " 12: 0.05555555555555555,\n",
       " 13: 0.05555555555555555,\n",
       " 14: 0.05555555555555555,\n",
       " 15: 0.05555555555555555,\n",
       " 16: 0.05555555555555555,\n",
       " 17: 0.05555555555555555,\n",
       " 18: 0.05555555555555555,\n",
       " 19: 0.05555555555555555,\n",
       " 20: 0.047619047619047616,\n",
       " 21: 0.03968253968253968,\n",
       " 22: 0.031746031746031744,\n",
       " 23: 0.023809523809523808,\n",
       " 24: 0.015873015873015872,\n",
       " 25: 0.007936507936507936,\n",
       " 26: 0.0,\n",
       " 27: 0.0,\n",
       " 28: 0.0,\n",
       " 29: 0.0,\n",
       " 30: 0.0,\n",
       " 31: 0.0,\n",
       " 32: 0.0,\n",
       " 33: 0.0,\n",
       " 34: 0.0,\n",
       " 35: 0.0,\n",
       " 36: 0.0,\n",
       " 37: 0.0,\n",
       " 38: 0.0,\n",
       " 39: 0.0,\n",
       " 40: 0.0,\n",
       " 41: 0.0,\n",
       " 42: 0.0,\n",
       " 43: 0.0,\n",
       " 44: 0.0,\n",
       " 45: 0.0,\n",
       " 46: 0.0,\n",
       " 47: 0.0,\n",
       " 48: 0.0,\n",
       " 49: 0.0}"
      ]
     },
     "metadata": {},
     "execution_count": 21
    }
   ],
   "source": [
    "ss = [(i, j) for i in range(1,8) for j in range(1, 19)]\n",
    "\n",
    "def P_sum(n):\n",
    "    return len([_ for e in ss if sum(e) == n])/len(ss)\n",
    "\n",
    "{i:P_sum(i) for i in range(50)}"
   ]
  },
  {
   "cell_type": "code",
   "execution_count": null,
   "metadata": {},
   "outputs": [],
   "source": []
  }
 ]
}