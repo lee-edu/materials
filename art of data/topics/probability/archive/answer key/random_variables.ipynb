{
 "metadata": {
  "language_info": {
   "codemirror_mode": {
    "name": "ipython",
    "version": 3
   },
   "file_extension": ".py",
   "mimetype": "text/x-python",
   "name": "python",
   "nbconvert_exporter": "python",
   "pygments_lexer": "ipython3",
   "version": "3.9.1"
  },
  "orig_nbformat": 2,
  "kernelspec": {
   "name": "python391jvsc74a57bd06e942df4d85f9e057d39df3ee298da62417367022ee9076991545a9f83591799",
   "display_name": "Python 3.9.1 64-bit ('3.9.1': pyenv)"
  },
  "metadata": {
   "interpreter": {
    "hash": "6e942df4d85f9e057d39df3ee298da62417367022ee9076991545a9f83591799"
   }
  }
 },
 "nbformat": 4,
 "nbformat_minor": 2,
 "cells": [
  {
   "source": [
    "# Review\n",
    "  1. You're looking at the weather forecast for this coming Saturday.  \n",
    "  You note that P(rain) = 80% and P(windy) = 35%.  \n",
    "  Assume that these are independent events.  \n",
    "  \n",
    "    a. What is P(rain and windy)?   .8 * .35\n",
    "\n",
    "    b. What is P(rain or windy)?    .8 + .35 - .8 * .35\n",
    "\n",
    "    c. Would your answers to (a) and (b) still be correct if the events aren't independent? Explain.\n",
    "\n",
    "    d. What is P(rain and no rain)?\n",
    "\n",
    "  2. A COVID-19 test has a 90% probability to give a correct diagnosis. What is the probability that a person who has COVID-19 will receive a correct diagnosis after:\n",
    "\n",
    "    a. Taking the test once?      .9\n",
    "\n",
    "    b. Taking the test twice?     .99\n",
    "\n",
    "    c. Taking the test 3 times?   .999\n",
    "\n",
    "  3. Explain why an *observed* probability might end up different from a calculated *expected* probability.\n"
   ],
   "cell_type": "markdown",
   "metadata": {}
  },
  {
   "source": [
    "# Random Variables\n",
    "We've been talking about random outcomes and finding the probability of a certain event happening. To formalize this idea, we can use the vocabulary of **random variables**. \n",
    "\n",
    "A **random variable** is a numerical variable whose value depends on the result of a random phenomenon. Each random variable has a corresponding **probability distribution** which describes both the sample space and the probability of each possible value. \n",
    "\n",
    "The sum of all probabilities in the probability distribution must add up to 1."
   ],
   "cell_type": "markdown",
   "metadata": {}
  },
  {
   "source": [
    "## Example\n",
    "We've looked at many examples now of rolling a 6-sided die. How do we describle this scenario using random variables and probability distributions?\n",
    "\n",
    "  4. Let X = outcome of rolling a 6-sided die once  \n",
    "    a. What is the sample space?\n",
    "\n",
    "    b. What is the probability of rolling a 1?\n",
    "\n",
    "    c. Write code in the cell below that generates a dictionary `X`. The keys of `X` should be each event in the sample space, and the values should be the corresponding probability.\n",
    "\n",
    "    d. Write a function `P(x)` that takes an event and returns the probability of it happening.\n",
    "    "
   ],
   "cell_type": "markdown",
   "metadata": {}
  },
  {
   "cell_type": "code",
   "execution_count": 2,
   "metadata": {},
   "outputs": [
    {
     "output_type": "stream",
     "name": "stdout",
     "text": [
      "True\nTrue\nTrue\nTrue\nTrue\n"
     ]
    }
   ],
   "source": [
    "# Write your code here\n",
    "X = {i:1/6 for i in range(1,7)}\n",
    "def P(x):\n",
    "    return X[x] if x in range(1,7) else 0\n",
    "\n",
    "# The following tests should print all true\n",
    "tests = []\n",
    "error = 0.0000001\n",
    "\n",
    "tests.append(X[1] - 1/6 < error) # The proper way to test float equality\n",
    "tests.append(X[3] == X[5])\n",
    "\n",
    "tests.append(P(1) == P(2))\n",
    "tests.append(P(4) - 1/6 < error)\n",
    "tests.append(P(7) == 0)\n",
    "for t in tests:\n",
    "    print(t)"
   ]
  },
  {
   "source": [
    "  5. Another way of defining a **probability distribution** is simply the code that you just wrote for (4d): a function that returns a probability given an event. Write code for the probability distribution of flipping a fair coin."
   ],
   "cell_type": "markdown",
   "metadata": {}
  },
  {
   "cell_type": "code",
   "execution_count": 3,
   "metadata": {},
   "outputs": [],
   "source": [
    "def P_coin(x):\n",
    "    pdf = {\"H\":0.5, \"T\": 0.5}\n",
    "    return pdf[x] if x in pdf else 0"
   ]
  },
  {
   "source": [
    "  6. Write code to answer the following questions.  \n",
    "    Let X = outcome of rolling two dice at the same time  \n",
    "    a. What is the sample space? Use a list of **tuples**.\n",
    "\n",
    "    b. Write a function for the probability distribution of X.  \n",
    "    *Hint: Treat the input as a tuple.*\n",
    "\n",
    "    c. Write a function `P_sum(n)` that returns the probability of the two dice adding up to `n`.\n",
    "    "
   ],
   "cell_type": "markdown",
   "metadata": {}
  },
  {
   "cell_type": "code",
   "execution_count": 4,
   "metadata": {},
   "outputs": [
    {
     "output_type": "stream",
     "name": "stdout",
     "text": [
      "1/36 = 0.027777777777777776\n1/36 = 0.027777777777777776\n5/36 = 0.1388888888888889\n0/36 = 0.0\n"
     ]
    }
   ],
   "source": [
    "ss = [(i,j) for i in range(1,7) for j in range(1,7)]\n",
    "def P_2d6(x):\n",
    "    return 1/36 if x in ss else 0\n",
    "\n",
    "def P_sum(n):\n",
    "    count = 0\n",
    "    for event in ss:\n",
    "        if sum(event) == n:\n",
    "            count += 1\n",
    "    return f\"{count}/{len(ss)} = {count/len(ss)}\"\n",
    "\n",
    "print(P_sum(2))\n",
    "print(P_sum(12))\n",
    "print(P_sum(8))\n",
    "print(P_sum(23))"
   ]
  },
  {
   "source": [
    "# Discrete vs Continuous\n",
    "The previous few examples involve random variables with *dicrete* outcomes. What if there aren't discrete outcomes? We'll go back to our friends the Palmer penguins.\n",
    "\n",
    "When we conduct a statistical experiment, we treat each variable in the data as a random variable. For example, let X = the body mass of a Gentoo penguin.\n",
    "\n",
    "Analysis of continuous random variables involves calculus and integration; however, we can get good estimates even without doing calculus. How? By looking at histograms!"
   ],
   "cell_type": "markdown",
   "metadata": {}
  },
  {
   "cell_type": "code",
   "execution_count": 5,
   "metadata": {},
   "outputs": [],
   "source": [
    "#!pip3 install palmerpenguins\n",
    "from palmerpenguins import load_penguins\n",
    "import pandas as pd\n",
    "\n",
    "penguins = load_penguins()\n",
    "#penguins.sample(5)"
   ]
  },
  {
   "source": [
    "## Using a Histogram\n",
    "So how do we use a histogram to figure out the probability distribution of a continuous random variable? We'll walk through an example.\n",
    "\n",
    "  7. Let X = the body mass of a randomly chosen penguin. Write code to generate a histogram for body mass. Use `altair` and add a **tooltip** so that you can see the `count` on hover.  \n",
    "    a. What is the size of the sample space?\n",
    "\n",
    "    b. How many penguins have a body mass between 4500 and 5000 grams?\n",
    "\n",
    "    c. What is the probability of choosing a penguin with body mass between 4500 and 5000 grams?\n",
    "\n",
    "    d. How would you describe the probability distribution of penguin body mass?\n",
    "    "
   ],
   "cell_type": "markdown",
   "metadata": {}
  },
  {
   "cell_type": "code",
   "execution_count": 10,
   "metadata": {},
   "outputs": [
    {
     "output_type": "execute_result",
     "data": {
      "text/html": "\n<div id=\"altair-viz-627355b80707468ab99e4a98db7bf1f8\"></div>\n<script type=\"text/javascript\">\n  (function(spec, embedOpt){\n    let outputDiv = document.currentScript.previousElementSibling;\n    if (outputDiv.id !== \"altair-viz-627355b80707468ab99e4a98db7bf1f8\") {\n      outputDiv = document.getElementById(\"altair-viz-627355b80707468ab99e4a98db7bf1f8\");\n    }\n    const paths = {\n      \"vega\": \"https://cdn.jsdelivr.net/npm//vega@5?noext\",\n      \"vega-lib\": \"https://cdn.jsdelivr.net/npm//vega-lib?noext\",\n      \"vega-lite\": \"https://cdn.jsdelivr.net/npm//vega-lite@4.8.1?noext\",\n      \"vega-embed\": \"https://cdn.jsdelivr.net/npm//vega-embed@6?noext\",\n    };\n\n    function loadScript(lib) {\n      return new Promise(function(resolve, reject) {\n        var s = document.createElement('script');\n        s.src = paths[lib];\n        s.async = true;\n        s.onload = () => resolve(paths[lib]);\n        s.onerror = () => reject(`Error loading script: ${paths[lib]}`);\n        document.getElementsByTagName(\"head\")[0].appendChild(s);\n      });\n    }\n\n    function showError(err) {\n      outputDiv.innerHTML = `<div class=\"error\" style=\"color:red;\">${err}</div>`;\n      throw err;\n    }\n\n    function displayChart(vegaEmbed) {\n      vegaEmbed(outputDiv, spec, embedOpt)\n        .catch(err => showError(`Javascript Error: ${err.message}<br>This usually means there's a typo in your chart specification. See the javascript console for the full traceback.`));\n    }\n\n    if(typeof define === \"function\" && define.amd) {\n      requirejs.config({paths});\n      require([\"vega-embed\"], displayChart, err => showError(`Error loading script: ${err.message}`));\n    } else if (typeof vegaEmbed === \"function\") {\n      displayChart(vegaEmbed);\n    } else {\n      loadScript(\"vega\")\n        .then(() => loadScript(\"vega-lite\"))\n        .then(() => loadScript(\"vega-embed\"))\n        .catch(showError)\n        .then(() => displayChart(vegaEmbed));\n    }\n  })({\"config\": {\"view\": {\"continuousWidth\": 400, \"continuousHeight\": 300}}, \"data\": {\"name\": \"data-d00e1631cca48c544438d30d2b470e8a\"}, \"mark\": \"bar\", \"encoding\": {\"tooltip\": [{\"type\": \"quantitative\", \"aggregate\": \"count\"}], \"x\": {\"type\": \"quantitative\", \"bin\": true, \"field\": \"body_mass_g\"}, \"y\": {\"type\": \"quantitative\", \"aggregate\": \"count\"}}, \"$schema\": \"https://vega.github.io/schema/vega-lite/v4.8.1.json\", \"datasets\": {\"data-d00e1631cca48c544438d30d2b470e8a\": [{\"species\": \"Adelie\", \"island\": \"Torgersen\", \"bill_length_mm\": 39.1, \"bill_depth_mm\": 18.7, \"flipper_length_mm\": 181.0, \"body_mass_g\": 3750.0, \"sex\": \"male\", \"year\": 2007}, {\"species\": \"Adelie\", \"island\": \"Torgersen\", \"bill_length_mm\": 39.5, \"bill_depth_mm\": 17.4, \"flipper_length_mm\": 186.0, \"body_mass_g\": 3800.0, \"sex\": \"female\", \"year\": 2007}, {\"species\": \"Adelie\", \"island\": \"Torgersen\", \"bill_length_mm\": 40.3, \"bill_depth_mm\": 18.0, \"flipper_length_mm\": 195.0, \"body_mass_g\": 3250.0, \"sex\": \"female\", \"year\": 2007}, {\"species\": \"Adelie\", \"island\": \"Torgersen\", \"bill_length_mm\": null, \"bill_depth_mm\": null, \"flipper_length_mm\": null, \"body_mass_g\": null, \"sex\": null, \"year\": 2007}, {\"species\": \"Adelie\", \"island\": \"Torgersen\", \"bill_length_mm\": 36.7, \"bill_depth_mm\": 19.3, \"flipper_length_mm\": 193.0, \"body_mass_g\": 3450.0, \"sex\": \"female\", \"year\": 2007}, {\"species\": \"Adelie\", \"island\": \"Torgersen\", \"bill_length_mm\": 39.3, \"bill_depth_mm\": 20.6, \"flipper_length_mm\": 190.0, \"body_mass_g\": 3650.0, \"sex\": \"male\", \"year\": 2007}, {\"species\": \"Adelie\", \"island\": \"Torgersen\", \"bill_length_mm\": 38.9, \"bill_depth_mm\": 17.8, \"flipper_length_mm\": 181.0, \"body_mass_g\": 3625.0, \"sex\": \"female\", \"year\": 2007}, {\"species\": \"Adelie\", \"island\": \"Torgersen\", \"bill_length_mm\": 39.2, \"bill_depth_mm\": 19.6, \"flipper_length_mm\": 195.0, \"body_mass_g\": 4675.0, \"sex\": \"male\", \"year\": 2007}, {\"species\": \"Adelie\", \"island\": \"Torgersen\", \"bill_length_mm\": 34.1, \"bill_depth_mm\": 18.1, \"flipper_length_mm\": 193.0, \"body_mass_g\": 3475.0, \"sex\": null, \"year\": 2007}, {\"species\": \"Adelie\", \"island\": \"Torgersen\", \"bill_length_mm\": 42.0, \"bill_depth_mm\": 20.2, \"flipper_length_mm\": 190.0, \"body_mass_g\": 4250.0, \"sex\": null, \"year\": 2007}, {\"species\": \"Adelie\", \"island\": \"Torgersen\", \"bill_length_mm\": 37.8, \"bill_depth_mm\": 17.1, \"flipper_length_mm\": 186.0, \"body_mass_g\": 3300.0, \"sex\": null, \"year\": 2007}, {\"species\": \"Adelie\", \"island\": \"Torgersen\", \"bill_length_mm\": 37.8, \"bill_depth_mm\": 17.3, \"flipper_length_mm\": 180.0, \"body_mass_g\": 3700.0, \"sex\": null, \"year\": 2007}, {\"species\": \"Adelie\", \"island\": \"Torgersen\", \"bill_length_mm\": 41.1, \"bill_depth_mm\": 17.6, \"flipper_length_mm\": 182.0, \"body_mass_g\": 3200.0, \"sex\": \"female\", \"year\": 2007}, {\"species\": \"Adelie\", \"island\": \"Torgersen\", \"bill_length_mm\": 38.6, \"bill_depth_mm\": 21.2, \"flipper_length_mm\": 191.0, \"body_mass_g\": 3800.0, \"sex\": \"male\", \"year\": 2007}, {\"species\": \"Adelie\", \"island\": \"Torgersen\", \"bill_length_mm\": 34.6, \"bill_depth_mm\": 21.1, \"flipper_length_mm\": 198.0, \"body_mass_g\": 4400.0, \"sex\": \"male\", \"year\": 2007}, {\"species\": \"Adelie\", \"island\": \"Torgersen\", \"bill_length_mm\": 36.6, \"bill_depth_mm\": 17.8, \"flipper_length_mm\": 185.0, \"body_mass_g\": 3700.0, \"sex\": \"female\", \"year\": 2007}, {\"species\": \"Adelie\", \"island\": \"Torgersen\", \"bill_length_mm\": 38.7, \"bill_depth_mm\": 19.0, \"flipper_length_mm\": 195.0, \"body_mass_g\": 3450.0, \"sex\": \"female\", \"year\": 2007}, {\"species\": \"Adelie\", \"island\": \"Torgersen\", \"bill_length_mm\": 42.5, \"bill_depth_mm\": 20.7, \"flipper_length_mm\": 197.0, \"body_mass_g\": 4500.0, \"sex\": \"male\", \"year\": 2007}, {\"species\": \"Adelie\", \"island\": \"Torgersen\", \"bill_length_mm\": 34.4, \"bill_depth_mm\": 18.4, \"flipper_length_mm\": 184.0, \"body_mass_g\": 3325.0, \"sex\": \"female\", \"year\": 2007}, {\"species\": \"Adelie\", \"island\": \"Torgersen\", \"bill_length_mm\": 46.0, \"bill_depth_mm\": 21.5, \"flipper_length_mm\": 194.0, \"body_mass_g\": 4200.0, \"sex\": \"male\", \"year\": 2007}, {\"species\": \"Adelie\", \"island\": \"Biscoe\", \"bill_length_mm\": 37.8, \"bill_depth_mm\": 18.3, \"flipper_length_mm\": 174.0, \"body_mass_g\": 3400.0, \"sex\": \"female\", \"year\": 2007}, {\"species\": \"Adelie\", \"island\": \"Biscoe\", \"bill_length_mm\": 37.7, \"bill_depth_mm\": 18.7, \"flipper_length_mm\": 180.0, \"body_mass_g\": 3600.0, \"sex\": \"male\", \"year\": 2007}, {\"species\": \"Adelie\", \"island\": \"Biscoe\", \"bill_length_mm\": 35.9, \"bill_depth_mm\": 19.2, \"flipper_length_mm\": 189.0, \"body_mass_g\": 3800.0, \"sex\": \"female\", \"year\": 2007}, {\"species\": \"Adelie\", \"island\": \"Biscoe\", \"bill_length_mm\": 38.2, \"bill_depth_mm\": 18.1, \"flipper_length_mm\": 185.0, \"body_mass_g\": 3950.0, \"sex\": \"male\", \"year\": 2007}, {\"species\": \"Adelie\", \"island\": \"Biscoe\", \"bill_length_mm\": 38.8, \"bill_depth_mm\": 17.2, \"flipper_length_mm\": 180.0, \"body_mass_g\": 3800.0, \"sex\": \"male\", \"year\": 2007}, {\"species\": \"Adelie\", \"island\": \"Biscoe\", \"bill_length_mm\": 35.3, \"bill_depth_mm\": 18.9, \"flipper_length_mm\": 187.0, \"body_mass_g\": 3800.0, \"sex\": \"female\", \"year\": 2007}, {\"species\": \"Adelie\", \"island\": \"Biscoe\", \"bill_length_mm\": 40.6, \"bill_depth_mm\": 18.6, \"flipper_length_mm\": 183.0, \"body_mass_g\": 3550.0, \"sex\": \"male\", \"year\": 2007}, {\"species\": \"Adelie\", \"island\": \"Biscoe\", \"bill_length_mm\": 40.5, \"bill_depth_mm\": 17.9, \"flipper_length_mm\": 187.0, \"body_mass_g\": 3200.0, \"sex\": \"female\", \"year\": 2007}, {\"species\": \"Adelie\", \"island\": \"Biscoe\", \"bill_length_mm\": 37.9, \"bill_depth_mm\": 18.6, \"flipper_length_mm\": 172.0, \"body_mass_g\": 3150.0, \"sex\": \"female\", \"year\": 2007}, {\"species\": \"Adelie\", \"island\": \"Biscoe\", \"bill_length_mm\": 40.5, \"bill_depth_mm\": 18.9, \"flipper_length_mm\": 180.0, \"body_mass_g\": 3950.0, \"sex\": \"male\", \"year\": 2007}, {\"species\": \"Adelie\", \"island\": \"Dream\", \"bill_length_mm\": 39.5, \"bill_depth_mm\": 16.7, \"flipper_length_mm\": 178.0, \"body_mass_g\": 3250.0, \"sex\": \"female\", \"year\": 2007}, {\"species\": \"Adelie\", \"island\": \"Dream\", \"bill_length_mm\": 37.2, \"bill_depth_mm\": 18.1, \"flipper_length_mm\": 178.0, \"body_mass_g\": 3900.0, \"sex\": \"male\", \"year\": 2007}, {\"species\": \"Adelie\", \"island\": \"Dream\", \"bill_length_mm\": 39.5, \"bill_depth_mm\": 17.8, \"flipper_length_mm\": 188.0, \"body_mass_g\": 3300.0, \"sex\": \"female\", \"year\": 2007}, {\"species\": \"Adelie\", \"island\": \"Dream\", \"bill_length_mm\": 40.9, \"bill_depth_mm\": 18.9, \"flipper_length_mm\": 184.0, \"body_mass_g\": 3900.0, \"sex\": \"male\", \"year\": 2007}, {\"species\": \"Adelie\", \"island\": \"Dream\", \"bill_length_mm\": 36.4, \"bill_depth_mm\": 17.0, \"flipper_length_mm\": 195.0, \"body_mass_g\": 3325.0, \"sex\": \"female\", \"year\": 2007}, {\"species\": \"Adelie\", \"island\": \"Dream\", \"bill_length_mm\": 39.2, \"bill_depth_mm\": 21.1, \"flipper_length_mm\": 196.0, \"body_mass_g\": 4150.0, \"sex\": \"male\", \"year\": 2007}, {\"species\": \"Adelie\", \"island\": \"Dream\", \"bill_length_mm\": 38.8, \"bill_depth_mm\": 20.0, \"flipper_length_mm\": 190.0, \"body_mass_g\": 3950.0, \"sex\": \"male\", \"year\": 2007}, {\"species\": \"Adelie\", \"island\": \"Dream\", \"bill_length_mm\": 42.2, \"bill_depth_mm\": 18.5, \"flipper_length_mm\": 180.0, \"body_mass_g\": 3550.0, \"sex\": \"female\", \"year\": 2007}, {\"species\": \"Adelie\", \"island\": \"Dream\", \"bill_length_mm\": 37.6, \"bill_depth_mm\": 19.3, \"flipper_length_mm\": 181.0, \"body_mass_g\": 3300.0, \"sex\": \"female\", \"year\": 2007}, {\"species\": \"Adelie\", \"island\": \"Dream\", \"bill_length_mm\": 39.8, \"bill_depth_mm\": 19.1, \"flipper_length_mm\": 184.0, \"body_mass_g\": 4650.0, \"sex\": \"male\", \"year\": 2007}, {\"species\": \"Adelie\", \"island\": \"Dream\", \"bill_length_mm\": 36.5, \"bill_depth_mm\": 18.0, \"flipper_length_mm\": 182.0, \"body_mass_g\": 3150.0, \"sex\": \"female\", \"year\": 2007}, {\"species\": \"Adelie\", \"island\": \"Dream\", \"bill_length_mm\": 40.8, \"bill_depth_mm\": 18.4, \"flipper_length_mm\": 195.0, \"body_mass_g\": 3900.0, \"sex\": \"male\", \"year\": 2007}, {\"species\": \"Adelie\", \"island\": \"Dream\", \"bill_length_mm\": 36.0, \"bill_depth_mm\": 18.5, \"flipper_length_mm\": 186.0, \"body_mass_g\": 3100.0, \"sex\": \"female\", \"year\": 2007}, {\"species\": \"Adelie\", \"island\": \"Dream\", \"bill_length_mm\": 44.1, \"bill_depth_mm\": 19.7, \"flipper_length_mm\": 196.0, \"body_mass_g\": 4400.0, \"sex\": \"male\", \"year\": 2007}, {\"species\": \"Adelie\", \"island\": \"Dream\", \"bill_length_mm\": 37.0, \"bill_depth_mm\": 16.9, \"flipper_length_mm\": 185.0, \"body_mass_g\": 3000.0, \"sex\": \"female\", \"year\": 2007}, {\"species\": \"Adelie\", \"island\": \"Dream\", \"bill_length_mm\": 39.6, \"bill_depth_mm\": 18.8, \"flipper_length_mm\": 190.0, \"body_mass_g\": 4600.0, \"sex\": \"male\", \"year\": 2007}, {\"species\": \"Adelie\", \"island\": \"Dream\", \"bill_length_mm\": 41.1, \"bill_depth_mm\": 19.0, \"flipper_length_mm\": 182.0, \"body_mass_g\": 3425.0, \"sex\": \"male\", \"year\": 2007}, {\"species\": \"Adelie\", \"island\": \"Dream\", \"bill_length_mm\": 37.5, \"bill_depth_mm\": 18.9, \"flipper_length_mm\": 179.0, \"body_mass_g\": 2975.0, \"sex\": null, \"year\": 2007}, {\"species\": \"Adelie\", \"island\": \"Dream\", \"bill_length_mm\": 36.0, \"bill_depth_mm\": 17.9, \"flipper_length_mm\": 190.0, \"body_mass_g\": 3450.0, \"sex\": \"female\", \"year\": 2007}, {\"species\": \"Adelie\", \"island\": \"Dream\", \"bill_length_mm\": 42.3, \"bill_depth_mm\": 21.2, \"flipper_length_mm\": 191.0, \"body_mass_g\": 4150.0, \"sex\": \"male\", \"year\": 2007}, {\"species\": \"Adelie\", \"island\": \"Biscoe\", \"bill_length_mm\": 39.6, \"bill_depth_mm\": 17.7, \"flipper_length_mm\": 186.0, \"body_mass_g\": 3500.0, \"sex\": \"female\", \"year\": 2008}, {\"species\": \"Adelie\", \"island\": \"Biscoe\", \"bill_length_mm\": 40.1, \"bill_depth_mm\": 18.9, \"flipper_length_mm\": 188.0, \"body_mass_g\": 4300.0, \"sex\": \"male\", \"year\": 2008}, {\"species\": \"Adelie\", \"island\": \"Biscoe\", \"bill_length_mm\": 35.0, \"bill_depth_mm\": 17.9, \"flipper_length_mm\": 190.0, \"body_mass_g\": 3450.0, \"sex\": \"female\", \"year\": 2008}, {\"species\": \"Adelie\", \"island\": \"Biscoe\", \"bill_length_mm\": 42.0, \"bill_depth_mm\": 19.5, \"flipper_length_mm\": 200.0, \"body_mass_g\": 4050.0, \"sex\": \"male\", \"year\": 2008}, {\"species\": \"Adelie\", \"island\": \"Biscoe\", \"bill_length_mm\": 34.5, \"bill_depth_mm\": 18.1, \"flipper_length_mm\": 187.0, \"body_mass_g\": 2900.0, \"sex\": \"female\", \"year\": 2008}, {\"species\": \"Adelie\", \"island\": \"Biscoe\", \"bill_length_mm\": 41.4, \"bill_depth_mm\": 18.6, \"flipper_length_mm\": 191.0, \"body_mass_g\": 3700.0, \"sex\": \"male\", \"year\": 2008}, {\"species\": \"Adelie\", \"island\": \"Biscoe\", \"bill_length_mm\": 39.0, \"bill_depth_mm\": 17.5, \"flipper_length_mm\": 186.0, \"body_mass_g\": 3550.0, \"sex\": \"female\", \"year\": 2008}, {\"species\": \"Adelie\", \"island\": \"Biscoe\", \"bill_length_mm\": 40.6, \"bill_depth_mm\": 18.8, \"flipper_length_mm\": 193.0, \"body_mass_g\": 3800.0, \"sex\": \"male\", \"year\": 2008}, {\"species\": \"Adelie\", \"island\": \"Biscoe\", \"bill_length_mm\": 36.5, \"bill_depth_mm\": 16.6, \"flipper_length_mm\": 181.0, \"body_mass_g\": 2850.0, \"sex\": \"female\", \"year\": 2008}, {\"species\": \"Adelie\", \"island\": \"Biscoe\", \"bill_length_mm\": 37.6, \"bill_depth_mm\": 19.1, \"flipper_length_mm\": 194.0, \"body_mass_g\": 3750.0, \"sex\": \"male\", \"year\": 2008}, {\"species\": \"Adelie\", \"island\": \"Biscoe\", \"bill_length_mm\": 35.7, \"bill_depth_mm\": 16.9, \"flipper_length_mm\": 185.0, \"body_mass_g\": 3150.0, \"sex\": \"female\", \"year\": 2008}, {\"species\": \"Adelie\", \"island\": \"Biscoe\", \"bill_length_mm\": 41.3, \"bill_depth_mm\": 21.1, \"flipper_length_mm\": 195.0, \"body_mass_g\": 4400.0, \"sex\": \"male\", \"year\": 2008}, {\"species\": \"Adelie\", \"island\": \"Biscoe\", \"bill_length_mm\": 37.6, \"bill_depth_mm\": 17.0, \"flipper_length_mm\": 185.0, \"body_mass_g\": 3600.0, \"sex\": \"female\", \"year\": 2008}, {\"species\": \"Adelie\", \"island\": \"Biscoe\", \"bill_length_mm\": 41.1, \"bill_depth_mm\": 18.2, \"flipper_length_mm\": 192.0, \"body_mass_g\": 4050.0, \"sex\": \"male\", \"year\": 2008}, {\"species\": \"Adelie\", \"island\": \"Biscoe\", \"bill_length_mm\": 36.4, \"bill_depth_mm\": 17.1, \"flipper_length_mm\": 184.0, \"body_mass_g\": 2850.0, \"sex\": \"female\", \"year\": 2008}, {\"species\": \"Adelie\", \"island\": \"Biscoe\", \"bill_length_mm\": 41.6, \"bill_depth_mm\": 18.0, \"flipper_length_mm\": 192.0, \"body_mass_g\": 3950.0, \"sex\": \"male\", \"year\": 2008}, {\"species\": \"Adelie\", \"island\": \"Biscoe\", \"bill_length_mm\": 35.5, \"bill_depth_mm\": 16.2, \"flipper_length_mm\": 195.0, \"body_mass_g\": 3350.0, \"sex\": \"female\", \"year\": 2008}, {\"species\": \"Adelie\", \"island\": \"Biscoe\", \"bill_length_mm\": 41.1, \"bill_depth_mm\": 19.1, \"flipper_length_mm\": 188.0, \"body_mass_g\": 4100.0, \"sex\": \"male\", \"year\": 2008}, {\"species\": \"Adelie\", \"island\": \"Torgersen\", \"bill_length_mm\": 35.9, \"bill_depth_mm\": 16.6, \"flipper_length_mm\": 190.0, \"body_mass_g\": 3050.0, \"sex\": \"female\", \"year\": 2008}, {\"species\": \"Adelie\", \"island\": \"Torgersen\", \"bill_length_mm\": 41.8, \"bill_depth_mm\": 19.4, \"flipper_length_mm\": 198.0, \"body_mass_g\": 4450.0, \"sex\": \"male\", \"year\": 2008}, {\"species\": \"Adelie\", \"island\": \"Torgersen\", \"bill_length_mm\": 33.5, \"bill_depth_mm\": 19.0, \"flipper_length_mm\": 190.0, \"body_mass_g\": 3600.0, \"sex\": \"female\", \"year\": 2008}, {\"species\": \"Adelie\", \"island\": \"Torgersen\", \"bill_length_mm\": 39.7, \"bill_depth_mm\": 18.4, \"flipper_length_mm\": 190.0, \"body_mass_g\": 3900.0, \"sex\": \"male\", \"year\": 2008}, {\"species\": \"Adelie\", \"island\": \"Torgersen\", \"bill_length_mm\": 39.6, \"bill_depth_mm\": 17.2, \"flipper_length_mm\": 196.0, \"body_mass_g\": 3550.0, \"sex\": \"female\", \"year\": 2008}, {\"species\": \"Adelie\", \"island\": \"Torgersen\", \"bill_length_mm\": 45.8, \"bill_depth_mm\": 18.9, \"flipper_length_mm\": 197.0, \"body_mass_g\": 4150.0, \"sex\": \"male\", \"year\": 2008}, {\"species\": \"Adelie\", \"island\": \"Torgersen\", \"bill_length_mm\": 35.5, \"bill_depth_mm\": 17.5, \"flipper_length_mm\": 190.0, \"body_mass_g\": 3700.0, \"sex\": \"female\", \"year\": 2008}, {\"species\": \"Adelie\", \"island\": \"Torgersen\", \"bill_length_mm\": 42.8, \"bill_depth_mm\": 18.5, \"flipper_length_mm\": 195.0, \"body_mass_g\": 4250.0, \"sex\": \"male\", \"year\": 2008}, {\"species\": \"Adelie\", \"island\": \"Torgersen\", \"bill_length_mm\": 40.9, \"bill_depth_mm\": 16.8, \"flipper_length_mm\": 191.0, \"body_mass_g\": 3700.0, \"sex\": \"female\", \"year\": 2008}, {\"species\": \"Adelie\", \"island\": \"Torgersen\", \"bill_length_mm\": 37.2, \"bill_depth_mm\": 19.4, \"flipper_length_mm\": 184.0, \"body_mass_g\": 3900.0, \"sex\": \"male\", \"year\": 2008}, {\"species\": \"Adelie\", \"island\": \"Torgersen\", \"bill_length_mm\": 36.2, \"bill_depth_mm\": 16.1, \"flipper_length_mm\": 187.0, \"body_mass_g\": 3550.0, \"sex\": \"female\", \"year\": 2008}, {\"species\": \"Adelie\", \"island\": \"Torgersen\", \"bill_length_mm\": 42.1, \"bill_depth_mm\": 19.1, \"flipper_length_mm\": 195.0, \"body_mass_g\": 4000.0, \"sex\": \"male\", \"year\": 2008}, {\"species\": \"Adelie\", \"island\": \"Torgersen\", \"bill_length_mm\": 34.6, \"bill_depth_mm\": 17.2, \"flipper_length_mm\": 189.0, \"body_mass_g\": 3200.0, \"sex\": \"female\", \"year\": 2008}, {\"species\": \"Adelie\", \"island\": \"Torgersen\", \"bill_length_mm\": 42.9, \"bill_depth_mm\": 17.6, \"flipper_length_mm\": 196.0, \"body_mass_g\": 4700.0, \"sex\": \"male\", \"year\": 2008}, {\"species\": \"Adelie\", \"island\": \"Torgersen\", \"bill_length_mm\": 36.7, \"bill_depth_mm\": 18.8, \"flipper_length_mm\": 187.0, \"body_mass_g\": 3800.0, \"sex\": \"female\", \"year\": 2008}, {\"species\": \"Adelie\", \"island\": \"Torgersen\", \"bill_length_mm\": 35.1, \"bill_depth_mm\": 19.4, \"flipper_length_mm\": 193.0, \"body_mass_g\": 4200.0, \"sex\": \"male\", \"year\": 2008}, {\"species\": \"Adelie\", \"island\": \"Dream\", \"bill_length_mm\": 37.3, \"bill_depth_mm\": 17.8, \"flipper_length_mm\": 191.0, \"body_mass_g\": 3350.0, \"sex\": \"female\", \"year\": 2008}, {\"species\": \"Adelie\", \"island\": \"Dream\", \"bill_length_mm\": 41.3, \"bill_depth_mm\": 20.3, \"flipper_length_mm\": 194.0, \"body_mass_g\": 3550.0, \"sex\": \"male\", \"year\": 2008}, {\"species\": \"Adelie\", \"island\": \"Dream\", \"bill_length_mm\": 36.3, \"bill_depth_mm\": 19.5, \"flipper_length_mm\": 190.0, \"body_mass_g\": 3800.0, \"sex\": \"male\", \"year\": 2008}, {\"species\": \"Adelie\", \"island\": \"Dream\", \"bill_length_mm\": 36.9, \"bill_depth_mm\": 18.6, \"flipper_length_mm\": 189.0, \"body_mass_g\": 3500.0, \"sex\": \"female\", \"year\": 2008}, {\"species\": \"Adelie\", \"island\": \"Dream\", \"bill_length_mm\": 38.3, \"bill_depth_mm\": 19.2, \"flipper_length_mm\": 189.0, \"body_mass_g\": 3950.0, \"sex\": \"male\", \"year\": 2008}, {\"species\": \"Adelie\", \"island\": \"Dream\", \"bill_length_mm\": 38.9, \"bill_depth_mm\": 18.8, \"flipper_length_mm\": 190.0, \"body_mass_g\": 3600.0, \"sex\": \"female\", \"year\": 2008}, {\"species\": \"Adelie\", \"island\": \"Dream\", \"bill_length_mm\": 35.7, \"bill_depth_mm\": 18.0, \"flipper_length_mm\": 202.0, \"body_mass_g\": 3550.0, \"sex\": \"female\", \"year\": 2008}, {\"species\": \"Adelie\", \"island\": \"Dream\", \"bill_length_mm\": 41.1, \"bill_depth_mm\": 18.1, \"flipper_length_mm\": 205.0, \"body_mass_g\": 4300.0, \"sex\": \"male\", \"year\": 2008}, {\"species\": \"Adelie\", \"island\": \"Dream\", \"bill_length_mm\": 34.0, \"bill_depth_mm\": 17.1, \"flipper_length_mm\": 185.0, \"body_mass_g\": 3400.0, \"sex\": \"female\", \"year\": 2008}, {\"species\": \"Adelie\", \"island\": \"Dream\", \"bill_length_mm\": 39.6, \"bill_depth_mm\": 18.1, \"flipper_length_mm\": 186.0, \"body_mass_g\": 4450.0, \"sex\": \"male\", \"year\": 2008}, {\"species\": \"Adelie\", \"island\": \"Dream\", \"bill_length_mm\": 36.2, \"bill_depth_mm\": 17.3, \"flipper_length_mm\": 187.0, \"body_mass_g\": 3300.0, \"sex\": \"female\", \"year\": 2008}, {\"species\": \"Adelie\", \"island\": \"Dream\", \"bill_length_mm\": 40.8, \"bill_depth_mm\": 18.9, \"flipper_length_mm\": 208.0, \"body_mass_g\": 4300.0, \"sex\": \"male\", \"year\": 2008}, {\"species\": \"Adelie\", \"island\": \"Dream\", \"bill_length_mm\": 38.1, \"bill_depth_mm\": 18.6, \"flipper_length_mm\": 190.0, \"body_mass_g\": 3700.0, \"sex\": \"female\", \"year\": 2008}, {\"species\": \"Adelie\", \"island\": \"Dream\", \"bill_length_mm\": 40.3, \"bill_depth_mm\": 18.5, \"flipper_length_mm\": 196.0, \"body_mass_g\": 4350.0, \"sex\": \"male\", \"year\": 2008}, {\"species\": \"Adelie\", \"island\": \"Dream\", \"bill_length_mm\": 33.1, \"bill_depth_mm\": 16.1, \"flipper_length_mm\": 178.0, \"body_mass_g\": 2900.0, \"sex\": \"female\", \"year\": 2008}, {\"species\": \"Adelie\", \"island\": \"Dream\", \"bill_length_mm\": 43.2, \"bill_depth_mm\": 18.5, \"flipper_length_mm\": 192.0, \"body_mass_g\": 4100.0, \"sex\": \"male\", \"year\": 2008}, {\"species\": \"Adelie\", \"island\": \"Biscoe\", \"bill_length_mm\": 35.0, \"bill_depth_mm\": 17.9, \"flipper_length_mm\": 192.0, \"body_mass_g\": 3725.0, \"sex\": \"female\", \"year\": 2009}, {\"species\": \"Adelie\", \"island\": \"Biscoe\", \"bill_length_mm\": 41.0, \"bill_depth_mm\": 20.0, \"flipper_length_mm\": 203.0, \"body_mass_g\": 4725.0, \"sex\": \"male\", \"year\": 2009}, {\"species\": \"Adelie\", \"island\": \"Biscoe\", \"bill_length_mm\": 37.7, \"bill_depth_mm\": 16.0, \"flipper_length_mm\": 183.0, \"body_mass_g\": 3075.0, \"sex\": \"female\", \"year\": 2009}, {\"species\": \"Adelie\", \"island\": \"Biscoe\", \"bill_length_mm\": 37.8, \"bill_depth_mm\": 20.0, \"flipper_length_mm\": 190.0, \"body_mass_g\": 4250.0, \"sex\": \"male\", \"year\": 2009}, {\"species\": \"Adelie\", \"island\": \"Biscoe\", \"bill_length_mm\": 37.9, \"bill_depth_mm\": 18.6, \"flipper_length_mm\": 193.0, \"body_mass_g\": 2925.0, \"sex\": \"female\", \"year\": 2009}, {\"species\": \"Adelie\", \"island\": \"Biscoe\", \"bill_length_mm\": 39.7, \"bill_depth_mm\": 18.9, \"flipper_length_mm\": 184.0, \"body_mass_g\": 3550.0, \"sex\": \"male\", \"year\": 2009}, {\"species\": \"Adelie\", \"island\": \"Biscoe\", \"bill_length_mm\": 38.6, \"bill_depth_mm\": 17.2, \"flipper_length_mm\": 199.0, \"body_mass_g\": 3750.0, \"sex\": \"female\", \"year\": 2009}, {\"species\": \"Adelie\", \"island\": \"Biscoe\", \"bill_length_mm\": 38.2, \"bill_depth_mm\": 20.0, \"flipper_length_mm\": 190.0, \"body_mass_g\": 3900.0, \"sex\": \"male\", \"year\": 2009}, {\"species\": \"Adelie\", \"island\": \"Biscoe\", \"bill_length_mm\": 38.1, \"bill_depth_mm\": 17.0, \"flipper_length_mm\": 181.0, \"body_mass_g\": 3175.0, \"sex\": \"female\", \"year\": 2009}, {\"species\": \"Adelie\", \"island\": \"Biscoe\", \"bill_length_mm\": 43.2, \"bill_depth_mm\": 19.0, \"flipper_length_mm\": 197.0, \"body_mass_g\": 4775.0, \"sex\": \"male\", \"year\": 2009}, {\"species\": \"Adelie\", \"island\": \"Biscoe\", \"bill_length_mm\": 38.1, \"bill_depth_mm\": 16.5, \"flipper_length_mm\": 198.0, \"body_mass_g\": 3825.0, \"sex\": \"female\", \"year\": 2009}, {\"species\": \"Adelie\", \"island\": \"Biscoe\", \"bill_length_mm\": 45.6, \"bill_depth_mm\": 20.3, \"flipper_length_mm\": 191.0, \"body_mass_g\": 4600.0, \"sex\": \"male\", \"year\": 2009}, {\"species\": \"Adelie\", \"island\": \"Biscoe\", \"bill_length_mm\": 39.7, \"bill_depth_mm\": 17.7, \"flipper_length_mm\": 193.0, \"body_mass_g\": 3200.0, \"sex\": \"female\", \"year\": 2009}, {\"species\": \"Adelie\", \"island\": \"Biscoe\", \"bill_length_mm\": 42.2, \"bill_depth_mm\": 19.5, \"flipper_length_mm\": 197.0, \"body_mass_g\": 4275.0, \"sex\": \"male\", \"year\": 2009}, {\"species\": \"Adelie\", \"island\": \"Biscoe\", \"bill_length_mm\": 39.6, \"bill_depth_mm\": 20.7, \"flipper_length_mm\": 191.0, \"body_mass_g\": 3900.0, \"sex\": \"female\", \"year\": 2009}, {\"species\": \"Adelie\", \"island\": \"Biscoe\", \"bill_length_mm\": 42.7, \"bill_depth_mm\": 18.3, \"flipper_length_mm\": 196.0, \"body_mass_g\": 4075.0, \"sex\": \"male\", \"year\": 2009}, {\"species\": \"Adelie\", \"island\": \"Torgersen\", \"bill_length_mm\": 38.6, \"bill_depth_mm\": 17.0, \"flipper_length_mm\": 188.0, \"body_mass_g\": 2900.0, \"sex\": \"female\", \"year\": 2009}, {\"species\": \"Adelie\", \"island\": \"Torgersen\", \"bill_length_mm\": 37.3, \"bill_depth_mm\": 20.5, \"flipper_length_mm\": 199.0, \"body_mass_g\": 3775.0, \"sex\": \"male\", \"year\": 2009}, {\"species\": \"Adelie\", \"island\": \"Torgersen\", \"bill_length_mm\": 35.7, \"bill_depth_mm\": 17.0, \"flipper_length_mm\": 189.0, \"body_mass_g\": 3350.0, \"sex\": \"female\", \"year\": 2009}, {\"species\": \"Adelie\", \"island\": \"Torgersen\", \"bill_length_mm\": 41.1, \"bill_depth_mm\": 18.6, \"flipper_length_mm\": 189.0, \"body_mass_g\": 3325.0, \"sex\": \"male\", \"year\": 2009}, {\"species\": \"Adelie\", \"island\": \"Torgersen\", \"bill_length_mm\": 36.2, \"bill_depth_mm\": 17.2, \"flipper_length_mm\": 187.0, \"body_mass_g\": 3150.0, \"sex\": \"female\", \"year\": 2009}, {\"species\": \"Adelie\", \"island\": \"Torgersen\", \"bill_length_mm\": 37.7, \"bill_depth_mm\": 19.8, \"flipper_length_mm\": 198.0, \"body_mass_g\": 3500.0, \"sex\": \"male\", \"year\": 2009}, {\"species\": \"Adelie\", \"island\": \"Torgersen\", \"bill_length_mm\": 40.2, \"bill_depth_mm\": 17.0, \"flipper_length_mm\": 176.0, \"body_mass_g\": 3450.0, \"sex\": \"female\", \"year\": 2009}, {\"species\": \"Adelie\", \"island\": \"Torgersen\", \"bill_length_mm\": 41.4, \"bill_depth_mm\": 18.5, \"flipper_length_mm\": 202.0, \"body_mass_g\": 3875.0, \"sex\": \"male\", \"year\": 2009}, {\"species\": \"Adelie\", \"island\": \"Torgersen\", \"bill_length_mm\": 35.2, \"bill_depth_mm\": 15.9, \"flipper_length_mm\": 186.0, \"body_mass_g\": 3050.0, \"sex\": \"female\", \"year\": 2009}, {\"species\": \"Adelie\", \"island\": \"Torgersen\", \"bill_length_mm\": 40.6, \"bill_depth_mm\": 19.0, \"flipper_length_mm\": 199.0, \"body_mass_g\": 4000.0, \"sex\": \"male\", \"year\": 2009}, {\"species\": \"Adelie\", \"island\": \"Torgersen\", \"bill_length_mm\": 38.8, \"bill_depth_mm\": 17.6, \"flipper_length_mm\": 191.0, \"body_mass_g\": 3275.0, \"sex\": \"female\", \"year\": 2009}, {\"species\": \"Adelie\", \"island\": \"Torgersen\", \"bill_length_mm\": 41.5, \"bill_depth_mm\": 18.3, \"flipper_length_mm\": 195.0, \"body_mass_g\": 4300.0, \"sex\": \"male\", \"year\": 2009}, {\"species\": \"Adelie\", \"island\": \"Torgersen\", \"bill_length_mm\": 39.0, \"bill_depth_mm\": 17.1, \"flipper_length_mm\": 191.0, \"body_mass_g\": 3050.0, \"sex\": \"female\", \"year\": 2009}, {\"species\": \"Adelie\", \"island\": \"Torgersen\", \"bill_length_mm\": 44.1, \"bill_depth_mm\": 18.0, \"flipper_length_mm\": 210.0, \"body_mass_g\": 4000.0, \"sex\": \"male\", \"year\": 2009}, {\"species\": \"Adelie\", \"island\": \"Torgersen\", \"bill_length_mm\": 38.5, \"bill_depth_mm\": 17.9, \"flipper_length_mm\": 190.0, \"body_mass_g\": 3325.0, \"sex\": \"female\", \"year\": 2009}, {\"species\": \"Adelie\", \"island\": \"Torgersen\", \"bill_length_mm\": 43.1, \"bill_depth_mm\": 19.2, \"flipper_length_mm\": 197.0, \"body_mass_g\": 3500.0, \"sex\": \"male\", \"year\": 2009}, {\"species\": \"Adelie\", \"island\": \"Dream\", \"bill_length_mm\": 36.8, \"bill_depth_mm\": 18.5, \"flipper_length_mm\": 193.0, \"body_mass_g\": 3500.0, \"sex\": \"female\", \"year\": 2009}, {\"species\": \"Adelie\", \"island\": \"Dream\", \"bill_length_mm\": 37.5, \"bill_depth_mm\": 18.5, \"flipper_length_mm\": 199.0, \"body_mass_g\": 4475.0, \"sex\": \"male\", \"year\": 2009}, {\"species\": \"Adelie\", \"island\": \"Dream\", \"bill_length_mm\": 38.1, \"bill_depth_mm\": 17.6, \"flipper_length_mm\": 187.0, \"body_mass_g\": 3425.0, \"sex\": \"female\", \"year\": 2009}, {\"species\": \"Adelie\", \"island\": \"Dream\", \"bill_length_mm\": 41.1, \"bill_depth_mm\": 17.5, \"flipper_length_mm\": 190.0, \"body_mass_g\": 3900.0, \"sex\": \"male\", \"year\": 2009}, {\"species\": \"Adelie\", \"island\": \"Dream\", \"bill_length_mm\": 35.6, \"bill_depth_mm\": 17.5, \"flipper_length_mm\": 191.0, \"body_mass_g\": 3175.0, \"sex\": \"female\", \"year\": 2009}, {\"species\": \"Adelie\", \"island\": \"Dream\", \"bill_length_mm\": 40.2, \"bill_depth_mm\": 20.1, \"flipper_length_mm\": 200.0, \"body_mass_g\": 3975.0, \"sex\": \"male\", \"year\": 2009}, {\"species\": \"Adelie\", \"island\": \"Dream\", \"bill_length_mm\": 37.0, \"bill_depth_mm\": 16.5, \"flipper_length_mm\": 185.0, \"body_mass_g\": 3400.0, \"sex\": \"female\", \"year\": 2009}, {\"species\": \"Adelie\", \"island\": \"Dream\", \"bill_length_mm\": 39.7, \"bill_depth_mm\": 17.9, \"flipper_length_mm\": 193.0, \"body_mass_g\": 4250.0, \"sex\": \"male\", \"year\": 2009}, {\"species\": \"Adelie\", \"island\": \"Dream\", \"bill_length_mm\": 40.2, \"bill_depth_mm\": 17.1, \"flipper_length_mm\": 193.0, \"body_mass_g\": 3400.0, \"sex\": \"female\", \"year\": 2009}, {\"species\": \"Adelie\", \"island\": \"Dream\", \"bill_length_mm\": 40.6, \"bill_depth_mm\": 17.2, \"flipper_length_mm\": 187.0, \"body_mass_g\": 3475.0, \"sex\": \"male\", \"year\": 2009}, {\"species\": \"Adelie\", \"island\": \"Dream\", \"bill_length_mm\": 32.1, \"bill_depth_mm\": 15.5, \"flipper_length_mm\": 188.0, \"body_mass_g\": 3050.0, \"sex\": \"female\", \"year\": 2009}, {\"species\": \"Adelie\", \"island\": \"Dream\", \"bill_length_mm\": 40.7, \"bill_depth_mm\": 17.0, \"flipper_length_mm\": 190.0, \"body_mass_g\": 3725.0, \"sex\": \"male\", \"year\": 2009}, {\"species\": \"Adelie\", \"island\": \"Dream\", \"bill_length_mm\": 37.3, \"bill_depth_mm\": 16.8, \"flipper_length_mm\": 192.0, \"body_mass_g\": 3000.0, \"sex\": \"female\", \"year\": 2009}, {\"species\": \"Adelie\", \"island\": \"Dream\", \"bill_length_mm\": 39.0, \"bill_depth_mm\": 18.7, \"flipper_length_mm\": 185.0, \"body_mass_g\": 3650.0, \"sex\": \"male\", \"year\": 2009}, {\"species\": \"Adelie\", \"island\": \"Dream\", \"bill_length_mm\": 39.2, \"bill_depth_mm\": 18.6, \"flipper_length_mm\": 190.0, \"body_mass_g\": 4250.0, \"sex\": \"male\", \"year\": 2009}, {\"species\": \"Adelie\", \"island\": \"Dream\", \"bill_length_mm\": 36.6, \"bill_depth_mm\": 18.4, \"flipper_length_mm\": 184.0, \"body_mass_g\": 3475.0, \"sex\": \"female\", \"year\": 2009}, {\"species\": \"Adelie\", \"island\": \"Dream\", \"bill_length_mm\": 36.0, \"bill_depth_mm\": 17.8, \"flipper_length_mm\": 195.0, \"body_mass_g\": 3450.0, \"sex\": \"female\", \"year\": 2009}, {\"species\": \"Adelie\", \"island\": \"Dream\", \"bill_length_mm\": 37.8, \"bill_depth_mm\": 18.1, \"flipper_length_mm\": 193.0, \"body_mass_g\": 3750.0, \"sex\": \"male\", \"year\": 2009}, {\"species\": \"Adelie\", \"island\": \"Dream\", \"bill_length_mm\": 36.0, \"bill_depth_mm\": 17.1, \"flipper_length_mm\": 187.0, \"body_mass_g\": 3700.0, \"sex\": \"female\", \"year\": 2009}, {\"species\": \"Adelie\", \"island\": \"Dream\", \"bill_length_mm\": 41.5, \"bill_depth_mm\": 18.5, \"flipper_length_mm\": 201.0, \"body_mass_g\": 4000.0, \"sex\": \"male\", \"year\": 2009}, {\"species\": \"Gentoo\", \"island\": \"Biscoe\", \"bill_length_mm\": 46.1, \"bill_depth_mm\": 13.2, \"flipper_length_mm\": 211.0, \"body_mass_g\": 4500.0, \"sex\": \"female\", \"year\": 2007}, {\"species\": \"Gentoo\", \"island\": \"Biscoe\", \"bill_length_mm\": 50.0, \"bill_depth_mm\": 16.3, \"flipper_length_mm\": 230.0, \"body_mass_g\": 5700.0, \"sex\": \"male\", \"year\": 2007}, {\"species\": \"Gentoo\", \"island\": \"Biscoe\", \"bill_length_mm\": 48.7, \"bill_depth_mm\": 14.1, \"flipper_length_mm\": 210.0, \"body_mass_g\": 4450.0, \"sex\": \"female\", \"year\": 2007}, {\"species\": \"Gentoo\", \"island\": \"Biscoe\", \"bill_length_mm\": 50.0, \"bill_depth_mm\": 15.2, \"flipper_length_mm\": 218.0, \"body_mass_g\": 5700.0, \"sex\": \"male\", \"year\": 2007}, {\"species\": \"Gentoo\", \"island\": \"Biscoe\", \"bill_length_mm\": 47.6, \"bill_depth_mm\": 14.5, \"flipper_length_mm\": 215.0, \"body_mass_g\": 5400.0, \"sex\": \"male\", \"year\": 2007}, {\"species\": \"Gentoo\", \"island\": \"Biscoe\", \"bill_length_mm\": 46.5, \"bill_depth_mm\": 13.5, \"flipper_length_mm\": 210.0, \"body_mass_g\": 4550.0, \"sex\": \"female\", \"year\": 2007}, {\"species\": \"Gentoo\", \"island\": \"Biscoe\", \"bill_length_mm\": 45.4, \"bill_depth_mm\": 14.6, \"flipper_length_mm\": 211.0, \"body_mass_g\": 4800.0, \"sex\": \"female\", \"year\": 2007}, {\"species\": \"Gentoo\", \"island\": \"Biscoe\", \"bill_length_mm\": 46.7, \"bill_depth_mm\": 15.3, \"flipper_length_mm\": 219.0, \"body_mass_g\": 5200.0, \"sex\": \"male\", \"year\": 2007}, {\"species\": \"Gentoo\", \"island\": \"Biscoe\", \"bill_length_mm\": 43.3, \"bill_depth_mm\": 13.4, \"flipper_length_mm\": 209.0, \"body_mass_g\": 4400.0, \"sex\": \"female\", \"year\": 2007}, {\"species\": \"Gentoo\", \"island\": \"Biscoe\", \"bill_length_mm\": 46.8, \"bill_depth_mm\": 15.4, \"flipper_length_mm\": 215.0, \"body_mass_g\": 5150.0, \"sex\": \"male\", \"year\": 2007}, {\"species\": \"Gentoo\", \"island\": \"Biscoe\", \"bill_length_mm\": 40.9, \"bill_depth_mm\": 13.7, \"flipper_length_mm\": 214.0, \"body_mass_g\": 4650.0, \"sex\": \"female\", \"year\": 2007}, {\"species\": \"Gentoo\", \"island\": \"Biscoe\", \"bill_length_mm\": 49.0, \"bill_depth_mm\": 16.1, \"flipper_length_mm\": 216.0, \"body_mass_g\": 5550.0, \"sex\": \"male\", \"year\": 2007}, {\"species\": \"Gentoo\", \"island\": \"Biscoe\", \"bill_length_mm\": 45.5, \"bill_depth_mm\": 13.7, \"flipper_length_mm\": 214.0, \"body_mass_g\": 4650.0, \"sex\": \"female\", \"year\": 2007}, {\"species\": \"Gentoo\", \"island\": \"Biscoe\", \"bill_length_mm\": 48.4, \"bill_depth_mm\": 14.6, \"flipper_length_mm\": 213.0, \"body_mass_g\": 5850.0, \"sex\": \"male\", \"year\": 2007}, {\"species\": \"Gentoo\", \"island\": \"Biscoe\", \"bill_length_mm\": 45.8, \"bill_depth_mm\": 14.6, \"flipper_length_mm\": 210.0, \"body_mass_g\": 4200.0, \"sex\": \"female\", \"year\": 2007}, {\"species\": \"Gentoo\", \"island\": \"Biscoe\", \"bill_length_mm\": 49.3, \"bill_depth_mm\": 15.7, \"flipper_length_mm\": 217.0, \"body_mass_g\": 5850.0, \"sex\": \"male\", \"year\": 2007}, {\"species\": \"Gentoo\", \"island\": \"Biscoe\", \"bill_length_mm\": 42.0, \"bill_depth_mm\": 13.5, \"flipper_length_mm\": 210.0, \"body_mass_g\": 4150.0, \"sex\": \"female\", \"year\": 2007}, {\"species\": \"Gentoo\", \"island\": \"Biscoe\", \"bill_length_mm\": 49.2, \"bill_depth_mm\": 15.2, \"flipper_length_mm\": 221.0, \"body_mass_g\": 6300.0, \"sex\": \"male\", \"year\": 2007}, {\"species\": \"Gentoo\", \"island\": \"Biscoe\", \"bill_length_mm\": 46.2, \"bill_depth_mm\": 14.5, \"flipper_length_mm\": 209.0, \"body_mass_g\": 4800.0, \"sex\": \"female\", \"year\": 2007}, {\"species\": \"Gentoo\", \"island\": \"Biscoe\", \"bill_length_mm\": 48.7, \"bill_depth_mm\": 15.1, \"flipper_length_mm\": 222.0, \"body_mass_g\": 5350.0, \"sex\": \"male\", \"year\": 2007}, {\"species\": \"Gentoo\", \"island\": \"Biscoe\", \"bill_length_mm\": 50.2, \"bill_depth_mm\": 14.3, \"flipper_length_mm\": 218.0, \"body_mass_g\": 5700.0, \"sex\": \"male\", \"year\": 2007}, {\"species\": \"Gentoo\", \"island\": \"Biscoe\", \"bill_length_mm\": 45.1, \"bill_depth_mm\": 14.5, \"flipper_length_mm\": 215.0, \"body_mass_g\": 5000.0, \"sex\": \"female\", \"year\": 2007}, {\"species\": \"Gentoo\", \"island\": \"Biscoe\", \"bill_length_mm\": 46.5, \"bill_depth_mm\": 14.5, \"flipper_length_mm\": 213.0, \"body_mass_g\": 4400.0, \"sex\": \"female\", \"year\": 2007}, {\"species\": \"Gentoo\", \"island\": \"Biscoe\", \"bill_length_mm\": 46.3, \"bill_depth_mm\": 15.8, \"flipper_length_mm\": 215.0, \"body_mass_g\": 5050.0, \"sex\": \"male\", \"year\": 2007}, {\"species\": \"Gentoo\", \"island\": \"Biscoe\", \"bill_length_mm\": 42.9, \"bill_depth_mm\": 13.1, \"flipper_length_mm\": 215.0, \"body_mass_g\": 5000.0, \"sex\": \"female\", \"year\": 2007}, {\"species\": \"Gentoo\", \"island\": \"Biscoe\", \"bill_length_mm\": 46.1, \"bill_depth_mm\": 15.1, \"flipper_length_mm\": 215.0, \"body_mass_g\": 5100.0, \"sex\": \"male\", \"year\": 2007}, {\"species\": \"Gentoo\", \"island\": \"Biscoe\", \"bill_length_mm\": 44.5, \"bill_depth_mm\": 14.3, \"flipper_length_mm\": 216.0, \"body_mass_g\": 4100.0, \"sex\": null, \"year\": 2007}, {\"species\": \"Gentoo\", \"island\": \"Biscoe\", \"bill_length_mm\": 47.8, \"bill_depth_mm\": 15.0, \"flipper_length_mm\": 215.0, \"body_mass_g\": 5650.0, \"sex\": \"male\", \"year\": 2007}, {\"species\": \"Gentoo\", \"island\": \"Biscoe\", \"bill_length_mm\": 48.2, \"bill_depth_mm\": 14.3, \"flipper_length_mm\": 210.0, \"body_mass_g\": 4600.0, \"sex\": \"female\", \"year\": 2007}, {\"species\": \"Gentoo\", \"island\": \"Biscoe\", \"bill_length_mm\": 50.0, \"bill_depth_mm\": 15.3, \"flipper_length_mm\": 220.0, \"body_mass_g\": 5550.0, \"sex\": \"male\", \"year\": 2007}, {\"species\": \"Gentoo\", \"island\": \"Biscoe\", \"bill_length_mm\": 47.3, \"bill_depth_mm\": 15.3, \"flipper_length_mm\": 222.0, \"body_mass_g\": 5250.0, \"sex\": \"male\", \"year\": 2007}, {\"species\": \"Gentoo\", \"island\": \"Biscoe\", \"bill_length_mm\": 42.8, \"bill_depth_mm\": 14.2, \"flipper_length_mm\": 209.0, \"body_mass_g\": 4700.0, \"sex\": \"female\", \"year\": 2007}, {\"species\": \"Gentoo\", \"island\": \"Biscoe\", \"bill_length_mm\": 45.1, \"bill_depth_mm\": 14.5, \"flipper_length_mm\": 207.0, \"body_mass_g\": 5050.0, \"sex\": \"female\", \"year\": 2007}, {\"species\": \"Gentoo\", \"island\": \"Biscoe\", \"bill_length_mm\": 59.6, \"bill_depth_mm\": 17.0, \"flipper_length_mm\": 230.0, \"body_mass_g\": 6050.0, \"sex\": \"male\", \"year\": 2007}, {\"species\": \"Gentoo\", \"island\": \"Biscoe\", \"bill_length_mm\": 49.1, \"bill_depth_mm\": 14.8, \"flipper_length_mm\": 220.0, \"body_mass_g\": 5150.0, \"sex\": \"female\", \"year\": 2008}, {\"species\": \"Gentoo\", \"island\": \"Biscoe\", \"bill_length_mm\": 48.4, \"bill_depth_mm\": 16.3, \"flipper_length_mm\": 220.0, \"body_mass_g\": 5400.0, \"sex\": \"male\", \"year\": 2008}, {\"species\": \"Gentoo\", \"island\": \"Biscoe\", \"bill_length_mm\": 42.6, \"bill_depth_mm\": 13.7, \"flipper_length_mm\": 213.0, \"body_mass_g\": 4950.0, \"sex\": \"female\", \"year\": 2008}, {\"species\": \"Gentoo\", \"island\": \"Biscoe\", \"bill_length_mm\": 44.4, \"bill_depth_mm\": 17.3, \"flipper_length_mm\": 219.0, \"body_mass_g\": 5250.0, \"sex\": \"male\", \"year\": 2008}, {\"species\": \"Gentoo\", \"island\": \"Biscoe\", \"bill_length_mm\": 44.0, \"bill_depth_mm\": 13.6, \"flipper_length_mm\": 208.0, \"body_mass_g\": 4350.0, \"sex\": \"female\", \"year\": 2008}, {\"species\": \"Gentoo\", \"island\": \"Biscoe\", \"bill_length_mm\": 48.7, \"bill_depth_mm\": 15.7, \"flipper_length_mm\": 208.0, \"body_mass_g\": 5350.0, \"sex\": \"male\", \"year\": 2008}, {\"species\": \"Gentoo\", \"island\": \"Biscoe\", \"bill_length_mm\": 42.7, \"bill_depth_mm\": 13.7, \"flipper_length_mm\": 208.0, \"body_mass_g\": 3950.0, \"sex\": \"female\", \"year\": 2008}, {\"species\": \"Gentoo\", \"island\": \"Biscoe\", \"bill_length_mm\": 49.6, \"bill_depth_mm\": 16.0, \"flipper_length_mm\": 225.0, \"body_mass_g\": 5700.0, \"sex\": \"male\", \"year\": 2008}, {\"species\": \"Gentoo\", \"island\": \"Biscoe\", \"bill_length_mm\": 45.3, \"bill_depth_mm\": 13.7, \"flipper_length_mm\": 210.0, \"body_mass_g\": 4300.0, \"sex\": \"female\", \"year\": 2008}, {\"species\": \"Gentoo\", \"island\": \"Biscoe\", \"bill_length_mm\": 49.6, \"bill_depth_mm\": 15.0, \"flipper_length_mm\": 216.0, \"body_mass_g\": 4750.0, \"sex\": \"male\", \"year\": 2008}, {\"species\": \"Gentoo\", \"island\": \"Biscoe\", \"bill_length_mm\": 50.5, \"bill_depth_mm\": 15.9, \"flipper_length_mm\": 222.0, \"body_mass_g\": 5550.0, \"sex\": \"male\", \"year\": 2008}, {\"species\": \"Gentoo\", \"island\": \"Biscoe\", \"bill_length_mm\": 43.6, \"bill_depth_mm\": 13.9, \"flipper_length_mm\": 217.0, \"body_mass_g\": 4900.0, \"sex\": \"female\", \"year\": 2008}, {\"species\": \"Gentoo\", \"island\": \"Biscoe\", \"bill_length_mm\": 45.5, \"bill_depth_mm\": 13.9, \"flipper_length_mm\": 210.0, \"body_mass_g\": 4200.0, \"sex\": \"female\", \"year\": 2008}, {\"species\": \"Gentoo\", \"island\": \"Biscoe\", \"bill_length_mm\": 50.5, \"bill_depth_mm\": 15.9, \"flipper_length_mm\": 225.0, \"body_mass_g\": 5400.0, \"sex\": \"male\", \"year\": 2008}, {\"species\": \"Gentoo\", \"island\": \"Biscoe\", \"bill_length_mm\": 44.9, \"bill_depth_mm\": 13.3, \"flipper_length_mm\": 213.0, \"body_mass_g\": 5100.0, \"sex\": \"female\", \"year\": 2008}, {\"species\": \"Gentoo\", \"island\": \"Biscoe\", \"bill_length_mm\": 45.2, \"bill_depth_mm\": 15.8, \"flipper_length_mm\": 215.0, \"body_mass_g\": 5300.0, \"sex\": \"male\", \"year\": 2008}, {\"species\": \"Gentoo\", \"island\": \"Biscoe\", \"bill_length_mm\": 46.6, \"bill_depth_mm\": 14.2, \"flipper_length_mm\": 210.0, \"body_mass_g\": 4850.0, \"sex\": \"female\", \"year\": 2008}, {\"species\": \"Gentoo\", \"island\": \"Biscoe\", \"bill_length_mm\": 48.5, \"bill_depth_mm\": 14.1, \"flipper_length_mm\": 220.0, \"body_mass_g\": 5300.0, \"sex\": \"male\", \"year\": 2008}, {\"species\": \"Gentoo\", \"island\": \"Biscoe\", \"bill_length_mm\": 45.1, \"bill_depth_mm\": 14.4, \"flipper_length_mm\": 210.0, \"body_mass_g\": 4400.0, \"sex\": \"female\", \"year\": 2008}, {\"species\": \"Gentoo\", \"island\": \"Biscoe\", \"bill_length_mm\": 50.1, \"bill_depth_mm\": 15.0, \"flipper_length_mm\": 225.0, \"body_mass_g\": 5000.0, \"sex\": \"male\", \"year\": 2008}, {\"species\": \"Gentoo\", \"island\": \"Biscoe\", \"bill_length_mm\": 46.5, \"bill_depth_mm\": 14.4, \"flipper_length_mm\": 217.0, \"body_mass_g\": 4900.0, \"sex\": \"female\", \"year\": 2008}, {\"species\": \"Gentoo\", \"island\": \"Biscoe\", \"bill_length_mm\": 45.0, \"bill_depth_mm\": 15.4, \"flipper_length_mm\": 220.0, \"body_mass_g\": 5050.0, \"sex\": \"male\", \"year\": 2008}, {\"species\": \"Gentoo\", \"island\": \"Biscoe\", \"bill_length_mm\": 43.8, \"bill_depth_mm\": 13.9, \"flipper_length_mm\": 208.0, \"body_mass_g\": 4300.0, \"sex\": \"female\", \"year\": 2008}, {\"species\": \"Gentoo\", \"island\": \"Biscoe\", \"bill_length_mm\": 45.5, \"bill_depth_mm\": 15.0, \"flipper_length_mm\": 220.0, \"body_mass_g\": 5000.0, \"sex\": \"male\", \"year\": 2008}, {\"species\": \"Gentoo\", \"island\": \"Biscoe\", \"bill_length_mm\": 43.2, \"bill_depth_mm\": 14.5, \"flipper_length_mm\": 208.0, \"body_mass_g\": 4450.0, \"sex\": \"female\", \"year\": 2008}, {\"species\": \"Gentoo\", \"island\": \"Biscoe\", \"bill_length_mm\": 50.4, \"bill_depth_mm\": 15.3, \"flipper_length_mm\": 224.0, \"body_mass_g\": 5550.0, \"sex\": \"male\", \"year\": 2008}, {\"species\": \"Gentoo\", \"island\": \"Biscoe\", \"bill_length_mm\": 45.3, \"bill_depth_mm\": 13.8, \"flipper_length_mm\": 208.0, \"body_mass_g\": 4200.0, \"sex\": \"female\", \"year\": 2008}, {\"species\": \"Gentoo\", \"island\": \"Biscoe\", \"bill_length_mm\": 46.2, \"bill_depth_mm\": 14.9, \"flipper_length_mm\": 221.0, \"body_mass_g\": 5300.0, \"sex\": \"male\", \"year\": 2008}, {\"species\": \"Gentoo\", \"island\": \"Biscoe\", \"bill_length_mm\": 45.7, \"bill_depth_mm\": 13.9, \"flipper_length_mm\": 214.0, \"body_mass_g\": 4400.0, \"sex\": \"female\", \"year\": 2008}, {\"species\": \"Gentoo\", \"island\": \"Biscoe\", \"bill_length_mm\": 54.3, \"bill_depth_mm\": 15.7, \"flipper_length_mm\": 231.0, \"body_mass_g\": 5650.0, \"sex\": \"male\", \"year\": 2008}, {\"species\": \"Gentoo\", \"island\": \"Biscoe\", \"bill_length_mm\": 45.8, \"bill_depth_mm\": 14.2, \"flipper_length_mm\": 219.0, \"body_mass_g\": 4700.0, \"sex\": \"female\", \"year\": 2008}, {\"species\": \"Gentoo\", \"island\": \"Biscoe\", \"bill_length_mm\": 49.8, \"bill_depth_mm\": 16.8, \"flipper_length_mm\": 230.0, \"body_mass_g\": 5700.0, \"sex\": \"male\", \"year\": 2008}, {\"species\": \"Gentoo\", \"island\": \"Biscoe\", \"bill_length_mm\": 46.2, \"bill_depth_mm\": 14.4, \"flipper_length_mm\": 214.0, \"body_mass_g\": 4650.0, \"sex\": null, \"year\": 2008}, {\"species\": \"Gentoo\", \"island\": \"Biscoe\", \"bill_length_mm\": 49.5, \"bill_depth_mm\": 16.2, \"flipper_length_mm\": 229.0, \"body_mass_g\": 5800.0, \"sex\": \"male\", \"year\": 2008}, {\"species\": \"Gentoo\", \"island\": \"Biscoe\", \"bill_length_mm\": 43.5, \"bill_depth_mm\": 14.2, \"flipper_length_mm\": 220.0, \"body_mass_g\": 4700.0, \"sex\": \"female\", \"year\": 2008}, {\"species\": \"Gentoo\", \"island\": \"Biscoe\", \"bill_length_mm\": 50.7, \"bill_depth_mm\": 15.0, \"flipper_length_mm\": 223.0, \"body_mass_g\": 5550.0, \"sex\": \"male\", \"year\": 2008}, {\"species\": \"Gentoo\", \"island\": \"Biscoe\", \"bill_length_mm\": 47.7, \"bill_depth_mm\": 15.0, \"flipper_length_mm\": 216.0, \"body_mass_g\": 4750.0, \"sex\": \"female\", \"year\": 2008}, {\"species\": \"Gentoo\", \"island\": \"Biscoe\", \"bill_length_mm\": 46.4, \"bill_depth_mm\": 15.6, \"flipper_length_mm\": 221.0, \"body_mass_g\": 5000.0, \"sex\": \"male\", \"year\": 2008}, {\"species\": \"Gentoo\", \"island\": \"Biscoe\", \"bill_length_mm\": 48.2, \"bill_depth_mm\": 15.6, \"flipper_length_mm\": 221.0, \"body_mass_g\": 5100.0, \"sex\": \"male\", \"year\": 2008}, {\"species\": \"Gentoo\", \"island\": \"Biscoe\", \"bill_length_mm\": 46.5, \"bill_depth_mm\": 14.8, \"flipper_length_mm\": 217.0, \"body_mass_g\": 5200.0, \"sex\": \"female\", \"year\": 2008}, {\"species\": \"Gentoo\", \"island\": \"Biscoe\", \"bill_length_mm\": 46.4, \"bill_depth_mm\": 15.0, \"flipper_length_mm\": 216.0, \"body_mass_g\": 4700.0, \"sex\": \"female\", \"year\": 2008}, {\"species\": \"Gentoo\", \"island\": \"Biscoe\", \"bill_length_mm\": 48.6, \"bill_depth_mm\": 16.0, \"flipper_length_mm\": 230.0, \"body_mass_g\": 5800.0, \"sex\": \"male\", \"year\": 2008}, {\"species\": \"Gentoo\", \"island\": \"Biscoe\", \"bill_length_mm\": 47.5, \"bill_depth_mm\": 14.2, \"flipper_length_mm\": 209.0, \"body_mass_g\": 4600.0, \"sex\": \"female\", \"year\": 2008}, {\"species\": \"Gentoo\", \"island\": \"Biscoe\", \"bill_length_mm\": 51.1, \"bill_depth_mm\": 16.3, \"flipper_length_mm\": 220.0, \"body_mass_g\": 6000.0, \"sex\": \"male\", \"year\": 2008}, {\"species\": \"Gentoo\", \"island\": \"Biscoe\", \"bill_length_mm\": 45.2, \"bill_depth_mm\": 13.8, \"flipper_length_mm\": 215.0, \"body_mass_g\": 4750.0, \"sex\": \"female\", \"year\": 2008}, {\"species\": \"Gentoo\", \"island\": \"Biscoe\", \"bill_length_mm\": 45.2, \"bill_depth_mm\": 16.4, \"flipper_length_mm\": 223.0, \"body_mass_g\": 5950.0, \"sex\": \"male\", \"year\": 2008}, {\"species\": \"Gentoo\", \"island\": \"Biscoe\", \"bill_length_mm\": 49.1, \"bill_depth_mm\": 14.5, \"flipper_length_mm\": 212.0, \"body_mass_g\": 4625.0, \"sex\": \"female\", \"year\": 2009}, {\"species\": \"Gentoo\", \"island\": \"Biscoe\", \"bill_length_mm\": 52.5, \"bill_depth_mm\": 15.6, \"flipper_length_mm\": 221.0, \"body_mass_g\": 5450.0, \"sex\": \"male\", \"year\": 2009}, {\"species\": \"Gentoo\", \"island\": \"Biscoe\", \"bill_length_mm\": 47.4, \"bill_depth_mm\": 14.6, \"flipper_length_mm\": 212.0, \"body_mass_g\": 4725.0, \"sex\": \"female\", \"year\": 2009}, {\"species\": \"Gentoo\", \"island\": \"Biscoe\", \"bill_length_mm\": 50.0, \"bill_depth_mm\": 15.9, \"flipper_length_mm\": 224.0, \"body_mass_g\": 5350.0, \"sex\": \"male\", \"year\": 2009}, {\"species\": \"Gentoo\", \"island\": \"Biscoe\", \"bill_length_mm\": 44.9, \"bill_depth_mm\": 13.8, \"flipper_length_mm\": 212.0, \"body_mass_g\": 4750.0, \"sex\": \"female\", \"year\": 2009}, {\"species\": \"Gentoo\", \"island\": \"Biscoe\", \"bill_length_mm\": 50.8, \"bill_depth_mm\": 17.3, \"flipper_length_mm\": 228.0, \"body_mass_g\": 5600.0, \"sex\": \"male\", \"year\": 2009}, {\"species\": \"Gentoo\", \"island\": \"Biscoe\", \"bill_length_mm\": 43.4, \"bill_depth_mm\": 14.4, \"flipper_length_mm\": 218.0, \"body_mass_g\": 4600.0, \"sex\": \"female\", \"year\": 2009}, {\"species\": \"Gentoo\", \"island\": \"Biscoe\", \"bill_length_mm\": 51.3, \"bill_depth_mm\": 14.2, \"flipper_length_mm\": 218.0, \"body_mass_g\": 5300.0, \"sex\": \"male\", \"year\": 2009}, {\"species\": \"Gentoo\", \"island\": \"Biscoe\", \"bill_length_mm\": 47.5, \"bill_depth_mm\": 14.0, \"flipper_length_mm\": 212.0, \"body_mass_g\": 4875.0, \"sex\": \"female\", \"year\": 2009}, {\"species\": \"Gentoo\", \"island\": \"Biscoe\", \"bill_length_mm\": 52.1, \"bill_depth_mm\": 17.0, \"flipper_length_mm\": 230.0, \"body_mass_g\": 5550.0, \"sex\": \"male\", \"year\": 2009}, {\"species\": \"Gentoo\", \"island\": \"Biscoe\", \"bill_length_mm\": 47.5, \"bill_depth_mm\": 15.0, \"flipper_length_mm\": 218.0, \"body_mass_g\": 4950.0, \"sex\": \"female\", \"year\": 2009}, {\"species\": \"Gentoo\", \"island\": \"Biscoe\", \"bill_length_mm\": 52.2, \"bill_depth_mm\": 17.1, \"flipper_length_mm\": 228.0, \"body_mass_g\": 5400.0, \"sex\": \"male\", \"year\": 2009}, {\"species\": \"Gentoo\", \"island\": \"Biscoe\", \"bill_length_mm\": 45.5, \"bill_depth_mm\": 14.5, \"flipper_length_mm\": 212.0, \"body_mass_g\": 4750.0, \"sex\": \"female\", \"year\": 2009}, {\"species\": \"Gentoo\", \"island\": \"Biscoe\", \"bill_length_mm\": 49.5, \"bill_depth_mm\": 16.1, \"flipper_length_mm\": 224.0, \"body_mass_g\": 5650.0, \"sex\": \"male\", \"year\": 2009}, {\"species\": \"Gentoo\", \"island\": \"Biscoe\", \"bill_length_mm\": 44.5, \"bill_depth_mm\": 14.7, \"flipper_length_mm\": 214.0, \"body_mass_g\": 4850.0, \"sex\": \"female\", \"year\": 2009}, {\"species\": \"Gentoo\", \"island\": \"Biscoe\", \"bill_length_mm\": 50.8, \"bill_depth_mm\": 15.7, \"flipper_length_mm\": 226.0, \"body_mass_g\": 5200.0, \"sex\": \"male\", \"year\": 2009}, {\"species\": \"Gentoo\", \"island\": \"Biscoe\", \"bill_length_mm\": 49.4, \"bill_depth_mm\": 15.8, \"flipper_length_mm\": 216.0, \"body_mass_g\": 4925.0, \"sex\": \"male\", \"year\": 2009}, {\"species\": \"Gentoo\", \"island\": \"Biscoe\", \"bill_length_mm\": 46.9, \"bill_depth_mm\": 14.6, \"flipper_length_mm\": 222.0, \"body_mass_g\": 4875.0, \"sex\": \"female\", \"year\": 2009}, {\"species\": \"Gentoo\", \"island\": \"Biscoe\", \"bill_length_mm\": 48.4, \"bill_depth_mm\": 14.4, \"flipper_length_mm\": 203.0, \"body_mass_g\": 4625.0, \"sex\": \"female\", \"year\": 2009}, {\"species\": \"Gentoo\", \"island\": \"Biscoe\", \"bill_length_mm\": 51.1, \"bill_depth_mm\": 16.5, \"flipper_length_mm\": 225.0, \"body_mass_g\": 5250.0, \"sex\": \"male\", \"year\": 2009}, {\"species\": \"Gentoo\", \"island\": \"Biscoe\", \"bill_length_mm\": 48.5, \"bill_depth_mm\": 15.0, \"flipper_length_mm\": 219.0, \"body_mass_g\": 4850.0, \"sex\": \"female\", \"year\": 2009}, {\"species\": \"Gentoo\", \"island\": \"Biscoe\", \"bill_length_mm\": 55.9, \"bill_depth_mm\": 17.0, \"flipper_length_mm\": 228.0, \"body_mass_g\": 5600.0, \"sex\": \"male\", \"year\": 2009}, {\"species\": \"Gentoo\", \"island\": \"Biscoe\", \"bill_length_mm\": 47.2, \"bill_depth_mm\": 15.5, \"flipper_length_mm\": 215.0, \"body_mass_g\": 4975.0, \"sex\": \"female\", \"year\": 2009}, {\"species\": \"Gentoo\", \"island\": \"Biscoe\", \"bill_length_mm\": 49.1, \"bill_depth_mm\": 15.0, \"flipper_length_mm\": 228.0, \"body_mass_g\": 5500.0, \"sex\": \"male\", \"year\": 2009}, {\"species\": \"Gentoo\", \"island\": \"Biscoe\", \"bill_length_mm\": 47.3, \"bill_depth_mm\": 13.8, \"flipper_length_mm\": 216.0, \"body_mass_g\": 4725.0, \"sex\": null, \"year\": 2009}, {\"species\": \"Gentoo\", \"island\": \"Biscoe\", \"bill_length_mm\": 46.8, \"bill_depth_mm\": 16.1, \"flipper_length_mm\": 215.0, \"body_mass_g\": 5500.0, \"sex\": \"male\", \"year\": 2009}, {\"species\": \"Gentoo\", \"island\": \"Biscoe\", \"bill_length_mm\": 41.7, \"bill_depth_mm\": 14.7, \"flipper_length_mm\": 210.0, \"body_mass_g\": 4700.0, \"sex\": \"female\", \"year\": 2009}, {\"species\": \"Gentoo\", \"island\": \"Biscoe\", \"bill_length_mm\": 53.4, \"bill_depth_mm\": 15.8, \"flipper_length_mm\": 219.0, \"body_mass_g\": 5500.0, \"sex\": \"male\", \"year\": 2009}, {\"species\": \"Gentoo\", \"island\": \"Biscoe\", \"bill_length_mm\": 43.3, \"bill_depth_mm\": 14.0, \"flipper_length_mm\": 208.0, \"body_mass_g\": 4575.0, \"sex\": \"female\", \"year\": 2009}, {\"species\": \"Gentoo\", \"island\": \"Biscoe\", \"bill_length_mm\": 48.1, \"bill_depth_mm\": 15.1, \"flipper_length_mm\": 209.0, \"body_mass_g\": 5500.0, \"sex\": \"male\", \"year\": 2009}, {\"species\": \"Gentoo\", \"island\": \"Biscoe\", \"bill_length_mm\": 50.5, \"bill_depth_mm\": 15.2, \"flipper_length_mm\": 216.0, \"body_mass_g\": 5000.0, \"sex\": \"female\", \"year\": 2009}, {\"species\": \"Gentoo\", \"island\": \"Biscoe\", \"bill_length_mm\": 49.8, \"bill_depth_mm\": 15.9, \"flipper_length_mm\": 229.0, \"body_mass_g\": 5950.0, \"sex\": \"male\", \"year\": 2009}, {\"species\": \"Gentoo\", \"island\": \"Biscoe\", \"bill_length_mm\": 43.5, \"bill_depth_mm\": 15.2, \"flipper_length_mm\": 213.0, \"body_mass_g\": 4650.0, \"sex\": \"female\", \"year\": 2009}, {\"species\": \"Gentoo\", \"island\": \"Biscoe\", \"bill_length_mm\": 51.5, \"bill_depth_mm\": 16.3, \"flipper_length_mm\": 230.0, \"body_mass_g\": 5500.0, \"sex\": \"male\", \"year\": 2009}, {\"species\": \"Gentoo\", \"island\": \"Biscoe\", \"bill_length_mm\": 46.2, \"bill_depth_mm\": 14.1, \"flipper_length_mm\": 217.0, \"body_mass_g\": 4375.0, \"sex\": \"female\", \"year\": 2009}, {\"species\": \"Gentoo\", \"island\": \"Biscoe\", \"bill_length_mm\": 55.1, \"bill_depth_mm\": 16.0, \"flipper_length_mm\": 230.0, \"body_mass_g\": 5850.0, \"sex\": \"male\", \"year\": 2009}, {\"species\": \"Gentoo\", \"island\": \"Biscoe\", \"bill_length_mm\": 44.5, \"bill_depth_mm\": 15.7, \"flipper_length_mm\": 217.0, \"body_mass_g\": 4875.0, \"sex\": null, \"year\": 2009}, {\"species\": \"Gentoo\", \"island\": \"Biscoe\", \"bill_length_mm\": 48.8, \"bill_depth_mm\": 16.2, \"flipper_length_mm\": 222.0, \"body_mass_g\": 6000.0, \"sex\": \"male\", \"year\": 2009}, {\"species\": \"Gentoo\", \"island\": \"Biscoe\", \"bill_length_mm\": 47.2, \"bill_depth_mm\": 13.7, \"flipper_length_mm\": 214.0, \"body_mass_g\": 4925.0, \"sex\": \"female\", \"year\": 2009}, {\"species\": \"Gentoo\", \"island\": \"Biscoe\", \"bill_length_mm\": null, \"bill_depth_mm\": null, \"flipper_length_mm\": null, \"body_mass_g\": null, \"sex\": null, \"year\": 2009}, {\"species\": \"Gentoo\", \"island\": \"Biscoe\", \"bill_length_mm\": 46.8, \"bill_depth_mm\": 14.3, \"flipper_length_mm\": 215.0, \"body_mass_g\": 4850.0, \"sex\": \"female\", \"year\": 2009}, {\"species\": \"Gentoo\", \"island\": \"Biscoe\", \"bill_length_mm\": 50.4, \"bill_depth_mm\": 15.7, \"flipper_length_mm\": 222.0, \"body_mass_g\": 5750.0, \"sex\": \"male\", \"year\": 2009}, {\"species\": \"Gentoo\", \"island\": \"Biscoe\", \"bill_length_mm\": 45.2, \"bill_depth_mm\": 14.8, \"flipper_length_mm\": 212.0, \"body_mass_g\": 5200.0, \"sex\": \"female\", \"year\": 2009}, {\"species\": \"Gentoo\", \"island\": \"Biscoe\", \"bill_length_mm\": 49.9, \"bill_depth_mm\": 16.1, \"flipper_length_mm\": 213.0, \"body_mass_g\": 5400.0, \"sex\": \"male\", \"year\": 2009}, {\"species\": \"Chinstrap\", \"island\": \"Dream\", \"bill_length_mm\": 46.5, \"bill_depth_mm\": 17.9, \"flipper_length_mm\": 192.0, \"body_mass_g\": 3500.0, \"sex\": \"female\", \"year\": 2007}, {\"species\": \"Chinstrap\", \"island\": \"Dream\", \"bill_length_mm\": 50.0, \"bill_depth_mm\": 19.5, \"flipper_length_mm\": 196.0, \"body_mass_g\": 3900.0, \"sex\": \"male\", \"year\": 2007}, {\"species\": \"Chinstrap\", \"island\": \"Dream\", \"bill_length_mm\": 51.3, \"bill_depth_mm\": 19.2, \"flipper_length_mm\": 193.0, \"body_mass_g\": 3650.0, \"sex\": \"male\", \"year\": 2007}, {\"species\": \"Chinstrap\", \"island\": \"Dream\", \"bill_length_mm\": 45.4, \"bill_depth_mm\": 18.7, \"flipper_length_mm\": 188.0, \"body_mass_g\": 3525.0, \"sex\": \"female\", \"year\": 2007}, {\"species\": \"Chinstrap\", \"island\": \"Dream\", \"bill_length_mm\": 52.7, \"bill_depth_mm\": 19.8, \"flipper_length_mm\": 197.0, \"body_mass_g\": 3725.0, \"sex\": \"male\", \"year\": 2007}, {\"species\": \"Chinstrap\", \"island\": \"Dream\", \"bill_length_mm\": 45.2, \"bill_depth_mm\": 17.8, \"flipper_length_mm\": 198.0, \"body_mass_g\": 3950.0, \"sex\": \"female\", \"year\": 2007}, {\"species\": \"Chinstrap\", \"island\": \"Dream\", \"bill_length_mm\": 46.1, \"bill_depth_mm\": 18.2, \"flipper_length_mm\": 178.0, \"body_mass_g\": 3250.0, \"sex\": \"female\", \"year\": 2007}, {\"species\": \"Chinstrap\", \"island\": \"Dream\", \"bill_length_mm\": 51.3, \"bill_depth_mm\": 18.2, \"flipper_length_mm\": 197.0, \"body_mass_g\": 3750.0, \"sex\": \"male\", \"year\": 2007}, {\"species\": \"Chinstrap\", \"island\": \"Dream\", \"bill_length_mm\": 46.0, \"bill_depth_mm\": 18.9, \"flipper_length_mm\": 195.0, \"body_mass_g\": 4150.0, \"sex\": \"female\", \"year\": 2007}, {\"species\": \"Chinstrap\", \"island\": \"Dream\", \"bill_length_mm\": 51.3, \"bill_depth_mm\": 19.9, \"flipper_length_mm\": 198.0, \"body_mass_g\": 3700.0, \"sex\": \"male\", \"year\": 2007}, {\"species\": \"Chinstrap\", \"island\": \"Dream\", \"bill_length_mm\": 46.6, \"bill_depth_mm\": 17.8, \"flipper_length_mm\": 193.0, \"body_mass_g\": 3800.0, \"sex\": \"female\", \"year\": 2007}, {\"species\": \"Chinstrap\", \"island\": \"Dream\", \"bill_length_mm\": 51.7, \"bill_depth_mm\": 20.3, \"flipper_length_mm\": 194.0, \"body_mass_g\": 3775.0, \"sex\": \"male\", \"year\": 2007}, {\"species\": \"Chinstrap\", \"island\": \"Dream\", \"bill_length_mm\": 47.0, \"bill_depth_mm\": 17.3, \"flipper_length_mm\": 185.0, \"body_mass_g\": 3700.0, \"sex\": \"female\", \"year\": 2007}, {\"species\": \"Chinstrap\", \"island\": \"Dream\", \"bill_length_mm\": 52.0, \"bill_depth_mm\": 18.1, \"flipper_length_mm\": 201.0, \"body_mass_g\": 4050.0, \"sex\": \"male\", \"year\": 2007}, {\"species\": \"Chinstrap\", \"island\": \"Dream\", \"bill_length_mm\": 45.9, \"bill_depth_mm\": 17.1, \"flipper_length_mm\": 190.0, \"body_mass_g\": 3575.0, \"sex\": \"female\", \"year\": 2007}, {\"species\": \"Chinstrap\", \"island\": \"Dream\", \"bill_length_mm\": 50.5, \"bill_depth_mm\": 19.6, \"flipper_length_mm\": 201.0, \"body_mass_g\": 4050.0, \"sex\": \"male\", \"year\": 2007}, {\"species\": \"Chinstrap\", \"island\": \"Dream\", \"bill_length_mm\": 50.3, \"bill_depth_mm\": 20.0, \"flipper_length_mm\": 197.0, \"body_mass_g\": 3300.0, \"sex\": \"male\", \"year\": 2007}, {\"species\": \"Chinstrap\", \"island\": \"Dream\", \"bill_length_mm\": 58.0, \"bill_depth_mm\": 17.8, \"flipper_length_mm\": 181.0, \"body_mass_g\": 3700.0, \"sex\": \"female\", \"year\": 2007}, {\"species\": \"Chinstrap\", \"island\": \"Dream\", \"bill_length_mm\": 46.4, \"bill_depth_mm\": 18.6, \"flipper_length_mm\": 190.0, \"body_mass_g\": 3450.0, \"sex\": \"female\", \"year\": 2007}, {\"species\": \"Chinstrap\", \"island\": \"Dream\", \"bill_length_mm\": 49.2, \"bill_depth_mm\": 18.2, \"flipper_length_mm\": 195.0, \"body_mass_g\": 4400.0, \"sex\": \"male\", \"year\": 2007}, {\"species\": \"Chinstrap\", \"island\": \"Dream\", \"bill_length_mm\": 42.4, \"bill_depth_mm\": 17.3, \"flipper_length_mm\": 181.0, \"body_mass_g\": 3600.0, \"sex\": \"female\", \"year\": 2007}, {\"species\": \"Chinstrap\", \"island\": \"Dream\", \"bill_length_mm\": 48.5, \"bill_depth_mm\": 17.5, \"flipper_length_mm\": 191.0, \"body_mass_g\": 3400.0, \"sex\": \"male\", \"year\": 2007}, {\"species\": \"Chinstrap\", \"island\": \"Dream\", \"bill_length_mm\": 43.2, \"bill_depth_mm\": 16.6, \"flipper_length_mm\": 187.0, \"body_mass_g\": 2900.0, \"sex\": \"female\", \"year\": 2007}, {\"species\": \"Chinstrap\", \"island\": \"Dream\", \"bill_length_mm\": 50.6, \"bill_depth_mm\": 19.4, \"flipper_length_mm\": 193.0, \"body_mass_g\": 3800.0, \"sex\": \"male\", \"year\": 2007}, {\"species\": \"Chinstrap\", \"island\": \"Dream\", \"bill_length_mm\": 46.7, \"bill_depth_mm\": 17.9, \"flipper_length_mm\": 195.0, \"body_mass_g\": 3300.0, \"sex\": \"female\", \"year\": 2007}, {\"species\": \"Chinstrap\", \"island\": \"Dream\", \"bill_length_mm\": 52.0, \"bill_depth_mm\": 19.0, \"flipper_length_mm\": 197.0, \"body_mass_g\": 4150.0, \"sex\": \"male\", \"year\": 2007}, {\"species\": \"Chinstrap\", \"island\": \"Dream\", \"bill_length_mm\": 50.5, \"bill_depth_mm\": 18.4, \"flipper_length_mm\": 200.0, \"body_mass_g\": 3400.0, \"sex\": \"female\", \"year\": 2008}, {\"species\": \"Chinstrap\", \"island\": \"Dream\", \"bill_length_mm\": 49.5, \"bill_depth_mm\": 19.0, \"flipper_length_mm\": 200.0, \"body_mass_g\": 3800.0, \"sex\": \"male\", \"year\": 2008}, {\"species\": \"Chinstrap\", \"island\": \"Dream\", \"bill_length_mm\": 46.4, \"bill_depth_mm\": 17.8, \"flipper_length_mm\": 191.0, \"body_mass_g\": 3700.0, \"sex\": \"female\", \"year\": 2008}, {\"species\": \"Chinstrap\", \"island\": \"Dream\", \"bill_length_mm\": 52.8, \"bill_depth_mm\": 20.0, \"flipper_length_mm\": 205.0, \"body_mass_g\": 4550.0, \"sex\": \"male\", \"year\": 2008}, {\"species\": \"Chinstrap\", \"island\": \"Dream\", \"bill_length_mm\": 40.9, \"bill_depth_mm\": 16.6, \"flipper_length_mm\": 187.0, \"body_mass_g\": 3200.0, \"sex\": \"female\", \"year\": 2008}, {\"species\": \"Chinstrap\", \"island\": \"Dream\", \"bill_length_mm\": 54.2, \"bill_depth_mm\": 20.8, \"flipper_length_mm\": 201.0, \"body_mass_g\": 4300.0, \"sex\": \"male\", \"year\": 2008}, {\"species\": \"Chinstrap\", \"island\": \"Dream\", \"bill_length_mm\": 42.5, \"bill_depth_mm\": 16.7, \"flipper_length_mm\": 187.0, \"body_mass_g\": 3350.0, \"sex\": \"female\", \"year\": 2008}, {\"species\": \"Chinstrap\", \"island\": \"Dream\", \"bill_length_mm\": 51.0, \"bill_depth_mm\": 18.8, \"flipper_length_mm\": 203.0, \"body_mass_g\": 4100.0, \"sex\": \"male\", \"year\": 2008}, {\"species\": \"Chinstrap\", \"island\": \"Dream\", \"bill_length_mm\": 49.7, \"bill_depth_mm\": 18.6, \"flipper_length_mm\": 195.0, \"body_mass_g\": 3600.0, \"sex\": \"male\", \"year\": 2008}, {\"species\": \"Chinstrap\", \"island\": \"Dream\", \"bill_length_mm\": 47.5, \"bill_depth_mm\": 16.8, \"flipper_length_mm\": 199.0, \"body_mass_g\": 3900.0, \"sex\": \"female\", \"year\": 2008}, {\"species\": \"Chinstrap\", \"island\": \"Dream\", \"bill_length_mm\": 47.6, \"bill_depth_mm\": 18.3, \"flipper_length_mm\": 195.0, \"body_mass_g\": 3850.0, \"sex\": \"female\", \"year\": 2008}, {\"species\": \"Chinstrap\", \"island\": \"Dream\", \"bill_length_mm\": 52.0, \"bill_depth_mm\": 20.7, \"flipper_length_mm\": 210.0, \"body_mass_g\": 4800.0, \"sex\": \"male\", \"year\": 2008}, {\"species\": \"Chinstrap\", \"island\": \"Dream\", \"bill_length_mm\": 46.9, \"bill_depth_mm\": 16.6, \"flipper_length_mm\": 192.0, \"body_mass_g\": 2700.0, \"sex\": \"female\", \"year\": 2008}, {\"species\": \"Chinstrap\", \"island\": \"Dream\", \"bill_length_mm\": 53.5, \"bill_depth_mm\": 19.9, \"flipper_length_mm\": 205.0, \"body_mass_g\": 4500.0, \"sex\": \"male\", \"year\": 2008}, {\"species\": \"Chinstrap\", \"island\": \"Dream\", \"bill_length_mm\": 49.0, \"bill_depth_mm\": 19.5, \"flipper_length_mm\": 210.0, \"body_mass_g\": 3950.0, \"sex\": \"male\", \"year\": 2008}, {\"species\": \"Chinstrap\", \"island\": \"Dream\", \"bill_length_mm\": 46.2, \"bill_depth_mm\": 17.5, \"flipper_length_mm\": 187.0, \"body_mass_g\": 3650.0, \"sex\": \"female\", \"year\": 2008}, {\"species\": \"Chinstrap\", \"island\": \"Dream\", \"bill_length_mm\": 50.9, \"bill_depth_mm\": 19.1, \"flipper_length_mm\": 196.0, \"body_mass_g\": 3550.0, \"sex\": \"male\", \"year\": 2008}, {\"species\": \"Chinstrap\", \"island\": \"Dream\", \"bill_length_mm\": 45.5, \"bill_depth_mm\": 17.0, \"flipper_length_mm\": 196.0, \"body_mass_g\": 3500.0, \"sex\": \"female\", \"year\": 2008}, {\"species\": \"Chinstrap\", \"island\": \"Dream\", \"bill_length_mm\": 50.9, \"bill_depth_mm\": 17.9, \"flipper_length_mm\": 196.0, \"body_mass_g\": 3675.0, \"sex\": \"female\", \"year\": 2009}, {\"species\": \"Chinstrap\", \"island\": \"Dream\", \"bill_length_mm\": 50.8, \"bill_depth_mm\": 18.5, \"flipper_length_mm\": 201.0, \"body_mass_g\": 4450.0, \"sex\": \"male\", \"year\": 2009}, {\"species\": \"Chinstrap\", \"island\": \"Dream\", \"bill_length_mm\": 50.1, \"bill_depth_mm\": 17.9, \"flipper_length_mm\": 190.0, \"body_mass_g\": 3400.0, \"sex\": \"female\", \"year\": 2009}, {\"species\": \"Chinstrap\", \"island\": \"Dream\", \"bill_length_mm\": 49.0, \"bill_depth_mm\": 19.6, \"flipper_length_mm\": 212.0, \"body_mass_g\": 4300.0, \"sex\": \"male\", \"year\": 2009}, {\"species\": \"Chinstrap\", \"island\": \"Dream\", \"bill_length_mm\": 51.5, \"bill_depth_mm\": 18.7, \"flipper_length_mm\": 187.0, \"body_mass_g\": 3250.0, \"sex\": \"male\", \"year\": 2009}, {\"species\": \"Chinstrap\", \"island\": \"Dream\", \"bill_length_mm\": 49.8, \"bill_depth_mm\": 17.3, \"flipper_length_mm\": 198.0, \"body_mass_g\": 3675.0, \"sex\": \"female\", \"year\": 2009}, {\"species\": \"Chinstrap\", \"island\": \"Dream\", \"bill_length_mm\": 48.1, \"bill_depth_mm\": 16.4, \"flipper_length_mm\": 199.0, \"body_mass_g\": 3325.0, \"sex\": \"female\", \"year\": 2009}, {\"species\": \"Chinstrap\", \"island\": \"Dream\", \"bill_length_mm\": 51.4, \"bill_depth_mm\": 19.0, \"flipper_length_mm\": 201.0, \"body_mass_g\": 3950.0, \"sex\": \"male\", \"year\": 2009}, {\"species\": \"Chinstrap\", \"island\": \"Dream\", \"bill_length_mm\": 45.7, \"bill_depth_mm\": 17.3, \"flipper_length_mm\": 193.0, \"body_mass_g\": 3600.0, \"sex\": \"female\", \"year\": 2009}, {\"species\": \"Chinstrap\", \"island\": \"Dream\", \"bill_length_mm\": 50.7, \"bill_depth_mm\": 19.7, \"flipper_length_mm\": 203.0, \"body_mass_g\": 4050.0, \"sex\": \"male\", \"year\": 2009}, {\"species\": \"Chinstrap\", \"island\": \"Dream\", \"bill_length_mm\": 42.5, \"bill_depth_mm\": 17.3, \"flipper_length_mm\": 187.0, \"body_mass_g\": 3350.0, \"sex\": \"female\", \"year\": 2009}, {\"species\": \"Chinstrap\", \"island\": \"Dream\", \"bill_length_mm\": 52.2, \"bill_depth_mm\": 18.8, \"flipper_length_mm\": 197.0, \"body_mass_g\": 3450.0, \"sex\": \"male\", \"year\": 2009}, {\"species\": \"Chinstrap\", \"island\": \"Dream\", \"bill_length_mm\": 45.2, \"bill_depth_mm\": 16.6, \"flipper_length_mm\": 191.0, \"body_mass_g\": 3250.0, \"sex\": \"female\", \"year\": 2009}, {\"species\": \"Chinstrap\", \"island\": \"Dream\", \"bill_length_mm\": 49.3, \"bill_depth_mm\": 19.9, \"flipper_length_mm\": 203.0, \"body_mass_g\": 4050.0, \"sex\": \"male\", \"year\": 2009}, {\"species\": \"Chinstrap\", \"island\": \"Dream\", \"bill_length_mm\": 50.2, \"bill_depth_mm\": 18.8, \"flipper_length_mm\": 202.0, \"body_mass_g\": 3800.0, \"sex\": \"male\", \"year\": 2009}, {\"species\": \"Chinstrap\", \"island\": \"Dream\", \"bill_length_mm\": 45.6, \"bill_depth_mm\": 19.4, \"flipper_length_mm\": 194.0, \"body_mass_g\": 3525.0, \"sex\": \"female\", \"year\": 2009}, {\"species\": \"Chinstrap\", \"island\": \"Dream\", \"bill_length_mm\": 51.9, \"bill_depth_mm\": 19.5, \"flipper_length_mm\": 206.0, \"body_mass_g\": 3950.0, \"sex\": \"male\", \"year\": 2009}, {\"species\": \"Chinstrap\", \"island\": \"Dream\", \"bill_length_mm\": 46.8, \"bill_depth_mm\": 16.5, \"flipper_length_mm\": 189.0, \"body_mass_g\": 3650.0, \"sex\": \"female\", \"year\": 2009}, {\"species\": \"Chinstrap\", \"island\": \"Dream\", \"bill_length_mm\": 45.7, \"bill_depth_mm\": 17.0, \"flipper_length_mm\": 195.0, \"body_mass_g\": 3650.0, \"sex\": \"female\", \"year\": 2009}, {\"species\": \"Chinstrap\", \"island\": \"Dream\", \"bill_length_mm\": 55.8, \"bill_depth_mm\": 19.8, \"flipper_length_mm\": 207.0, \"body_mass_g\": 4000.0, \"sex\": \"male\", \"year\": 2009}, {\"species\": \"Chinstrap\", \"island\": \"Dream\", \"bill_length_mm\": 43.5, \"bill_depth_mm\": 18.1, \"flipper_length_mm\": 202.0, \"body_mass_g\": 3400.0, \"sex\": \"female\", \"year\": 2009}, {\"species\": \"Chinstrap\", \"island\": \"Dream\", \"bill_length_mm\": 49.6, \"bill_depth_mm\": 18.2, \"flipper_length_mm\": 193.0, \"body_mass_g\": 3775.0, \"sex\": \"male\", \"year\": 2009}, {\"species\": \"Chinstrap\", \"island\": \"Dream\", \"bill_length_mm\": 50.8, \"bill_depth_mm\": 19.0, \"flipper_length_mm\": 210.0, \"body_mass_g\": 4100.0, \"sex\": \"male\", \"year\": 2009}, {\"species\": \"Chinstrap\", \"island\": \"Dream\", \"bill_length_mm\": 50.2, \"bill_depth_mm\": 18.7, \"flipper_length_mm\": 198.0, \"body_mass_g\": 3775.0, \"sex\": \"female\", \"year\": 2009}]}}, {\"mode\": \"vega-lite\"});\n</script>",
      "text/plain": [
       "alt.Chart(...)"
      ]
     },
     "metadata": {},
     "execution_count": 10
    }
   ],
   "source": [
    "import altair as alt\n",
    "\n",
    "#c: penguins.shape to find sample space size\n",
    "\n",
    "alt.Chart(penguins).mark_bar().encode(\n",
    "    x=alt.X(\"body_mass_g\", bin=True),\n",
    "    y=\"count()\",\n",
    "    tooltip=[\"count()\"]\n",
    ")\n",
    "\n",
    "#penguins[\"body_mass_g\"]"
   ]
  },
  {
   "source": [
    "# Expected Value\n",
    "Once we've figured out the probability distribution of a random variable, what can we do with this information? One useful application is something called **expected value**. In other words, what outcome do we generally *expect* to see? \n",
    "\n",
    "For a given random variable X, the **expected value** is equal to the **weighted average**. For every possible event, we multiply it by the probability of that event happening, and then we add all those together. In mathematical terms,\n",
    "\n",
    "$$ ExpectedValue(X) = \\Sigma xP(x), \\forall x \\in X$$"
   ],
   "cell_type": "markdown",
   "metadata": {}
  },
  {
   "source": [
    "  8. Your friend wants to make a bet with you: a fair coin will be flipped. If it lands in heads, you get a cup of coffee, but if it lands on tails, you lose a cup of coffee.  \n",
    "    a. What is the random variable in this scenario?\n",
    "\n",
    "    b. What is the probability distribution of this random variable?\n",
    "\n",
    "    c. What is the expected value of this random variable?\n",
    "    1*.5 + -1*.5"
   ],
   "cell_type": "markdown",
   "metadata": {}
  },
  {
   "source": [
    "  9. Your favorite coffee shop is having a promotion where each customer who enters gets to spin a wheel. They have a 50% chance of winning one free coffee and 30% chance of winning two free coffees. The rest of the wheel is blank.  \n",
    "    a. What is the probability of not winning at least one coffee?  \n",
    "    .20\n",
    "\n",
    "    b. On average, how many coffees would a customer expect to win upon spinning the wheel?  \n",
    "    1*.5 + 2*.3 + 0\n",
    "    "
   ],
   "cell_type": "markdown",
   "metadata": {}
  },
  {
   "source": [
    "  10. The code below describes the probability distribution P_10 for some random variable.  \n",
    "    a. What is the sample space?\n",
    "    1 to 5\n",
    "\n",
    "    b. What is P_10(3)?\n",
    "    3/15\n",
    "\n",
    "    c. What is P_10(29)?\n",
    "    0\n",
    "    \n",
    "    d. What is the expected value of this random variable? Write code to find the answer."
   ],
   "cell_type": "markdown",
   "metadata": {}
  },
  {
   "cell_type": "code",
   "execution_count": 7,
   "metadata": {},
   "outputs": [
    {
     "output_type": "execute_result",
     "data": {
      "text/plain": [
       "3.6666666666666665"
      ]
     },
     "metadata": {},
     "execution_count": 7
    }
   ],
   "source": [
    "def P_10(x):\n",
    "    if x in range(1,6):\n",
    "        return x/15\n",
    "    else:\n",
    "        return 0\n",
    "\n",
    "def expected_value(ss, pdf):\n",
    "    E = 0\n",
    "    for x in ss:\n",
    "        E += x * pdf(x)\n",
    "    return E\n",
    "\n",
    "expected_value(range(1,6), P_10)"
   ]
  },
  {
   "source": [
    "# Questions\n",
    "Answer the following questions. You may add code cells and write code if that will help you answer the question."
   ],
   "cell_type": "markdown",
   "metadata": {}
  },
  {
   "source": [
    "  11. A player stumbles upon a rare chest in a video game and knows that a random amount of gold will be generated upon opening it. This is the probability distribution:\n",
    "\n",
    "|Probability|Gold|\n",
    "|--------|----|\n",
    "|1%       |1000|\n",
    "|10%      |500 |\n",
    "|50%      |100 |\n",
    "|39%      |80  |\n",
    "\n",
    "  What's the expected amount of gold this player will receive?"
   ],
   "cell_type": "markdown",
   "metadata": {}
  },
  {
   "cell_type": "code",
   "execution_count": 8,
   "metadata": {},
   "outputs": [
    {
     "output_type": "execute_result",
     "data": {
      "text/plain": [
       "141.2"
      ]
     },
     "metadata": {},
     "execution_count": 8
    }
   ],
   "source": [
    "1000*.01 + 500*.1 + 100*.5 + 80*.39"
   ]
  },
  {
   "source": [
    "  12. A basketball player is analyzing their own stats, and realizes that so far they've made 70% of their free throws. Let's analyze a situation where this player is given 2 free throws.  \n",
    "    a. What is the random variable and sample space?\n",
    "\n",
    "    b. What is the probability distribution?\n",
    "\n",
    "    c. Out of the 2, how many shots will this player get in on average?\n",
    "    "
   ],
   "cell_type": "markdown",
   "metadata": {}
  },
  {
   "cell_type": "code",
   "execution_count": 9,
   "metadata": {},
   "outputs": [
    {
     "output_type": "execute_result",
     "data": {
      "text/plain": [
       "1.4"
      ]
     },
     "metadata": {},
     "execution_count": 9
    }
   ],
   "source": [
    "# 1 = made the shot, 0 = didn't\n",
    "ss = [(i,j) for i in range(2) for j in range(2)]\n",
    "def P_bb(x):\n",
    "    pdf = {(0,0):.3*.3, (0,1):.3*.7, (1,0):.7*.3, (1,1):.7*.7}\n",
    "    return pdf.get(x, 0)\n",
    "\n",
    "E = 0\n",
    "for x in ss:\n",
    "    E += sum(x) * P_bb(x)\n",
    "E"
   ]
  },
  {
   "source": [
    "  13. You're shopping online, and you're deciding between two different sellers for what seems to be the same item. Seller A has a rating of 9.5 with 10 reviews, while Seller B has a rating of 9.0 with 300 reviews. Which seller would you want to buy from more, and why?"
   ],
   "cell_type": "markdown",
   "metadata": {}
  }
 ]
}