{
 "metadata": {
  "language_info": {
   "codemirror_mode": {
    "name": "ipython",
    "version": 3
   },
   "file_extension": ".py",
   "mimetype": "text/x-python",
   "name": "python",
   "nbconvert_exporter": "python",
   "pygments_lexer": "ipython3",
   "version": "3.9.1-final"
  },
  "orig_nbformat": 2,
  "kernelspec": {
   "name": "python391jvsc74a57bd06e942df4d85f9e057d39df3ee298da62417367022ee9076991545a9f83591799",
   "display_name": "Python 3.9.1 64-bit ('3.9.1')"
  },
  "metadata": {
   "interpreter": {
    "hash": "6e942df4d85f9e057d39df3ee298da62417367022ee9076991545a9f83591799"
   }
  }
 },
 "nbformat": 4,
 "nbformat_minor": 2,
 "cells": [
  {
   "source": [
    "## From Last Time\n",
    "In the last worksheet, we established some basic vocabulary and concepts. Here's some review:"
   ],
   "cell_type": "markdown",
   "metadata": {}
  },
  {
   "source": [
    "  1. What is the difference between experimental and theoretical probability?\n",
    "  one is you get it by running experiment and counting events / sample space\n",
    "  theoretical is reached via logic / math / reasoning"
   ],
   "cell_type": "markdown",
   "metadata": {}
  },
  {
   "source": [
    "  2. Dice with more than 6 sides are commonly used in board games. Suppose we had a die with 20 sides (numbered from 1 to 20). Find the following probabilities:  \n",
    "    a. P(rolling a 3)  \n",
    "    1/20\n",
    "\n",
    "    b. P(not rolling a 3)  \n",
    "    19/20\n",
    "\n",
    "    c. P(rolling within the range (10, 15])  \n",
    "    5/20\n",
    "\n",
    "    d. P(rolling under 5 OR above 15)  \n",
    "    8/20\n",
    "    "
   ],
   "cell_type": "markdown",
   "metadata": {}
  },
  {
   "source": [
    "  3. Suppose that you have a 20-sided die in real life, and you're trying to figure out if it's a fair die. In other words, is there the same probability of landing on each side? Explain how you would find out, and justify your answer using the Law of Large Numbers.\n",
    "  \n",
    "  roll like a million times and see if each side has roughly same proportion"
   ],
   "cell_type": "markdown",
   "metadata": {}
  },
  {
   "source": [
    "**Income Level**|**Not Audited**|**Audited**|**Total**\n",
    ":-----:|:-----:|:-----:|:-----:\n",
    "Under 200k|143425|619|**144044**\n",
    "200k to 1m|7809|44|**7833**\n",
    "Over 1m|568|14|**582**\n",
    "**Total**|**151782**|**677**|**152459**\n",
    "\n",
    "  4. In the United States, tax returns are due around April 15th. The information above is taken from [the IRS](https://www.irs.gov/pub/irs-pdf/p55b.pdf) on individual tax returns in 2019; the numbers in the table are reported in the thousands.\n",
    "\n",
    "  a. For a randomly selected taxpayer in 2019, what is the probability of being audited?  \n",
    "  677/152459\n",
    "\n",
    "  b. For a taxpayer with an income of more than $1m, what is the probability of being audited?  \n",
    "  14/582\n",
    "\n",
    "  c. For a taxpayer with an income below $200k, what is the probability of not being audited?  \n",
    "  143425/144044\n",
    "\n",
    "  d. Is there a relationship between income level and likelihood of being audited? Support your answer using what you know about contingency tables and conditional proportions.  \n",
    "  evidence points to yes (different proportions, although still under 1%)\n"
   ],
   "cell_type": "markdown",
   "metadata": {}
  },
  {
   "source": [
    "\n",
    "## Probability Continued\n",
    "So far we've been looking at the results of a single random event: flipping a single coin, or rolling a die once. How do we think about combining probabilies?\n",
    "\n",
    "To begin to formalize this idea, imagine we have a random generator that can do two things: it either fairly picks a color from {red, blue, green}, or it fairly rolls a 6-sided die.\n",
    "\n",
    "### Intersection\n",
    "When we're interested in the probability of an event A happening *and* another event B happening, we're looking at the **intersection** of these two events. How do we calculate P(A and B)? We'll work through an example.\n",
    "\n",
    "Let's say we want a random color first, then a random number from our generator. What is P(green and 2)?  \n",
    "First, we find P(green), which is 1/3.  \n",
    "Then, we find P(2), which is 1/6.  \n",
    "So how do we get to P(green and 2)? We **multiply** 1/3 /* 1/6 = 1/18.\n",
    "\n",
    "### Union\n",
    "When we're interested in the probability of an event A happening *or* another event B happening, we're looking at the **union** of these two events. How do we calculate P(A or B)? We'll work through an example.\n",
    "\n",
    "What is P(green or 2)? Well, we already know the individual probabilities, which are 1/3 and 1/6.  \n",
    "If we get green, then we don't care what number is rolled.  \n",
    "It we get 2, then we don't care what color was chosen.  \n",
    "We can **add** the probabilities together while taking into account the intersection.  \n",
    "P(green or 2) = P(green) + P(2) - P(green and 2) = 1/3 + 1/6 - 1/18 = 8/18\n"
   ],
   "cell_type": "markdown",
   "metadata": {}
  },
  {
   "source": [
    "### Simulation\n",
    "How can we reassure ourselves that the **multiplication** and **addition rules** work? We can go back to the idea of using events and sample space to confirm.\n",
    "\n",
    "  5. Write code that prints out the sample space of the scenario above.  \n",
    "    a. What is the size of the sample space?\n",
    "\n",
    "    b. What is P(green and 2)? Justify your answer with your code.  \n",
    "    *Hint: Count how many events in the sample space are green and 2*\n",
    "\n",
    "    c. What is P(green or 2)? Justify your answer with your code.\n",
    "\n",
    "  *Hint:* In your code, literally use `and` and `or`!"
   ],
   "cell_type": "markdown",
   "metadata": {}
  },
  {
   "cell_type": "code",
   "execution_count": 12,
   "metadata": {},
   "outputs": [
    {
     "output_type": "stream",
     "name": "stdout",
     "text": [
      "Sample space: [('Red', 1), ('Red', 2), ('Red', 3), ('Red', 4), ('Red', 5), ('Red', 6), ('Green', 1), ('Green', 2), ('Green', 3), ('Green', 4), ('Green', 5), ('Green', 6), ('Blue', 1), ('Blue', 2), ('Blue', 3), ('Blue', 4), ('Blue', 5), ('Blue', 6)]\nSize= 18\nP(green and 2): ('1/18', 0.05555555555555555)\nP(green or 2): ('8/18', 0.4444444444444444)\n"
     ]
    }
   ],
   "source": [
    "# Write your code here.\n",
    "colors = [\"Red\", \"Green\", \"Blue\"]\n",
    "numbers = range(1,7)\n",
    "\n",
    "ss = [(c,n) for c in colors for n in numbers]\n",
    "print(f\"Sample space: {ss}\\nSize= {len(ss)}\")\n",
    "\n",
    "def intersect(color, number):\n",
    "    count = 0\n",
    "    for event in ss:\n",
    "        if event[0] == color and event[1] == number:\n",
    "            count += 1\n",
    "    return (f\"{count}/{len(ss)}\",count/len(ss))\n",
    "\n",
    "def union(color, number):\n",
    "    count = 0\n",
    "    for event in ss:\n",
    "        if event[0] == color or event[1] == number:\n",
    "            count += 1\n",
    "    return (f\"{count}/{len(ss)}\",count/len(ss))\n",
    "\n",
    "print(f\"P(green and 2): {intersect('Green',2)}\")\n",
    "print(f\"P(green or 2): {union('Green',2)}\")"
   ]
  },
  {
   "source": [
    "  6. Let's say an unfair coin is flipped twice. You know that the coin has a 70% chance of landing on tails.  \n",
    "    a. What is the probability of landing on heads?  \n",
    "    30%\n",
    "\n",
    "    b. What is the sample space? An example event is TH, which indicates landing on tails then heads.  \n",
    "    {TT, TH, HT, HH}\n",
    "\n",
    "    c. What is the probability of landing on tails first?  \n",
    "    {TT, TH} => .7*.7 + .7*.3\n",
    "\n",
    "    d. Since there are 4 possible outcomes and HH appears only once, someone concludes that the probability of flipping two heads is 1/4. Explain why this is incorrect.  \n",
    "    That only works for a fair coin, but this isn't 50/50 so we have to manually calculate\n",
    "\n",
    "    e. What is the expected probability of landing on heads twice?  \n",
    "    .3*.3"
   ],
   "cell_type": "markdown",
   "metadata": {}
  },
  {
   "source": [
    "  **Income Level**|**Not Audited**|**Audited**|**Total**\n",
    "  :-----:|:-----:|:-----:|:-----:\n",
    "  Under 200k|143425|619|**144044**\n",
    "  200k to 1m|7809|44|**7833**\n",
    "  Over 1m|568|14|**582**\n",
    "  **Total**|**151782**|**677**|**152459**\n",
    "\n",
    "  7. Let's return to our tax audit contingency table from before. Here it is again:  \n",
    "    a. What is the probability that a randomly selected taxpayer has an income of under $200k?  \n",
    "    144044/152459\n",
    "\n",
    "    b. What is the probability that a randomly selected taxpayer is audited?\n",
    "    677/152459\n",
    "\n",
    "    c. What is the *expected* probability that a randomly selected taxpayer with income of under $200k is audited?  \n",
    "    (a) * (b)\n",
    "\n",
    "    d. What is the *observed* probability that a randomly selected taxpayer with income of under $200k is audited?\n",
    "    619/144044\n",
    "\n",
    "    e. Explain why your answers to (c) and (d) are not exactly the same.\n",
    "    These events might relate to each other (need conditional prob)\n"
   ],
   "cell_type": "markdown",
   "metadata": {}
  },
  {
   "source": [
    "  8. Continue to look at the tax table.  \n",
    "    a. What is the *expected* probability that a randomly selected taxpayer has income of under $200k or is audited?  \n",
    "  (144044/152459) + (677/152459) - 7c\n",
    "\n",
    "    b. What is the *observed* probability that a randomly selected taxpayer has income of under $200k or is audited?  \n",
    "    (144044/152459) + (677/152459) - (619/152459)\n",
    "\n",
    "    c. Explain why your answers to (a) and (b) are not exactly the same.  \n",
    "    experimental is not always theoretical! factors come into play"
   ],
   "cell_type": "markdown",
   "metadata": {}
  },
  {
   "source": [
    "## Conditional Probability\n",
    "We've seen this syntax in the past - P(A | B) is the probability of an event A *given* an event B has occurred.  \n",
    "Using the example from before, let's break down how to calculate P(2 | green).\n",
    "\n",
    "As a refresher, we know that the possible colors are {red, green, blue}, and the number is from a 6-sided die. We can assume green has already been chosen, and of the events where green is chosen, 2 is rolled once.\n",
    "\n",
    "So P(2 | green) = P(green and 2) / P(green) = (1/3 * 1/6) / (1/3) = 1/6\n"
   ],
   "cell_type": "markdown",
   "metadata": {}
  },
  {
   "source": [
    "### Simulation\n",
    "Similar to (5), we can use code to calculate conditional probabilities.\n",
    "\n",
    "  9. Print the entire sample space again. (Same as (5))  \n",
    "    a. What is the size of the subset of the sample space where green is chosen?\n",
    "\n",
    "    b. Of the green subset, count how many times 2 is rolled.\n",
    "\n",
    "    c. Calculate P(2 | green) using your answer to (a) and (b).\n",
    "    "
   ],
   "cell_type": "markdown",
   "metadata": {}
  },
  {
   "cell_type": "code",
   "execution_count": null,
   "metadata": {},
   "outputs": [],
   "source": [
    "# Write your code here"
   ]
  },
  {
   "source": [
    "## Independent Events\n",
    "Recall your answers to (7) and (8). There was a slight difference between the *expected* and the *observed* probabilities. This indicates that perhaps there is a better way to calculate P(A and B)!\n",
    "\n",
    "The formula from the previous worksheet only works if A and B are **independent** events; in other words, A has no relationship at all with B. However, that's not always the case.\n",
    "\n",
    "If we take conditional probabilities into account, P(A and B) = P(B) * P(A | B).\n",
    "\n",
    "  10. What can you conclude about two events A and B if you know that P(A) = P(A|B)?"
   ],
   "cell_type": "markdown",
   "metadata": {}
  },
  {
   "source": [
    "## Summary\n",
    "This will be a good summary box to have for your notes!\n",
    "\n",
    "  11. In terms of P(A) and P(B), find:  \n",
    "    a. P(A and B)\n",
    "\n",
    "    b. P(A or B)\n",
    "\n",
    "    c. P(A | B)\n",
    "    "
   ],
   "cell_type": "markdown",
   "metadata": {}
  },
  {
   "source": [
    "## Probability Practice\n",
    "Answer the following questions. You may add code cells and write code if that will help you answer the question."
   ],
   "cell_type": "markdown",
   "metadata": {}
  },
  {
   "source": [
    "  12. A school is trying to figure out the lunch menu for next year, and conducts a random sample of 20 students. All 20 students say that they are not vegetarians, so the school concludes that the probability of being a vegetarian is 0%. Explain why the school's conclusion is incorrect.\n"
   ],
   "cell_type": "markdown",
   "metadata": {}
  },
  {
   "source": [
    "  13. Based on the number of cases in the US, the chance that a randomly selected person in the US has COVID-19 is 9.5%. A testing company claims to have a 99% accuracy rate for detecting COVID-19.  \n",
    "Denote a positive test as + and negative test as -  \n",
    "Denote having COVID-19 as C+ and not having COVID-19 as C-  \n",
    "    a. According to the company's claim, what is P(+|C+)?\n",
    "\n",
    "    b. What is P(C-)?\n",
    "\n",
    "    c. Use the summary box to help you. P(+) = 0.0982  \n",
    "    What is P(C+|+)? In other words, what is the probability that a person who tests positive actually has COVID-19?\n",
    "\n",
    "    d. What is P(C+|-)? In other words, what is the probability that a person who tests negative actually has COVID-19?\n",
    "    "
   ],
   "cell_type": "markdown",
   "metadata": {}
  }
 ]
}