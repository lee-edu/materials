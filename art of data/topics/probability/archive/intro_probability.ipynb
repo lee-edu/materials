{
 "metadata": {
  "language_info": {
   "codemirror_mode": {
    "name": "ipython",
    "version": 3
   },
   "file_extension": ".py",
   "mimetype": "text/x-python",
   "name": "python",
   "nbconvert_exporter": "python",
   "pygments_lexer": "ipython3",
   "version": "3.9.2"
  },
  "orig_nbformat": 2,
  "kernelspec": {
   "name": "python3",
   "display_name": "Python 3.9.2 64-bit",
   "metadata": {
    "interpreter": {
     "hash": "63fd5069d213b44bf678585dea6b12cceca9941eaf7f819626cde1f2670de90d"
    }
   }
  }
 },
 "nbformat": 4,
 "nbformat_minor": 2,
 "cells": [
  {
   "cell_type": "code",
   "execution_count": 1,
   "metadata": {},
   "outputs": [
    {
     "output_type": "stream",
     "name": "stderr",
     "text": [
      "'pip3' is not recognized as an internal or external command,\noperable program or batch file.\n"
     ]
    }
   ],
   "source": [
    "!pip3 install palmerpenguins"
   ]
  },
  {
   "source": [
    "## Review\n",
    "Let's do some review with `pandas` and `dataframes` to ease everyone back in from spring break! We'll be looking at our friends the Palmer penguins."
   ],
   "cell_type": "markdown",
   "metadata": {}
  },
  {
   "cell_type": "code",
   "execution_count": 2,
   "metadata": {},
   "outputs": [
    {
     "output_type": "execute_result",
     "data": {
      "text/plain": [
       "       species  island  bill_length_mm  bill_depth_mm  flipper_length_mm  \\\n",
       "343  Chinstrap   Dream            50.2           18.7              198.0   \n",
       "21      Adelie  Biscoe            37.7           18.7              180.0   \n",
       "148     Adelie   Dream            36.0           17.8              195.0   \n",
       "146     Adelie   Dream            39.2           18.6              190.0   \n",
       "322  Chinstrap   Dream            50.1           17.9              190.0   \n",
       "\n",
       "     body_mass_g     sex  year  \n",
       "343       3775.0  female  2009  \n",
       "21        3600.0    male  2007  \n",
       "148       3450.0  female  2009  \n",
       "146       4250.0    male  2009  \n",
       "322       3400.0  female  2009  "
      ],
      "text/html": "<div>\n<style scoped>\n    .dataframe tbody tr th:only-of-type {\n        vertical-align: middle;\n    }\n\n    .dataframe tbody tr th {\n        vertical-align: top;\n    }\n\n    .dataframe thead th {\n        text-align: right;\n    }\n</style>\n<table border=\"1\" class=\"dataframe\">\n  <thead>\n    <tr style=\"text-align: right;\">\n      <th></th>\n      <th>species</th>\n      <th>island</th>\n      <th>bill_length_mm</th>\n      <th>bill_depth_mm</th>\n      <th>flipper_length_mm</th>\n      <th>body_mass_g</th>\n      <th>sex</th>\n      <th>year</th>\n    </tr>\n  </thead>\n  <tbody>\n    <tr>\n      <th>343</th>\n      <td>Chinstrap</td>\n      <td>Dream</td>\n      <td>50.2</td>\n      <td>18.7</td>\n      <td>198.0</td>\n      <td>3775.0</td>\n      <td>female</td>\n      <td>2009</td>\n    </tr>\n    <tr>\n      <th>21</th>\n      <td>Adelie</td>\n      <td>Biscoe</td>\n      <td>37.7</td>\n      <td>18.7</td>\n      <td>180.0</td>\n      <td>3600.0</td>\n      <td>male</td>\n      <td>2007</td>\n    </tr>\n    <tr>\n      <th>148</th>\n      <td>Adelie</td>\n      <td>Dream</td>\n      <td>36.0</td>\n      <td>17.8</td>\n      <td>195.0</td>\n      <td>3450.0</td>\n      <td>female</td>\n      <td>2009</td>\n    </tr>\n    <tr>\n      <th>146</th>\n      <td>Adelie</td>\n      <td>Dream</td>\n      <td>39.2</td>\n      <td>18.6</td>\n      <td>190.0</td>\n      <td>4250.0</td>\n      <td>male</td>\n      <td>2009</td>\n    </tr>\n    <tr>\n      <th>322</th>\n      <td>Chinstrap</td>\n      <td>Dream</td>\n      <td>50.1</td>\n      <td>17.9</td>\n      <td>190.0</td>\n      <td>3400.0</td>\n      <td>female</td>\n      <td>2009</td>\n    </tr>\n  </tbody>\n</table>\n</div>"
     },
     "metadata": {},
     "execution_count": 2
    }
   ],
   "source": [
    "from palmerpenguins import load_penguins\n",
    "import pandas as pd\n",
    "\n",
    "penguins = load_penguins()\n",
    "penguins.sample(5)"
   ]
  },
  {
   "source": [
    "## Filtering and Selecting from a Dataframe\n",
    "\n",
    "  1. For the following code cells, write code that will correctly filter and select from `penguins`"
   ],
   "cell_type": "markdown",
   "metadata": {}
  },
  {
   "cell_type": "code",
   "execution_count": 3,
   "metadata": {},
   "outputs": [
    {
     "output_type": "execute_result",
     "data": {
      "text/plain": [
       "       species     island  bill_length_mm  bill_depth_mm  flipper_length_mm  \\\n",
       "0       Adelie  Torgersen            39.1           18.7              181.0   \n",
       "1       Adelie  Torgersen            39.5           17.4              186.0   \n",
       "2       Adelie  Torgersen            40.3           18.0              195.0   \n",
       "4       Adelie  Torgersen            36.7           19.3              193.0   \n",
       "5       Adelie  Torgersen            39.3           20.6              190.0   \n",
       "..         ...        ...             ...            ...                ...   \n",
       "339  Chinstrap      Dream            55.8           19.8              207.0   \n",
       "340  Chinstrap      Dream            43.5           18.1              202.0   \n",
       "341  Chinstrap      Dream            49.6           18.2              193.0   \n",
       "342  Chinstrap      Dream            50.8           19.0              210.0   \n",
       "343  Chinstrap      Dream            50.2           18.7              198.0   \n",
       "\n",
       "     body_mass_g     sex  year  \n",
       "0         3750.0    male  2007  \n",
       "1         3800.0  female  2007  \n",
       "2         3250.0  female  2007  \n",
       "4         3450.0  female  2007  \n",
       "5         3650.0    male  2007  \n",
       "..           ...     ...   ...  \n",
       "339       4000.0    male  2009  \n",
       "340       3400.0  female  2009  \n",
       "341       3775.0    male  2009  \n",
       "342       4100.0    male  2009  \n",
       "343       3775.0  female  2009  \n",
       "\n",
       "[342 rows x 8 columns]"
      ],
      "text/html": "<div>\n<style scoped>\n    .dataframe tbody tr th:only-of-type {\n        vertical-align: middle;\n    }\n\n    .dataframe tbody tr th {\n        vertical-align: top;\n    }\n\n    .dataframe thead th {\n        text-align: right;\n    }\n</style>\n<table border=\"1\" class=\"dataframe\">\n  <thead>\n    <tr style=\"text-align: right;\">\n      <th></th>\n      <th>species</th>\n      <th>island</th>\n      <th>bill_length_mm</th>\n      <th>bill_depth_mm</th>\n      <th>flipper_length_mm</th>\n      <th>body_mass_g</th>\n      <th>sex</th>\n      <th>year</th>\n    </tr>\n  </thead>\n  <tbody>\n    <tr>\n      <th>0</th>\n      <td>Adelie</td>\n      <td>Torgersen</td>\n      <td>39.1</td>\n      <td>18.7</td>\n      <td>181.0</td>\n      <td>3750.0</td>\n      <td>male</td>\n      <td>2007</td>\n    </tr>\n    <tr>\n      <th>1</th>\n      <td>Adelie</td>\n      <td>Torgersen</td>\n      <td>39.5</td>\n      <td>17.4</td>\n      <td>186.0</td>\n      <td>3800.0</td>\n      <td>female</td>\n      <td>2007</td>\n    </tr>\n    <tr>\n      <th>2</th>\n      <td>Adelie</td>\n      <td>Torgersen</td>\n      <td>40.3</td>\n      <td>18.0</td>\n      <td>195.0</td>\n      <td>3250.0</td>\n      <td>female</td>\n      <td>2007</td>\n    </tr>\n    <tr>\n      <th>4</th>\n      <td>Adelie</td>\n      <td>Torgersen</td>\n      <td>36.7</td>\n      <td>19.3</td>\n      <td>193.0</td>\n      <td>3450.0</td>\n      <td>female</td>\n      <td>2007</td>\n    </tr>\n    <tr>\n      <th>5</th>\n      <td>Adelie</td>\n      <td>Torgersen</td>\n      <td>39.3</td>\n      <td>20.6</td>\n      <td>190.0</td>\n      <td>3650.0</td>\n      <td>male</td>\n      <td>2007</td>\n    </tr>\n    <tr>\n      <th>...</th>\n      <td>...</td>\n      <td>...</td>\n      <td>...</td>\n      <td>...</td>\n      <td>...</td>\n      <td>...</td>\n      <td>...</td>\n      <td>...</td>\n    </tr>\n    <tr>\n      <th>339</th>\n      <td>Chinstrap</td>\n      <td>Dream</td>\n      <td>55.8</td>\n      <td>19.8</td>\n      <td>207.0</td>\n      <td>4000.0</td>\n      <td>male</td>\n      <td>2009</td>\n    </tr>\n    <tr>\n      <th>340</th>\n      <td>Chinstrap</td>\n      <td>Dream</td>\n      <td>43.5</td>\n      <td>18.1</td>\n      <td>202.0</td>\n      <td>3400.0</td>\n      <td>female</td>\n      <td>2009</td>\n    </tr>\n    <tr>\n      <th>341</th>\n      <td>Chinstrap</td>\n      <td>Dream</td>\n      <td>49.6</td>\n      <td>18.2</td>\n      <td>193.0</td>\n      <td>3775.0</td>\n      <td>male</td>\n      <td>2009</td>\n    </tr>\n    <tr>\n      <th>342</th>\n      <td>Chinstrap</td>\n      <td>Dream</td>\n      <td>50.8</td>\n      <td>19.0</td>\n      <td>210.0</td>\n      <td>4100.0</td>\n      <td>male</td>\n      <td>2009</td>\n    </tr>\n    <tr>\n      <th>343</th>\n      <td>Chinstrap</td>\n      <td>Dream</td>\n      <td>50.2</td>\n      <td>18.7</td>\n      <td>198.0</td>\n      <td>3775.0</td>\n      <td>female</td>\n      <td>2009</td>\n    </tr>\n  </tbody>\n</table>\n<p>342 rows × 8 columns</p>\n</div>"
     },
     "metadata": {},
     "execution_count": 3
    }
   ],
   "source": [
    "# All penguins with bills longer than 15mm"
   ]
  },
  {
   "cell_type": "code",
   "execution_count": 4,
   "metadata": {},
   "outputs": [
    {
     "output_type": "execute_result",
     "data": {
      "text/plain": [
       "       species     island  bill_length_mm  bill_depth_mm  flipper_length_mm  \\\n",
       "1       Adelie  Torgersen            39.5           17.4              186.0   \n",
       "2       Adelie  Torgersen            40.3           18.0              195.0   \n",
       "4       Adelie  Torgersen            36.7           19.3              193.0   \n",
       "6       Adelie  Torgersen            38.9           17.8              181.0   \n",
       "12      Adelie  Torgersen            41.1           17.6              182.0   \n",
       "..         ...        ...             ...            ...                ...   \n",
       "335  Chinstrap      Dream            45.6           19.4              194.0   \n",
       "337  Chinstrap      Dream            46.8           16.5              189.0   \n",
       "338  Chinstrap      Dream            45.7           17.0              195.0   \n",
       "340  Chinstrap      Dream            43.5           18.1              202.0   \n",
       "343  Chinstrap      Dream            50.2           18.7              198.0   \n",
       "\n",
       "     body_mass_g     sex  year  \n",
       "1         3800.0  female  2007  \n",
       "2         3250.0  female  2007  \n",
       "4         3450.0  female  2007  \n",
       "6         3625.0  female  2007  \n",
       "12        3200.0  female  2007  \n",
       "..           ...     ...   ...  \n",
       "335       3525.0  female  2009  \n",
       "337       3650.0  female  2009  \n",
       "338       3650.0  female  2009  \n",
       "340       3400.0  female  2009  \n",
       "343       3775.0  female  2009  \n",
       "\n",
       "[165 rows x 8 columns]"
      ],
      "text/html": "<div>\n<style scoped>\n    .dataframe tbody tr th:only-of-type {\n        vertical-align: middle;\n    }\n\n    .dataframe tbody tr th {\n        vertical-align: top;\n    }\n\n    .dataframe thead th {\n        text-align: right;\n    }\n</style>\n<table border=\"1\" class=\"dataframe\">\n  <thead>\n    <tr style=\"text-align: right;\">\n      <th></th>\n      <th>species</th>\n      <th>island</th>\n      <th>bill_length_mm</th>\n      <th>bill_depth_mm</th>\n      <th>flipper_length_mm</th>\n      <th>body_mass_g</th>\n      <th>sex</th>\n      <th>year</th>\n    </tr>\n  </thead>\n  <tbody>\n    <tr>\n      <th>1</th>\n      <td>Adelie</td>\n      <td>Torgersen</td>\n      <td>39.5</td>\n      <td>17.4</td>\n      <td>186.0</td>\n      <td>3800.0</td>\n      <td>female</td>\n      <td>2007</td>\n    </tr>\n    <tr>\n      <th>2</th>\n      <td>Adelie</td>\n      <td>Torgersen</td>\n      <td>40.3</td>\n      <td>18.0</td>\n      <td>195.0</td>\n      <td>3250.0</td>\n      <td>female</td>\n      <td>2007</td>\n    </tr>\n    <tr>\n      <th>4</th>\n      <td>Adelie</td>\n      <td>Torgersen</td>\n      <td>36.7</td>\n      <td>19.3</td>\n      <td>193.0</td>\n      <td>3450.0</td>\n      <td>female</td>\n      <td>2007</td>\n    </tr>\n    <tr>\n      <th>6</th>\n      <td>Adelie</td>\n      <td>Torgersen</td>\n      <td>38.9</td>\n      <td>17.8</td>\n      <td>181.0</td>\n      <td>3625.0</td>\n      <td>female</td>\n      <td>2007</td>\n    </tr>\n    <tr>\n      <th>12</th>\n      <td>Adelie</td>\n      <td>Torgersen</td>\n      <td>41.1</td>\n      <td>17.6</td>\n      <td>182.0</td>\n      <td>3200.0</td>\n      <td>female</td>\n      <td>2007</td>\n    </tr>\n    <tr>\n      <th>...</th>\n      <td>...</td>\n      <td>...</td>\n      <td>...</td>\n      <td>...</td>\n      <td>...</td>\n      <td>...</td>\n      <td>...</td>\n      <td>...</td>\n    </tr>\n    <tr>\n      <th>335</th>\n      <td>Chinstrap</td>\n      <td>Dream</td>\n      <td>45.6</td>\n      <td>19.4</td>\n      <td>194.0</td>\n      <td>3525.0</td>\n      <td>female</td>\n      <td>2009</td>\n    </tr>\n    <tr>\n      <th>337</th>\n      <td>Chinstrap</td>\n      <td>Dream</td>\n      <td>46.8</td>\n      <td>16.5</td>\n      <td>189.0</td>\n      <td>3650.0</td>\n      <td>female</td>\n      <td>2009</td>\n    </tr>\n    <tr>\n      <th>338</th>\n      <td>Chinstrap</td>\n      <td>Dream</td>\n      <td>45.7</td>\n      <td>17.0</td>\n      <td>195.0</td>\n      <td>3650.0</td>\n      <td>female</td>\n      <td>2009</td>\n    </tr>\n    <tr>\n      <th>340</th>\n      <td>Chinstrap</td>\n      <td>Dream</td>\n      <td>43.5</td>\n      <td>18.1</td>\n      <td>202.0</td>\n      <td>3400.0</td>\n      <td>female</td>\n      <td>2009</td>\n    </tr>\n    <tr>\n      <th>343</th>\n      <td>Chinstrap</td>\n      <td>Dream</td>\n      <td>50.2</td>\n      <td>18.7</td>\n      <td>198.0</td>\n      <td>3775.0</td>\n      <td>female</td>\n      <td>2009</td>\n    </tr>\n  </tbody>\n</table>\n<p>165 rows × 8 columns</p>\n</div>"
     },
     "metadata": {},
     "execution_count": 4
    }
   ],
   "source": [
    "# All female penguins"
   ]
  },
  {
   "cell_type": "code",
   "execution_count": 5,
   "metadata": {},
   "outputs": [
    {
     "output_type": "execute_result",
     "data": {
      "text/plain": [
       "    species  island  bill_length_mm  bill_depth_mm  flipper_length_mm  \\\n",
       "152  Gentoo  Biscoe            46.1           13.2              211.0   \n",
       "153  Gentoo  Biscoe            50.0           16.3              230.0   \n",
       "154  Gentoo  Biscoe            48.7           14.1              210.0   \n",
       "155  Gentoo  Biscoe            50.0           15.2              218.0   \n",
       "156  Gentoo  Biscoe            47.6           14.5              215.0   \n",
       "..      ...     ...             ...            ...                ...   \n",
       "271  Gentoo  Biscoe             NaN            NaN                NaN   \n",
       "272  Gentoo  Biscoe            46.8           14.3              215.0   \n",
       "273  Gentoo  Biscoe            50.4           15.7              222.0   \n",
       "274  Gentoo  Biscoe            45.2           14.8              212.0   \n",
       "275  Gentoo  Biscoe            49.9           16.1              213.0   \n",
       "\n",
       "     body_mass_g     sex  year  \n",
       "152       4500.0  female  2007  \n",
       "153       5700.0    male  2007  \n",
       "154       4450.0  female  2007  \n",
       "155       5700.0    male  2007  \n",
       "156       5400.0    male  2007  \n",
       "..           ...     ...   ...  \n",
       "271          NaN     NaN  2009  \n",
       "272       4850.0  female  2009  \n",
       "273       5750.0    male  2009  \n",
       "274       5200.0  female  2009  \n",
       "275       5400.0    male  2009  \n",
       "\n",
       "[124 rows x 8 columns]"
      ],
      "text/html": "<div>\n<style scoped>\n    .dataframe tbody tr th:only-of-type {\n        vertical-align: middle;\n    }\n\n    .dataframe tbody tr th {\n        vertical-align: top;\n    }\n\n    .dataframe thead th {\n        text-align: right;\n    }\n</style>\n<table border=\"1\" class=\"dataframe\">\n  <thead>\n    <tr style=\"text-align: right;\">\n      <th></th>\n      <th>species</th>\n      <th>island</th>\n      <th>bill_length_mm</th>\n      <th>bill_depth_mm</th>\n      <th>flipper_length_mm</th>\n      <th>body_mass_g</th>\n      <th>sex</th>\n      <th>year</th>\n    </tr>\n  </thead>\n  <tbody>\n    <tr>\n      <th>152</th>\n      <td>Gentoo</td>\n      <td>Biscoe</td>\n      <td>46.1</td>\n      <td>13.2</td>\n      <td>211.0</td>\n      <td>4500.0</td>\n      <td>female</td>\n      <td>2007</td>\n    </tr>\n    <tr>\n      <th>153</th>\n      <td>Gentoo</td>\n      <td>Biscoe</td>\n      <td>50.0</td>\n      <td>16.3</td>\n      <td>230.0</td>\n      <td>5700.0</td>\n      <td>male</td>\n      <td>2007</td>\n    </tr>\n    <tr>\n      <th>154</th>\n      <td>Gentoo</td>\n      <td>Biscoe</td>\n      <td>48.7</td>\n      <td>14.1</td>\n      <td>210.0</td>\n      <td>4450.0</td>\n      <td>female</td>\n      <td>2007</td>\n    </tr>\n    <tr>\n      <th>155</th>\n      <td>Gentoo</td>\n      <td>Biscoe</td>\n      <td>50.0</td>\n      <td>15.2</td>\n      <td>218.0</td>\n      <td>5700.0</td>\n      <td>male</td>\n      <td>2007</td>\n    </tr>\n    <tr>\n      <th>156</th>\n      <td>Gentoo</td>\n      <td>Biscoe</td>\n      <td>47.6</td>\n      <td>14.5</td>\n      <td>215.0</td>\n      <td>5400.0</td>\n      <td>male</td>\n      <td>2007</td>\n    </tr>\n    <tr>\n      <th>...</th>\n      <td>...</td>\n      <td>...</td>\n      <td>...</td>\n      <td>...</td>\n      <td>...</td>\n      <td>...</td>\n      <td>...</td>\n      <td>...</td>\n    </tr>\n    <tr>\n      <th>271</th>\n      <td>Gentoo</td>\n      <td>Biscoe</td>\n      <td>NaN</td>\n      <td>NaN</td>\n      <td>NaN</td>\n      <td>NaN</td>\n      <td>NaN</td>\n      <td>2009</td>\n    </tr>\n    <tr>\n      <th>272</th>\n      <td>Gentoo</td>\n      <td>Biscoe</td>\n      <td>46.8</td>\n      <td>14.3</td>\n      <td>215.0</td>\n      <td>4850.0</td>\n      <td>female</td>\n      <td>2009</td>\n    </tr>\n    <tr>\n      <th>273</th>\n      <td>Gentoo</td>\n      <td>Biscoe</td>\n      <td>50.4</td>\n      <td>15.7</td>\n      <td>222.0</td>\n      <td>5750.0</td>\n      <td>male</td>\n      <td>2009</td>\n    </tr>\n    <tr>\n      <th>274</th>\n      <td>Gentoo</td>\n      <td>Biscoe</td>\n      <td>45.2</td>\n      <td>14.8</td>\n      <td>212.0</td>\n      <td>5200.0</td>\n      <td>female</td>\n      <td>2009</td>\n    </tr>\n    <tr>\n      <th>275</th>\n      <td>Gentoo</td>\n      <td>Biscoe</td>\n      <td>49.9</td>\n      <td>16.1</td>\n      <td>213.0</td>\n      <td>5400.0</td>\n      <td>male</td>\n      <td>2009</td>\n    </tr>\n  </tbody>\n</table>\n<p>124 rows × 8 columns</p>\n</div>"
     },
     "metadata": {},
     "execution_count": 5
    }
   ],
   "source": [
    "# All Gentoo penguins on Biscoe"
   ]
  },
  {
   "cell_type": "code",
   "execution_count": 6,
   "metadata": {},
   "outputs": [
    {
     "output_type": "execute_result",
     "data": {
      "text/plain": [
       "    species     island  bill_length_mm  bill_depth_mm  flipper_length_mm  \\\n",
       "7    Adelie  Torgersen            39.2           19.6              195.0   \n",
       "9    Adelie  Torgersen            42.0           20.2              190.0   \n",
       "14   Adelie  Torgersen            34.6           21.1              198.0   \n",
       "17   Adelie  Torgersen            42.5           20.7              197.0   \n",
       "19   Adelie  Torgersen            46.0           21.5              194.0   \n",
       "69   Adelie  Torgersen            41.8           19.4              198.0   \n",
       "73   Adelie  Torgersen            45.8           18.9              197.0   \n",
       "75   Adelie  Torgersen            42.8           18.5              195.0   \n",
       "81   Adelie  Torgersen            42.9           17.6              196.0   \n",
       "83   Adelie  Torgersen            35.1           19.4              193.0   \n",
       "127  Adelie  Torgersen            41.5           18.3              195.0   \n",
       "\n",
       "     body_mass_g   sex  year  \n",
       "7         4675.0  male  2007  \n",
       "9         4250.0   NaN  2007  \n",
       "14        4400.0  male  2007  \n",
       "17        4500.0  male  2007  \n",
       "19        4200.0  male  2007  \n",
       "69        4450.0  male  2008  \n",
       "73        4150.0  male  2008  \n",
       "75        4250.0  male  2008  \n",
       "81        4700.0  male  2008  \n",
       "83        4200.0  male  2008  \n",
       "127       4300.0  male  2009  "
      ],
      "text/html": "<div>\n<style scoped>\n    .dataframe tbody tr th:only-of-type {\n        vertical-align: middle;\n    }\n\n    .dataframe tbody tr th {\n        vertical-align: top;\n    }\n\n    .dataframe thead th {\n        text-align: right;\n    }\n</style>\n<table border=\"1\" class=\"dataframe\">\n  <thead>\n    <tr style=\"text-align: right;\">\n      <th></th>\n      <th>species</th>\n      <th>island</th>\n      <th>bill_length_mm</th>\n      <th>bill_depth_mm</th>\n      <th>flipper_length_mm</th>\n      <th>body_mass_g</th>\n      <th>sex</th>\n      <th>year</th>\n    </tr>\n  </thead>\n  <tbody>\n    <tr>\n      <th>7</th>\n      <td>Adelie</td>\n      <td>Torgersen</td>\n      <td>39.2</td>\n      <td>19.6</td>\n      <td>195.0</td>\n      <td>4675.0</td>\n      <td>male</td>\n      <td>2007</td>\n    </tr>\n    <tr>\n      <th>9</th>\n      <td>Adelie</td>\n      <td>Torgersen</td>\n      <td>42.0</td>\n      <td>20.2</td>\n      <td>190.0</td>\n      <td>4250.0</td>\n      <td>NaN</td>\n      <td>2007</td>\n    </tr>\n    <tr>\n      <th>14</th>\n      <td>Adelie</td>\n      <td>Torgersen</td>\n      <td>34.6</td>\n      <td>21.1</td>\n      <td>198.0</td>\n      <td>4400.0</td>\n      <td>male</td>\n      <td>2007</td>\n    </tr>\n    <tr>\n      <th>17</th>\n      <td>Adelie</td>\n      <td>Torgersen</td>\n      <td>42.5</td>\n      <td>20.7</td>\n      <td>197.0</td>\n      <td>4500.0</td>\n      <td>male</td>\n      <td>2007</td>\n    </tr>\n    <tr>\n      <th>19</th>\n      <td>Adelie</td>\n      <td>Torgersen</td>\n      <td>46.0</td>\n      <td>21.5</td>\n      <td>194.0</td>\n      <td>4200.0</td>\n      <td>male</td>\n      <td>2007</td>\n    </tr>\n    <tr>\n      <th>69</th>\n      <td>Adelie</td>\n      <td>Torgersen</td>\n      <td>41.8</td>\n      <td>19.4</td>\n      <td>198.0</td>\n      <td>4450.0</td>\n      <td>male</td>\n      <td>2008</td>\n    </tr>\n    <tr>\n      <th>73</th>\n      <td>Adelie</td>\n      <td>Torgersen</td>\n      <td>45.8</td>\n      <td>18.9</td>\n      <td>197.0</td>\n      <td>4150.0</td>\n      <td>male</td>\n      <td>2008</td>\n    </tr>\n    <tr>\n      <th>75</th>\n      <td>Adelie</td>\n      <td>Torgersen</td>\n      <td>42.8</td>\n      <td>18.5</td>\n      <td>195.0</td>\n      <td>4250.0</td>\n      <td>male</td>\n      <td>2008</td>\n    </tr>\n    <tr>\n      <th>81</th>\n      <td>Adelie</td>\n      <td>Torgersen</td>\n      <td>42.9</td>\n      <td>17.6</td>\n      <td>196.0</td>\n      <td>4700.0</td>\n      <td>male</td>\n      <td>2008</td>\n    </tr>\n    <tr>\n      <th>83</th>\n      <td>Adelie</td>\n      <td>Torgersen</td>\n      <td>35.1</td>\n      <td>19.4</td>\n      <td>193.0</td>\n      <td>4200.0</td>\n      <td>male</td>\n      <td>2008</td>\n    </tr>\n    <tr>\n      <th>127</th>\n      <td>Adelie</td>\n      <td>Torgersen</td>\n      <td>41.5</td>\n      <td>18.3</td>\n      <td>195.0</td>\n      <td>4300.0</td>\n      <td>male</td>\n      <td>2009</td>\n    </tr>\n  </tbody>\n</table>\n</div>"
     },
     "metadata": {},
     "execution_count": 6
    }
   ],
   "source": [
    "# All penguins on Torgersen with body mass greater than 4000g"
   ]
  },
  {
   "source": [
    "  2. For the following code cells, find the correct values"
   ],
   "cell_type": "markdown",
   "metadata": {}
  },
  {
   "cell_type": "code",
   "execution_count": 14,
   "metadata": {},
   "outputs": [
    {
     "output_type": "execute_result",
     "data": {
      "text/plain": [
       "count    51.000000\n",
       "mean     18.429412\n",
       "std       1.339447\n",
       "min      15.900000\n",
       "25%      17.350000\n",
       "50%      18.400000\n",
       "75%      19.250000\n",
       "max      21.500000\n",
       "Name: bill_depth_mm, dtype: float64"
      ]
     },
     "metadata": {},
     "execution_count": 14
    }
   ],
   "source": [
    "# Descriptive statistics for the bill depth of Adelie penguins on Torgersen"
   ]
  },
  {
   "cell_type": "code",
   "execution_count": 15,
   "metadata": {},
   "outputs": [
    {
     "output_type": "execute_result",
     "data": {
      "text/plain": [
       "island     species  \n",
       "Biscoe     Gentoo       124\n",
       "           Adelie        44\n",
       "Dream      Chinstrap     68\n",
       "           Adelie        56\n",
       "Torgersen  Adelie        52\n",
       "Name: species, dtype: int64"
      ]
     },
     "metadata": {},
     "execution_count": 15
    }
   ],
   "source": [
    "# Number of each species of penguin on each island"
   ]
  },
  {
   "cell_type": "code",
   "execution_count": 17,
   "metadata": {},
   "outputs": [
    {
     "output_type": "execute_result",
     "data": {
      "text/plain": [
       "                   bill_length_mm  bill_depth_mm  flipper_length_mm  \\\n",
       "bill_length_mm           1.000000      -0.235053           0.656181   \n",
       "bill_depth_mm           -0.235053       1.000000          -0.583851   \n",
       "flipper_length_mm        0.656181      -0.583851           1.000000   \n",
       "body_mass_g              0.595110      -0.471916           0.871202   \n",
       "year                     0.054545      -0.060354           0.169675   \n",
       "\n",
       "                   body_mass_g      year  \n",
       "bill_length_mm        0.595110  0.054545  \n",
       "bill_depth_mm        -0.471916 -0.060354  \n",
       "flipper_length_mm     0.871202  0.169675  \n",
       "body_mass_g           1.000000  0.042209  \n",
       "year                  0.042209  1.000000  "
      ],
      "text/html": "<div>\n<style scoped>\n    .dataframe tbody tr th:only-of-type {\n        vertical-align: middle;\n    }\n\n    .dataframe tbody tr th {\n        vertical-align: top;\n    }\n\n    .dataframe thead th {\n        text-align: right;\n    }\n</style>\n<table border=\"1\" class=\"dataframe\">\n  <thead>\n    <tr style=\"text-align: right;\">\n      <th></th>\n      <th>bill_length_mm</th>\n      <th>bill_depth_mm</th>\n      <th>flipper_length_mm</th>\n      <th>body_mass_g</th>\n      <th>year</th>\n    </tr>\n  </thead>\n  <tbody>\n    <tr>\n      <th>bill_length_mm</th>\n      <td>1.000000</td>\n      <td>-0.235053</td>\n      <td>0.656181</td>\n      <td>0.595110</td>\n      <td>0.054545</td>\n    </tr>\n    <tr>\n      <th>bill_depth_mm</th>\n      <td>-0.235053</td>\n      <td>1.000000</td>\n      <td>-0.583851</td>\n      <td>-0.471916</td>\n      <td>-0.060354</td>\n    </tr>\n    <tr>\n      <th>flipper_length_mm</th>\n      <td>0.656181</td>\n      <td>-0.583851</td>\n      <td>1.000000</td>\n      <td>0.871202</td>\n      <td>0.169675</td>\n    </tr>\n    <tr>\n      <th>body_mass_g</th>\n      <td>0.595110</td>\n      <td>-0.471916</td>\n      <td>0.871202</td>\n      <td>1.000000</td>\n      <td>0.042209</td>\n    </tr>\n    <tr>\n      <th>year</th>\n      <td>0.054545</td>\n      <td>-0.060354</td>\n      <td>0.169675</td>\n      <td>0.042209</td>\n      <td>1.000000</td>\n    </tr>\n  </tbody>\n</table>\n</div>"
     },
     "metadata": {},
     "execution_count": 17
    }
   ],
   "source": [
    "# Correlation between flipper length and bill length for all penguins"
   ]
  },
  {
   "cell_type": "code",
   "execution_count": 29,
   "metadata": {},
   "outputs": [
    {
     "output_type": "execute_result",
     "data": {
      "text/plain": [
       "                             flipper_length_mm  bill_length_mm\n",
       "species                                                       \n",
       "Adelie    flipper_length_mm           1.000000        0.325785\n",
       "          bill_length_mm              0.325785        1.000000\n",
       "Chinstrap flipper_length_mm           1.000000        0.471607\n",
       "          bill_length_mm              0.471607        1.000000\n",
       "Gentoo    flipper_length_mm           1.000000        0.661162\n",
       "          bill_length_mm              0.661162        1.000000"
      ],
      "text/html": "<div>\n<style scoped>\n    .dataframe tbody tr th:only-of-type {\n        vertical-align: middle;\n    }\n\n    .dataframe tbody tr th {\n        vertical-align: top;\n    }\n\n    .dataframe thead th {\n        text-align: right;\n    }\n</style>\n<table border=\"1\" class=\"dataframe\">\n  <thead>\n    <tr style=\"text-align: right;\">\n      <th></th>\n      <th></th>\n      <th>flipper_length_mm</th>\n      <th>bill_length_mm</th>\n    </tr>\n    <tr>\n      <th>species</th>\n      <th></th>\n      <th></th>\n      <th></th>\n    </tr>\n  </thead>\n  <tbody>\n    <tr>\n      <th rowspan=\"2\" valign=\"top\">Adelie</th>\n      <th>flipper_length_mm</th>\n      <td>1.000000</td>\n      <td>0.325785</td>\n    </tr>\n    <tr>\n      <th>bill_length_mm</th>\n      <td>0.325785</td>\n      <td>1.000000</td>\n    </tr>\n    <tr>\n      <th rowspan=\"2\" valign=\"top\">Chinstrap</th>\n      <th>flipper_length_mm</th>\n      <td>1.000000</td>\n      <td>0.471607</td>\n    </tr>\n    <tr>\n      <th>bill_length_mm</th>\n      <td>0.471607</td>\n      <td>1.000000</td>\n    </tr>\n    <tr>\n      <th rowspan=\"2\" valign=\"top\">Gentoo</th>\n      <th>flipper_length_mm</th>\n      <td>1.000000</td>\n      <td>0.661162</td>\n    </tr>\n    <tr>\n      <th>bill_length_mm</th>\n      <td>0.661162</td>\n      <td>1.000000</td>\n    </tr>\n  </tbody>\n</table>\n</div>"
     },
     "metadata": {},
     "execution_count": 29
    }
   ],
   "source": [
    "# Correlation between flipper length and bill length per species of penguin"
   ]
  },
  {
   "source": [
    "# Intro to Probability\n",
    "As we've discussed previously, one way of dealing with bias in statistics is through **randomness**, especially when thinking about sampling from a sample frame. We can analyze the randomness in our datasets and make inferences about the population based on probabilities.\n",
    "\n",
    "\n",
    "## Vocabulary and Basics\n",
    "Probability is based on the *long-run* behaviour of random events. Let's look at an example that everyone is familiar with: rolling a single 6-sided die.\n"
   ],
   "cell_type": "markdown",
   "metadata": {}
  },
  {
   "source": [
    "  3. The die is rolled once. What is the set of all possible outcomes of this roll? This set is called the **sample space**.\n",
    "  "
   ],
   "cell_type": "markdown",
   "metadata": {}
  },
  {
   "source": [
    "4. An **event** refers to a particular outcome of a random phenomenon. More specifically, an **event** refers to a *subset* of the sample space. For example, \"rolling a 5\" or \"rolling greater than 3\" are considered to be events. Give another example of an event."
   ],
   "cell_type": "markdown",
   "metadata": {}
  },
  {
   "source": [
    "  5. Find the following probabilities:  \n",
    "    a. P(rolling a 3)  \n",
    "\n",
    "    b. P(not rolling a 3)  \n",
    "\n",
    "    c. P(rolling a number between 0 and 7)  \n"
   ],
   "cell_type": "markdown",
   "metadata": {}
  },
  {
   "source": [
    "6. Explain how you calculated the answers to (5) using the terminology of events and sample spaces.\n"
   ],
   "cell_type": "markdown",
   "metadata": {}
  },
  {
   "source": [
    "7. If you roll a die 12 times in a row, do you expect to see each number from 1-6 exactly twice? Why or why not?\n"
   ],
   "cell_type": "markdown",
   "metadata": {}
  },
  {
   "source": [
    "8. If you roll a die 120 times, roughly how many times do you expect to see 5 rolled?"
   ],
   "cell_type": "markdown",
   "metadata": {}
  },
  {
   "source": [
    "9. In those 120 rolls, would you be surprised to see 5 rolled 23 times? What if it was rolled 87 times?"
   ],
   "cell_type": "markdown",
   "metadata": {}
  },
  {
   "source": [
    "## Simulation\n",
    "It is usually impossible for us to know the exactly probability of an event. We can think about the **theoretical probability**, as we have been doing in the last few questions, but those are only accurate if we live in an ideal world, which we do not. Thus, we usually have to gather information through **experimental probability**. One way of doing so is via simulation. \n",
    "\n",
    "For example, we can simulate rolling a perfect fair die 120 times to check our answers for questions (7) - (9)."
   ],
   "cell_type": "markdown",
   "metadata": {}
  },
  {
   "source": [
    "  10. Write code that will simulate rolling a 6-sided die 120 times. Keep track of the cumulative proportion of 5s. In other words, keep track of the number of 5s divided by how many rolls have been made so far. What do you estimate the final cumulative proportion to be?"
   ],
   "cell_type": "markdown",
   "metadata": {}
  },
  {
   "cell_type": "code",
   "execution_count": null,
   "metadata": {},
   "outputs": [],
   "source": []
  },
  {
   "source": [
    "  11. Modify your code so that the die is rolled 1200 times, then 12000, then 120000. What happens to the final cumulative proportion as you increase the number of rolls?"
   ],
   "cell_type": "markdown",
   "metadata": {}
  },
  {
   "source": [
    "## The Law of Large Numbers\n",
    "When we think about randomness in the context of *experimental probability*, the **probability** of an event is the number that the cumulative proportion approaches in the long run."
   ],
   "cell_type": "markdown",
   "metadata": {}
  },
  {
   "source": [
    "## Probability Practice\n",
    "Answer the following questions. You may add code cells and write code if that will help you answer the question."
   ],
   "cell_type": "markdown",
   "metadata": {}
  },
  {
   "source": [
    "  12. Your friend flips a two-sided coin repeatedly to test whether the probability of heads is 1/2. The coin is flipped 10 times, and it lands on heads 2 times. Your friend comes to the conclusion that this coin isn't fair, since the probability of heads is 2/10 = 0.2\n",
    "  \n",
    "    a. What's wrong with your friend's claim?  \n",
    "\n",
    "    b. If the coin actually is fair, how would you prove it to your friend?  \n",
    "    "
   ],
   "cell_type": "markdown",
   "metadata": {}
  },
  {
   "source": [
    "  13. A researcher is conducting a study on the proportion of adults in the US who are in favor of mandatory covid vaccinations. The researcher comments that because of the law of large numbers, the sampling method doesn't matter as long as the sample size is large enough. Explain why this claim is incorrect.\n",
    "  "
   ],
   "cell_type": "markdown",
   "metadata": {}
  },
  {
   "source": [
    "14. A market analyst is trying to model what will happen to a particular company's stock price. Let's say that we know for certain that each new day, the company's stock price has a 1/2 chance of going up, and a 1/2 chance of going down. Write code that models what happens to this company's stock price over the period of 75 days. What patterns do you notice? Would these patterns be the same if you ran the model again and again?\n"
   ],
   "cell_type": "markdown",
   "metadata": {}
  },
  {
   "cell_type": "code",
   "execution_count": null,
   "metadata": {},
   "outputs": [],
   "source": []
  },
  {
   "source": [
    "15. Your friend wants to make a bet with you: a fair coin will be flipped. If it lands on heads, you get a cup of coffee, but if it lands on tails, you lose a cup of coffee. The coin is flipped 2000 times. How many cups of coffee do you expect to have at the end?\n"
   ],
   "cell_type": "markdown",
   "metadata": {}
  }
 ]
}