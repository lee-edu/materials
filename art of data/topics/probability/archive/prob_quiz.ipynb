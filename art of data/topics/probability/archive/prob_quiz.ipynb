{
 "metadata": {
  "language_info": {
   "codemirror_mode": {
    "name": "ipython",
    "version": 3
   },
   "file_extension": ".py",
   "mimetype": "text/x-python",
   "name": "python",
   "nbconvert_exporter": "python",
   "pygments_lexer": "ipython3",
   "version": "3.9.1"
  },
  "orig_nbformat": 2,
  "kernelspec": {
   "name": "python391jvsc74a57bd06e942df4d85f9e057d39df3ee298da62417367022ee9076991545a9f83591799",
   "display_name": "Python 3.9.1 64-bit ('3.9.1': pyenv)"
  },
  "metadata": {
   "interpreter": {
    "hash": "6e942df4d85f9e057d39df3ee298da62417367022ee9076991545a9f83591799"
   }
  }
 },
 "nbformat": 4,
 "nbformat_minor": 2,
 "cells": [
  {
   "source": [
    "# Probability Quiz\n",
    "Answer the following questions. You may write code and add code cells to help you answer the questions."
   ],
   "cell_type": "markdown",
   "metadata": {}
  },
  {
   "source": [
    "## Question 1\n",
    "I have a jar full of jellybeans. There are 23 red jellybeans, 48 green jellybeans, and 12 blue jellybeans.\n",
    "\n",
    "Let J = the colors of two jellybeans taken from the jar with replacement  \n",
    "The order matters!\n",
    "\n",
    "  a. What is the sample space?\n",
    "\n",
    "  b. What is the probability of getting two red jellybeans?\n",
    "\n",
    "  c. What is the probability of getting at least one green or exactly one blue jellybean?\n",
    "  "
   ],
   "cell_type": "markdown",
   "metadata": {}
  },
  {
   "source": [
    "## Question 2\n",
    "A basketball player is practicing their free throws. Their record shows that they have a 85% chance of getting the ball in.\n",
    "\n",
    "a. What is the probability of getting at least one ball in after 4 tries?\n",
    "\n",
    "b. How many tries would it take to be 99.9999999999999% sure that they will get at least one ball in?"
   ],
   "cell_type": "markdown",
   "metadata": {}
  },
  {
   "cell_type": "code",
   "execution_count": 8,
   "metadata": {},
   "outputs": [
    {
     "output_type": "execute_result",
     "data": {
      "text/plain": [
       "18.205899821875693"
      ]
     },
     "metadata": {},
     "execution_count": 8
    }
   ],
   "source": [
    "x = 0\n",
    "while 1 - (.15)**x <= .999999999999999:\n",
    "    x += 1\n",
    "x\n",
    "\n",
    "import math\n",
    "math.log(.000000000000001, .15)"
   ]
  },
  {
   "source": [
    "## Question 3\n",
    "The code below describes the probability distribution for some random variable X.\n",
    "\n",
    "  a. What is the sample space?\n",
    "\n",
    "  b. What is the expected value of X?\n",
    "    "
   ],
   "cell_type": "markdown",
   "metadata": {}
  },
  {
   "cell_type": "code",
   "execution_count": 17,
   "metadata": {},
   "outputs": [],
   "source": [
    "import numpy as np\n",
    "\n",
    "X = np.arange(-10,51)\n",
    "Y = X**2\n",
    "Y = Y / np.sum(Y)\n",
    "\n",
    "'''\n",
    "from matplotlib import pyplot as plt\n",
    "plt.plot(X,Y)\n",
    "'''\n",
    "\n",
    "def P_X(x):\n",
    "    for i in range(len(X)):\n",
    "        if X[i] == x:\n",
    "            return Y[i]\n",
    "    return 0"
   ]
  },
  {
   "source": [
    "## Question 4\n",
    "A trading card collector purchases booster packs with the hopes of receiving super rare cards. The chance of getting a super rare card is 3%. Each booster pack contains 10 cards, and the collector records the data after purchasing 200 booster packs.\n",
    "\n",
    "Describe the sampling distribution of sample proportions of *non* super rare cards. Be sure to include details such as center, variability, and skew."
   ],
   "cell_type": "markdown",
   "metadata": {}
  },
  {
   "cell_type": "code",
   "execution_count": null,
   "metadata": {},
   "outputs": [],
   "source": [
    "sample = [10, 10, 9, 8, 9 10 10 10 9 9 10 10 8 7 6 ....]\n",
    "sample = [10/11, 1, .9, .8, .9, 1 ....]"
   ]
  },
  {
   "source": [
    "## Question 5\n",
    "I am rolling two dice: one 7-sided die and one 18-sided die. I roll the d7 first, and then I roll the d18.\n",
    "\n",
    "a. Generate a list of tuples for the sample space.\n",
    "\n",
    "b. Write a function `P_sum(n)` that returns the probability of the results of the two rolls adding up to `n`."
   ],
   "cell_type": "markdown",
   "metadata": {}
  },
  {
   "cell_type": "code",
   "execution_count": null,
   "metadata": {},
   "outputs": [],
   "source": [
    "dice1 = range(1,8)\n",
    "dice2 = range(1,19)\n",
    "\n",
    "# Tuple same as a Java array - size cannot change\n",
    "# Tuple = 2-tuple, n-tuple\n",
    "# Syntax: (e1, e2, e3 ..)\n",
    "(1+2, 2+3)\n",
    "# Tuples are immutable\n",
    "# Semantically: have a way to group expressions together\n",
    "roll = (1, 8)\n",
    "roll[0] + roll[1]\n",
    "# roll[0] = 3 #this will fail\n",
    "for x in roll:\n",
    "    print(x)\n",
    "\n",
    "roll2 = (2,10)\n",
    "rolls = (roll, roll2, (3, 11))\n",
    "\n",
    "#ss = [(1, 1), (1, 2, (1, 3)...]\n",
    "ss = []\n",
    "for i in dice1:\n",
    "    for j in dice2:\n",
    "        if checkGood(i,j):\n",
    "            ss.append((i,j))\n",
    "\n",
    "#Syntax for list comprehension:\n",
    "# [e1 _loops_ _conditionals_]\n",
    "ss = [(i,j) for i in dice1 for j in dice2 if checkGood(i,j)]\n",
    "\n",
    "X = {(i,j) | i + j = 10}"
   ]
  }
 ]
}