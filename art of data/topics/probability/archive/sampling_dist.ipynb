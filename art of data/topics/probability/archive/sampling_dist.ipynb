{
 "metadata": {
  "language_info": {
   "codemirror_mode": {
    "name": "ipython",
    "version": 3
   },
   "file_extension": ".py",
   "mimetype": "text/x-python",
   "name": "python",
   "nbconvert_exporter": "python",
   "pygments_lexer": "ipython3",
   "version": "3.9.1"
  },
  "orig_nbformat": 2,
  "kernelspec": {
   "name": "python391jvsc74a57bd06e942df4d85f9e057d39df3ee298da62417367022ee9076991545a9f83591799",
   "display_name": "Python 3.9.1 64-bit ('3.9.1': pyenv)"
  },
  "metadata": {
   "interpreter": {
    "hash": "6e942df4d85f9e057d39df3ee298da62417367022ee9076991545a9f83591799"
   }
  }
 },
 "nbformat": 4,
 "nbformat_minor": 2,
 "cells": [
  {
   "source": [
    "# Review\n",
    "  1. You are writing a Monte Carlo algorithm, and you know that it has a 95% chance of running correctly. Your friend has the answer key and will let you know when your algorithm runs correctly. What is the probability that your algorithm will give you a correct answer after:  \n",
    "    a. Running it once?\n",
    "\n",
    "    b. Running it 5 times?\n",
    "\n",
    "    c. Running it 200 times?\n",
    "    "
   ],
   "cell_type": "markdown",
   "metadata": {}
  },
  {
   "source": [
    "  2. Let X = outcome of generating a random number from 1-100 (flat distribution).  \n",
    "    a. What is the sample space?\n",
    "\n",
    "    b. What is the probability of getting a number within the range [20, 75)?\n",
    "\n",
    "    c. Write a function `P_d100(x)` for the probability distribution of X.\n",
    "    "
   ],
   "cell_type": "markdown",
   "metadata": {}
  },
  {
   "cell_type": "code",
   "execution_count": null,
   "metadata": {},
   "outputs": [],
   "source": []
  },
  {
   "source": [
    "  3. Let X = outcome of rolling a 20-sided die twice.   \n",
    "        a. What is the sample space? Use a list of tuples.  \n",
    "        *Hint: Use list generation to make the list of tuples.*\n",
    "\n",
    "        b. Write a function `P_d20_2(x)` for the probability distribution of X.\n",
    "\n",
    "        c. Write a function `P_sum(m)` that returns the probability of the two dice adding up to `n`. Use (3b) as a helper function.\n",
    "        "
   ],
   "cell_type": "markdown",
   "metadata": {}
  },
  {
   "cell_type": "code",
   "execution_count": null,
   "metadata": {},
   "outputs": [],
   "source": []
  },
  {
   "source": [
    "  4. How can we use a histogram to appoximate probability distributions for continuous variables?\n",
    "  "
   ],
   "cell_type": "markdown",
   "metadata": {}
  },
  {
   "source": [
    "  5. The code below describes the probability distribution `P_5` for some random variable X.  \n",
    "    a. What is the sample space?\n",
    "\n",
    "    b. What is P_5(130)?\n",
    "\n",
    "    c. What is the expected value of this random variable? Write code to find the answer.\n",
    "    "
   ],
   "cell_type": "markdown",
   "metadata": {}
  },
  {
   "cell_type": "code",
   "execution_count": 5,
   "metadata": {},
   "outputs": [],
   "source": [
    "import numpy as np\n",
    "\n",
    "X = np.arange(250) + 50\n",
    "Y = (X-175)**2 + 100 # Hint: try graphing this parabola!\n",
    "Y = Y / np.sum(Y)\n",
    "\n",
    "def P_5(x):\n",
    "  if 50 <= x and x <= 250:\n",
    "    return Y[x-50]\n",
    "  else:\n",
    "    return 0"
   ]
  },
  {
   "source": [
    "6. What is the difference between a sample frame and a sample space?\n"
   ],
   "cell_type": "markdown",
   "metadata": {}
  },
  {
   "source": [
    "# Why random variables?\n",
    "So far the calculations we've been doing have all depended on a *known theoretical probability*. However, most of the time we actually don't know what the real probability is -- if we did, there would be no point in doing statistics! How can random variables help us to analyze a dataset?\n",
    "\n",
    "## Penguins Are Back\n",
    "Let's suppose that our `penguins` dataset contains every single penguin on Earth. We are alien researchers from the planet of Pengalien who are interested in the average penguin bill length.\n",
    "\n",
    "  7. Fortunately for people on Earth, penguin researchers already have the data for all the penguins. What is the average bill length of all penguins on Earth?"
   ],
   "cell_type": "markdown",
   "metadata": {}
  },
  {
   "cell_type": "code",
   "execution_count": 1,
   "metadata": {},
   "outputs": [],
   "source": [
    "#!pip3 install palmerpenguins\n",
    "from palmerpenguins import load_penguins\n",
    "import pandas as pd\n",
    "\n",
    "penguins = load_penguins()"
   ]
  },
  {
   "source": [
    "  8. Unfortunately for Pengaliens, they don't have this data. All they can do is randomly beam up 5 penguins at a time.  \n",
    "    a. Write code to get a *sample* of 5 penguins.  \n",
    "    b. What is the average bill length of this sample?\n",
    "\n",
    "    c. How close did the Pengaliens get to the actual average bill length?\n",
    "    "
   ],
   "cell_type": "markdown",
   "metadata": {}
  },
  {
   "cell_type": "code",
   "execution_count": null,
   "metadata": {},
   "outputs": [],
   "source": []
  },
  {
   "source": [
    "  9. Fortunately for Pengaliens, their top engineers are upgrading their tractor beam to take more penguins at a time. In fact, they can take *n* penguins at a time.  \n",
    "    a. Write a function `sample_mean(n)` that takes a sample of n penguins and returns the mean bill length of that sample.\n",
    "    \n",
    "    b. Write a function `sample_means(N, n)` that returns a list containing the result of running `sample_mean(n)` N times.\n",
    "    \n"
   ],
   "cell_type": "markdown",
   "metadata": {}
  },
  {
   "cell_type": "code",
   "execution_count": null,
   "metadata": {},
   "outputs": [],
   "source": []
  },
  {
   "source": [
    "## Sampling Distribution of Sample Means\n",
    "\n",
    "  10. Using your code from (9): Use `seaborn` or `altair` to generate a histogram for `sample_means(10,5)`. This histogram is the **sampling distribution** of the *sample mean*; here, we're looking at N=10 samples of n=5 penguins each.  \n",
    "\n",
    "    *Hint: Change the values of N and n to answer the following questions. Use `.describe()`!*  \n",
    "    a. What happens to the sampling distribution as we increase N?\n",
    "\n",
    "    b. What happens to the sampling distribution as we increase n?\n"
   ],
   "cell_type": "markdown",
   "metadata": {}
  },
  {
   "source": [
    "  11. Let X be a *random variable* = bill length of a randomly selected penguin.  \n",
    "    a. Using your answer to (10) as reference, what is the expected value of X?  \n",
    "      *Hint: The sampling distribution can be interpreted as a probability distribution!*\n",
    "  \n",
    "    b. How far off is (11a) from (7)?\n",
    "\n",
    "    c. Does your answer to (11b) change if we increase N or n?"
   ],
   "cell_type": "markdown",
   "metadata": {}
  },
  {
   "cell_type": "code",
   "execution_count": null,
   "metadata": {},
   "outputs": [],
   "source": []
  },
  {
   "source": [
    "  12. Explain how we can use random variables to get an estimate of actual attributes of a population.\n",
    "  "
   ],
   "cell_type": "markdown",
   "metadata": {}
  },
  {
   "source": [
    "## Sampling Distribution of Sample Proportions\n",
    "We can look at other attributes other than arithmetic mean. Something else we can look at is proportion; for example, what % of all penguins are Gentoo?"
   ],
   "cell_type": "markdown",
   "metadata": {}
  },
  {
   "source": [
    "  13. The Pengaliens are back at it again, but this time they want to examine Gentoo penguins. The human researchers still have all the data, and the Pengaliens are continuing to use their improved tractor beam.  \n",
    "    a. What is the actual % of Gentoo penguins on Earth?\n",
    "\n",
    "    b. Write a function `sample_proportion(n)` that returns the % of Gentoo penguins from a sample of n penguins.\n",
    "\n",
    "    c. Write a function `sample_proportions(N,n)` that returns a list of the results of running `sample_proportion(n)` N times"
   ],
   "cell_type": "markdown",
   "metadata": {}
  },
  {
   "cell_type": "code",
   "execution_count": null,
   "metadata": {},
   "outputs": [],
   "source": []
  },
  {
   "source": [
    "  14. Similar to the sampling distribution of sample means, let X = the % of Gentoo penguins in our sample.  \n",
    "  Create a histogram to help you describe the *center* of the **sampling distributions** of *sample proportions*. How far is it from the actual percentage that you calculated in (13a)?"
   ],
   "cell_type": "markdown",
   "metadata": {}
  },
  {
   "cell_type": "code",
   "execution_count": null,
   "metadata": {},
   "outputs": [],
   "source": []
  },
  {
   "source": [
    "# Central Limit Theorem\n",
    "As you may have noticed, the more samples you take, the more symmetrical and non-skewed the histograms become. The **Central Limit Theorem** states that as you increase the sample size, the sampling distribution of those samples approaches a *normal* distribution. From this, we can infer that the expected value of the mean of the sampling distribution will appoach the population parameter that we are looking for.\n",
    "\n",
    "If this sounds like a lot, don't worry!! It will be explained in class."
   ],
   "cell_type": "markdown",
   "metadata": {}
  },
  {
   "source": [
    "# Practice\n",
    "15. An entomologist is researching cicadas, and since billions of Brood X cicadas are coming this year, they have the perfect chance to get samples. Their first study consists of 100 samples of 10 cicadas each; the sampling distribution of the sample mean of cicada wingspan has a mean of 18cm and a standard deviation of 1cm.\n",
    "\n",
    "    a. Interpret these statistics. Would you be surprised to find a cicada with a wingspan of 18.5cm? What about 21cm?\n",
    "\n",
    "    b. What would happen to the standard deviation if 1000 samples were taken instead of 100?\n"
   ],
   "cell_type": "markdown",
   "metadata": {}
  },
  {
   "source": [
    "  16. A linguist conducts a survey at school to see how many students can speak more than one language. After a sample of 200 students, the linguist arrives at a sample proportion of 25%. How might information (such as the mean or standard deviation) about the sampling distribution of the sample proportion help the linguist determine the accuracy of the survey?\n"
   ],
   "cell_type": "markdown",
   "metadata": {}
  },
  {
   "source": [
    "17. A candy enthusiast has a particular dislike of sour candies. As a gift, their friend buys them a big assortment of candy, but 5% of the candy within this bag is sour. Describe what the sampling distribution of the sample proportion would look like after taking 1000 samples (center, variability, skew)."
   ],
   "cell_type": "markdown",
   "metadata": {}
  }
 ]
}