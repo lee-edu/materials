{
 "cells": [
  {
   "cell_type": "markdown",
   "metadata": {},
   "source": [
    "# Bivariate Analysis\n",
    "So far we've examined several ways to describe a single variable; how can we interpret the relationship between two variables?"
   ]
  },
  {
   "cell_type": "markdown",
   "metadata": {},
   "source": [
    "Make sure to install the `seaborn` module in your terminal before running this worksheet!\n",
    "\n",
    "`pip3 install seaborn` or `pip3 install --user seaborn`"
   ]
  },
  {
   "cell_type": "code",
   "execution_count": null,
   "metadata": {},
   "outputs": [],
   "source": [
    "# Initialization\n",
    "import pandas as pd\n",
    "import seaborn as sns\n",
    "PENGUIN_PATH = \"../../Datasets/penguins.csv\"  # CHANGE THIS!\n",
    "\n",
    "penguins = pd.read_csv(PENGUIN_PATH)\n",
    "adelie_gentoo = penguins[penguins[\"species\"] != \"Chinstrap\"]\n",
    "gentoo = penguins[penguins[\"species\"] == \"Gentoo\"]\n"
   ]
  },
  {
   "cell_type": "markdown",
   "metadata": {},
   "source": [
    "## One Quantitative & One Categorical Variable\n",
    "1. Examine the following **side-by-side violin plot.** Compare/contrast the bill lengths of _Gentoo_ penguins with those of _Adelie_ penguins. Use the vocabulary introduced in previous worksheets. What can you conclude about the relationship between species and bill length?"
   ]
  },
  {
   "cell_type": "code",
   "execution_count": null,
   "metadata": {},
   "outputs": [],
   "source": [
    "sns.violinplot(data=adelie_gentoo, y=\"species\",\n",
    "               x=\"bill_length_mm\", hue=\"species\")\n"
   ]
  },
  {
   "cell_type": "markdown",
   "metadata": {},
   "source": [
    "## Two Categorical Variables"
   ]
  },
  {
   "cell_type": "markdown",
   "metadata": {},
   "source": [
    "1. How can you statistically describe a single categorical variable?"
   ]
  },
  {
   "cell_type": "markdown",
   "metadata": {},
   "source": [
    "2. You are helping to plan a bake sale. Since you're taking Art of Data, you're tasked with making a data-based decision about cookies. You send out a survey that asks two things: (1) What grade are you in? (2) Do you like cookies?\n",
    "    1. Suppose that you've done prior research, and studies show that roughly 60% of all people like cookies. What % of your survey results do you expect to be \"likes cookies\"?\n",
    "    2. You're interested in whether a student's grade has an effect on whether they like cookies. Suppose the _null hypothesis_ is true: that grade _does not_ affect cookie-liking. What % of 9th graders do you expect to like cookies? What about the other grades?\n",
    "    3. Now suppost that the _alternative hypothesis_ is true: a student's grade _does_ affect cookie-liking. What patterns or differences do you expect to see in the % of students in each grade who like cookies?"
   ]
  },
  {
   "cell_type": "markdown",
   "metadata": {},
   "source": [
    "### Contingency Tables and Probability\n",
    "Here are the survey results! This format is called a **contingency table**. The rows represent the values of one categorical variable, while the columns represent the values of another. Each **cell** contains the _frequency_ of observations that have _both_ properties.\n",
    "\n",
    "|**Students**| Grade 9 | Grade 10 | Grade 11 | Grade 12 | **Total**|\n",
    "|:--:|:--:|:--:|:--:|:--:|:--:|\n",
    "| Likes cookies| 49 | 50 | 46 | 48 | 193 |\n",
    "| Dislikes cookies | 29 | 29 | 36 | 32 | 126 |\n",
    "|**Total**| 78 | 79 | 82 | 80 | 319 |"
   ]
  },
  {
   "cell_type": "markdown",
   "metadata": {},
   "source": [
    "1. Based on the contingency table:\n",
    "   1. What are the two categorical variables?\n",
    "   2. How many students like cookies and are in 9th grade?\n",
    "   3. How many students dislike cookies?\n",
    "   4. How many students are there in total?"
   ]
  },
  {
   "cell_type": "markdown",
   "metadata": {},
   "source": [
    "2. For a given sample, the **probability** of an **event** can be calculated as follows:  \n",
    "   `P(event) = observations of interest / total numnber of observations`  \n",
    "   E.g. the probability that a randomly selected student dislikes cookies is 126/319\n",
    "    1. What is the probability that a randomly selected student is in 12th grade? (Denoted `P(12th grade)`)\n",
    "    2. If a student in 11th grade is randomly selected, what is the probability that they dislike cookies? (denoted `P(dislike cookies | 11th grade)`)\n",
    "    3. What is `P(likes cookies | 9th grade)`?"
   ]
  },
  {
   "cell_type": "markdown",
   "metadata": {},
   "source": [
    "### Conditional Proportions\n",
    "We can continue to calculate probabilities for each cell. These probabilities are called **conditional proportions**, since they are _conditional_ on a certain variable (in this example, grade level). **n** denotes the sample size that was used to calculate the proportions.\n",
    "\n",
    "|**Students**| Grade 9 | Grade 10 | Grade 11 | Grade 12 |\n",
    "|:--:|:--:|:--:|:--:|:--:|\n",
    "| Likes cookies| `49/78 = .628` | `.633` | `.561` | `???` |\n",
    "| Dislikes cookies | `.372` | `???` | `.439` | `???` |\n",
    "|**Total**| `1.00` | `1.00` | `1.00` | `1.00` |\n",
    "|**n**| 78 | 79 | 82 | 80 |"
   ]
  },
  {
   "cell_type": "markdown",
   "metadata": {},
   "source": [
    "1. Complete the table by replacing the `???`."
   ]
  },
  {
   "cell_type": "markdown",
   "metadata": {},
   "source": [
    "2. Based on the conditional proportions, do you like an **association** exists between a student'r grade and whether they like cookies? In other words, do the numbers support the _null hypothesis_ or the _alternative hypothesis_?"
   ]
  },
  {
   "cell_type": "markdown",
   "metadata": {},
   "source": [
    "3. (_Reflect_) How can we use contingency tables to analyze the relationship between two categorical variables?"
   ]
  },
  {
   "cell_type": "markdown",
   "metadata": {},
   "source": [
    "4. We can represent these tables using 2D lists / arrays / dictionaries. These are commonly reffered to as **matrices** (**matrix** singular). Write a function that takes in a contingency table, and returns a matrix of conditional proportions. The choice of data structure is up to you."
   ]
  },
  {
   "cell_type": "markdown",
   "metadata": {},
   "source": [
    "## Two Quantitative Variables"
   ]
  },
  {
   "cell_type": "markdown",
   "metadata": {},
   "source": [
    "1. Why are contingency tables not a good tool for analyzing the relationship between two _quantitative_ variables?"
   ]
  },
  {
   "cell_type": "markdown",
   "metadata": {},
   "source": [
    "2. Shown below is a **scatterplot** that tracks the bill lengths and depths of Gento penguins. Each **point** on the plot represents one observation. What do you notice?"
   ]
  },
  {
   "cell_type": "code",
   "execution_count": null,
   "metadata": {},
   "outputs": [],
   "source": [
    "sns.scatterplot(data=gentoo, x=\"bill_length_mm\", y=\"bill_depth_mm\")\n"
   ]
  },
  {
   "cell_type": "markdown",
   "metadata": {},
   "source": [
    "3. By using colors, we can show how the relationship between two quantiative variables differs between categories. For example, the scatterplot below plots bill lengths and depths for all three species. What do you notice?"
   ]
  },
  {
   "cell_type": "code",
   "execution_count": null,
   "metadata": {},
   "outputs": [],
   "source": [
    "sns.scatterplot(data=penguins, x=\"bill_length_mm\",\n",
    "                y=\"bill_depth_mm\", hue=\"species\")\n"
   ]
  },
  {
   "cell_type": "markdown",
   "metadata": {},
   "source": [
    "## Anscombe's Quartet\n",
    "![Ancsombe's quartet](img/anscombe.png)\n",
    "\n",
    "| **Property** | **Value**|\n",
    "|:--|:-:|\n",
    "| Mean of x| 9 |\n",
    "| Sample variance of x | 11 |\n",
    "| Mean of y | 7.50 |\n",
    "| Sample variance of y | 4.125 |\n",
    "| Correlation between x and y | 0.816|\n",
    "| Linear regression line | y = 0.500x + 3.00 |"
   ]
  },
  {
   "cell_type": "markdown",
   "metadata": {},
   "source": [
    "1. Pictured above is a set of scatterplots called **Anscombe's Quartet.** The summary statistics for each dataset are almost exactly the same. What do the scatterplots show that the numbers don't?"
   ]
  }
 ],
 "metadata": {
  "interpreter": {
   "hash": "aee8b7b246df8f9039afb4144a1f6fd8d2ca17a180786b69acc140d282b71a49"
  },
  "kernelspec": {
   "display_name": "Python 3.9.7 64-bit",
   "language": "python",
   "name": "python3"
  },
  "language_info": {
   "codemirror_mode": {
    "name": "ipython",
    "version": 3
   },
   "file_extension": ".py",
   "mimetype": "text/x-python",
   "name": "python",
   "nbconvert_exporter": "python",
   "pygments_lexer": "ipython3",
   "version": "3.9.7"
  },
  "orig_nbformat": 4
 },
 "nbformat": 4,
 "nbformat_minor": 2
}
