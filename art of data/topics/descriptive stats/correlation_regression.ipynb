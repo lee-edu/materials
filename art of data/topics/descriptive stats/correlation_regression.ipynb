{
 "cells": [
  {
   "cell_type": "markdown",
   "metadata": {},
   "source": [
    "# Correlation\n",
    "![examples of scatterplots with different correlations](img/correlations.png)\n",
    "\n",
    "Images are from [https://www.mathisfun.com](https://www.mathisfun.com)"
   ]
  },
  {
   "cell_type": "markdown",
   "metadata": {},
   "source": [
    "1. Based on the images above, what does the value of **correlation** tell us? What about the sign?"
   ]
  },
  {
   "cell_type": "markdown",
   "metadata": {},
   "source": [
    "2. Examine the scatterplot below. Why is the correlation 0, even though there's a clear relationship?"
   ]
  },
  {
   "cell_type": "markdown",
   "metadata": {},
   "source": [
    "![scatterplot with quadratic relationship](img/quadratic.png)"
   ]
  },
  {
   "cell_type": "markdown",
   "metadata": {},
   "source": [
    "3. Why is it important to look at _both_ the correlation _and_ the scatterplot?"
   ]
  },
  {
   "cell_type": "markdown",
   "metadata": {},
   "source": [
    "4. How do you use `pandas` to calculate correlation? Look up documentation to figure out the correlation between bill length and bill depth for Gentoo penguins."
   ]
  },
  {
   "cell_type": "code",
   "execution_count": null,
   "metadata": {},
   "outputs": [],
   "source": [
    "import pandas as pd\n",
    "penguins = pd.read_csv(\"../../Datasets/penguins.csv\") # Change the path"
   ]
  },
  {
   "cell_type": "markdown",
   "metadata": {},
   "source": [
    "# Regression"
   ]
  },
  {
   "cell_type": "markdown",
   "metadata": {},
   "source": [
    "1. Pictured below is a scatterplot and its **regression line**, also called **line of best fit.** The correlation of these two variables is `-0.1098`. Is the **regression line** a good representation of the relationship between these two variables? Why or why not?"
   ]
  },
  {
   "cell_type": "markdown",
   "metadata": {},
   "source": [
    "![scatterplot with regression line](img/regression1.png)"
   ]
  },
  {
   "cell_type": "markdown",
   "metadata": {},
   "source": [
    "2. Pictured below is another scatterplot and regression line. The correlation of these two variables is `0.8982`. Is the regression line a good representation of the relationship between these two variables? Why or why not?"
   ]
  },
  {
   "cell_type": "markdown",
   "metadata": {},
   "source": [
    "![scatterplot with regression line](img/regression2.png)"
   ]
  },
  {
   "cell_type": "markdown",
   "metadata": {},
   "source": [
    "3. (_Reflect_) WHen is a regression line useful? When is it not?"
   ]
  }
 ],
 "metadata": {
  "language_info": {
   "name": "python"
  },
  "orig_nbformat": 4
 },
 "nbformat": 4,
 "nbformat_minor": 2
}
