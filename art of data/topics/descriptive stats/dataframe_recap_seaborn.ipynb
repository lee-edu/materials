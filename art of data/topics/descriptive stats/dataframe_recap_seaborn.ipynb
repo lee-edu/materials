{
 "cells": [
  {
   "cell_type": "markdown",
   "metadata": {},
   "source": [
    "# Dataframe Recap\n",
    "We've been working with dataframes for a while now, but it'd be nice to review everything and put all of your notes on this topic into one place!\n",
    "\n",
    "## Instructions\n",
    "In each code cell, write the appropriate code so that it does what the comment indicates!"
   ]
  },
  {
   "cell_type": "code",
   "execution_count": null,
   "metadata": {},
   "outputs": [],
   "source": [
    "# 1. Load `penguins.csv` into a dataframe"
   ]
  },
  {
   "cell_type": "markdown",
   "metadata": {},
   "source": [
    "## Filtering"
   ]
  },
  {
   "cell_type": "code",
   "execution_count": null,
   "metadata": {},
   "outputs": [],
   "source": [
    "# 2. Get only the `species` column of `penguins`"
   ]
  },
  {
   "cell_type": "code",
   "execution_count": null,
   "metadata": {},
   "outputs": [],
   "source": [
    "# 3. Get both the bill length and depth columns of `penguins`"
   ]
  },
  {
   "cell_type": "code",
   "execution_count": null,
   "metadata": {},
   "outputs": [],
   "source": [
    "# 4. Get a dataframe containing only penguins on Dream island"
   ]
  },
  {
   "cell_type": "code",
   "execution_count": null,
   "metadata": {},
   "outputs": [],
   "source": [
    "# 5. Get a dataframe containing only Adelie penguins on Torgersen island"
   ]
  },
  {
   "cell_type": "code",
   "execution_count": null,
   "metadata": {},
   "outputs": [],
   "source": [
    "# 6. Get all penguins with flipper length > 180"
   ]
  },
  {
   "cell_type": "code",
   "execution_count": null,
   "metadata": {},
   "outputs": [],
   "source": [
    "# 7. Get all penguins with bill length between 38 and 41 (inclusive)"
   ]
  },
  {
   "cell_type": "code",
   "execution_count": null,
   "metadata": {},
   "outputs": [],
   "source": [
    "# 8. Get all Chinstrap penguins with bill depth > 18"
   ]
  },
  {
   "cell_type": "markdown",
   "metadata": {},
   "source": [
    "## Description"
   ]
  },
  {
   "cell_type": "code",
   "execution_count": null,
   "metadata": {},
   "outputs": [],
   "source": [
    "# 1. What do penguins.shape and penguins.column return?"
   ]
  },
  {
   "cell_type": "code",
   "execution_count": null,
   "metadata": {},
   "outputs": [],
   "source": [
    "# 2. Get the summary statistics for Adelie penguin bill lengths"
   ]
  },
  {
   "cell_type": "markdown",
   "metadata": {},
   "source": [
    "# Basic Visualization Using Seaborn\n",
    "Once you've filtered out the relevant information, you can pass the resulting dataframe into `seaborn`, which is a visualization library.\n",
    "\n",
    "The [seaborn documentation](https://seaborn.pydata.org/api.html) will be very helpful for the following questions. Feel free to click around -- the website contains many useful tutorials and examples!"
   ]
  },
  {
   "cell_type": "code",
   "execution_count": null,
   "metadata": {},
   "outputs": [],
   "source": [
    "import seaborn as sns"
   ]
  },
  {
   "cell_type": "code",
   "execution_count": null,
   "metadata": {},
   "outputs": [],
   "source": [
    "# This example creates a scatterplot of bill length vs bill depth\n",
    "sns.scatterplot(data=penguins, x=\"bill_length_mm\", y=\"bill_depth_mm\")"
   ]
  },
  {
   "cell_type": "markdown",
   "metadata": {},
   "source": [
    "## Practice\n",
    "Try to recreate the following visualizations.\n",
    "\n",
    "Again, the `seaborn` documentation will be very useful! Check out [this post](https://medium.com/@morganjonesartist/color-guide-to-seaborn-palettes-da849406d44f) to see how to change colors."
   ]
  },
  {
   "cell_type": "markdown",
   "metadata": {},
   "source": [
    "![Histogram of Gentoo bill lengths](img/gentoohistogram.png)"
   ]
  },
  {
   "cell_type": "markdown",
   "metadata": {},
   "source": [
    "![Box plot of Adelie body mass](img/adeliebox.png)"
   ]
  },
  {
   "cell_type": "markdown",
   "metadata": {},
   "source": [
    "![Violin plot of Chinstrap flipper lengths](img/chinstrapflipper.png)"
   ]
  },
  {
   "cell_type": "markdown",
   "metadata": {},
   "source": [
    "![Scatterplot of bill length vs bill depth, categorized by species](img/penguinbills.png)"
   ]
  }
 ],
 "metadata": {
  "interpreter": {
   "hash": "0ee631a2928a28200043e7e2ad3ea045f428bc48ee7c595499c9689100883def"
  },
  "kernelspec": {
   "display_name": "Python 3.10.0 64-bit",
   "language": "python",
   "name": "python3"
  },
  "language_info": {
   "codemirror_mode": {
    "name": "ipython",
    "version": 3
   },
   "file_extension": ".py",
   "mimetype": "text/x-python",
   "name": "python",
   "nbconvert_exporter": "python",
   "pygments_lexer": "ipython3",
   "version": "3.10.0"
  },
  "orig_nbformat": 4
 },
 "nbformat": 4,
 "nbformat_minor": 2
}
